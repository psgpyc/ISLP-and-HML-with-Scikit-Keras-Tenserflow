{
 "cells": [
  {
   "cell_type": "code",
   "execution_count": 1090,
   "id": "606208ca-ffe1-47e2-82bd-21dd1e5970d9",
   "metadata": {},
   "outputs": [],
   "source": [
    "import numpy as np\n",
    "import pandas as pd\n",
    "import matplotlib.pyplot as plt\n",
    "import seaborn as sns"
   ]
  },
  {
   "cell_type": "code",
   "execution_count": 1091,
   "id": "f99c88e3-a322-4b33-afd2-cf6b880909f4",
   "metadata": {},
   "outputs": [],
   "source": [
    "from sklearn.preprocessing import FunctionTransformer, StandardScaler, OneHotEncoder\n",
    "from sklearn.impute import SimpleImputer\n",
    "from sklearn.pipeline import Pipeline\n",
    "from sklearn.compose import make_column_selector, make_column_transformer, ColumnTransformer"
   ]
  },
  {
   "cell_type": "code",
   "execution_count": 1092,
   "id": "493c4fa7-53c5-4e20-a841-97fcd557c8f4",
   "metadata": {},
   "outputs": [],
   "source": [
    "df = pd.read_csv('../../../../Datasets/home-data-for-ml-course/train.csv')\n",
    "df.drop(columns=['Id'], inplace=True)"
   ]
  },
  {
   "cell_type": "code",
   "execution_count": null,
   "id": "4716ef3f-1a5f-40fa-9068-d8f4da66f9a6",
   "metadata": {},
   "outputs": [],
   "source": []
  },
  {
   "cell_type": "markdown",
   "id": "8566a23a-44b3-477f-899a-10da4ca57b23",
   "metadata": {},
   "source": [
    "## Null Value Treatment"
   ]
  },
  {
   "cell_type": "code",
   "execution_count": 1093,
   "id": "45b3e652-31d9-4922-ac56-11d630b4d8e0",
   "metadata": {},
   "outputs": [],
   "source": [
    "def get_null_count(df):\n",
    "    null_count = {}\n",
    "    for each in df.columns:\n",
    "        null_count_each = df[each].isnull().sum()\n",
    "        if null_count_each != 0:\n",
    "            null_count[each] = [null_count_each, round((null_count_each/len(df.index))*100,2)]\n",
    "    \n",
    "    null_count_df = pd.DataFrame(null_count, index=['Nulls', '% Nulls'])\n",
    "    null_count_df = null_count_df.T.sort_values(by='Nulls', ascending=False)\n",
    "    return null_count_df"
   ]
  },
  {
   "cell_type": "code",
   "execution_count": 1094,
   "id": "bc5db53b-a17a-423f-9ed7-35a151ea4630",
   "metadata": {},
   "outputs": [],
   "source": [
    "def drop_columns(df, cols):\n",
    "    '''\n",
    "        Drops specified columns from a DataFrame.\n",
    "    \n",
    "        Parameters:\n",
    "        df (pd.DataFrame): The DataFrame from which columns will be dropped.\n",
    "        cols (list): A list of column names to drop.\n",
    "    \n",
    "        Returns:\n",
    "        df (pd.DataFrame)\n",
    "    '''   \n",
    "    df.drop(columns=cols, inplace=True)\n",
    "    return df\n",
    "\n",
    "def get_season_(month_number):\n",
    "    if month_number in [1,2,12]:\n",
    "        return \"winter\"\n",
    "    elif month_number in [3,4,5]:\n",
    "        return 'spring'\n",
    "    elif month_number in [6,7,8]:\n",
    "        return 'autumn'\n",
    "    elif month_number in [9,10,11]:\n",
    "        return 'summer'"
   ]
  },
  {
   "cell_type": "code",
   "execution_count": null,
   "id": "f80a81e8-99af-4f82-942d-458836c0db04",
   "metadata": {},
   "outputs": [],
   "source": []
  },
  {
   "cell_type": "code",
   "execution_count": 1095,
   "id": "69c51102-d10d-4341-a87a-f09e1b7f0857",
   "metadata": {},
   "outputs": [],
   "source": [
    "def fill_empty(df):\n",
    "    \"\"\"\n",
    "        Fills empty values with respective placeholder.\n",
    "\n",
    "        Parameters:\n",
    "        df (pd.DataFrame): The DataFrame from which columns will be dropped.\n",
    "        cols (list): A list of column names to drop.\n",
    "        fill_Values (list): A list of place holders. The fill value should follow the order of the cols list.\n",
    "\n",
    "        Returns:\n",
    "        df (pd.DataFrame): The DataFrame with fill values\n",
    "        \n",
    "    \n",
    "    \"\"\"\n",
    "    cols = ['Alley','Fence','FireplaceQu', 'GarageType', 'GarageFinish', 'GarageQual', 'GarageCond', 'BsmtFinType2', 'BsmtExposure', 'BsmtFinType1', 'BsmtCond', 'BsmtQual']\n",
    "    # appended_cols = [f\"preprocessing_pipelines__{val}\" for val in cols]\n",
    "    fill_values = ['No Alley', 'No Fence', 'No FirePlace', 'No', 'No','No','No', 'No', 'No','No','No', 'No' ]\n",
    "        \n",
    "    for col, fill_value in zip(cols, fill_values):\n",
    "        df.loc[:,col] = df.loc[:,col].fillna(fill_value) \n",
    "\n",
    "    return df    "
   ]
  },
  {
   "cell_type": "code",
   "execution_count": 1096,
   "id": "ae49ad92-c4ab-4ad4-bb7e-1d34bc1c4a26",
   "metadata": {},
   "outputs": [],
   "source": [
    "def fill_masvnr(df):\n",
    "    \"\"\"\n",
    "        Fills missing values in the `MasVnrType` and `MasVnrArea` columns of a DataFrame.\n",
    "        \n",
    "        This function performs the following operations:\n",
    "        \n",
    "        1. If `MasVnrArea` is `0.0`, `1.0`, or `NaN`, it replaces the corresponding `MasVnrType` with `'No Vnr'`.\n",
    "        2. Fills any remaining missing values in `MasVnrArea` with `0.0`.\n",
    "        3. Fills any remaining missing values in `MasVnrType` with `'BrkFace'`.\n",
    "        \n",
    "        Parameters:\n",
    "        -----------\n",
    "        df : pd.DataFrame\n",
    "            The input DataFrame containing `MasVnrType` and `MasVnrArea` columns.\n",
    "        col : str, optional\n",
    "            The column name to fill missing values (default is `'MasVnrType'`).\n",
    "    \n",
    "        Returns:\n",
    "        --------\n",
    "        pd.DataFrame\n",
    "            The modified DataFrame with missing values handled in `MasVnrType` and `MasVnrArea`.\n",
    "    \"\"\"\n",
    "    col='MasVnrType'\n",
    "    \n",
    "    ## replacing Vnr Type with MasVnrArea 0, with No Vnr\n",
    "    df.loc[df['MasVnrArea'] == 0.0, 'MasVnrType'] = df.loc[df['MasVnrArea'] == 0.0, 'MasVnrType'].fillna('No Vnr')\n",
    "\n",
    "    ## replacing Vnr Type with MasVnrArea 1, with No Vnr\n",
    "    df.loc[df['MasVnrArea'] == 1.0, 'MasVnrType'] = df.loc[df['MasVnrArea'] == 1.0, 'MasVnrType'].fillna('No Vnr')\n",
    "\n",
    "    ## replacing Vnr Type with MasVnrArea NaN, with No Vnr\n",
    "    df.loc[df['MasVnrArea'].isna(), 'MasVnrType'] = df.loc[df['MasVnrArea'].isna(), 'MasVnrType'].fillna('No Vnr')\n",
    "    \n",
    "    # Replacing remaining MasVnrArea with 0 since, the for type is NaN\n",
    "    df['MasVnrArea'] = df['MasVnrArea'].fillna(0)\n",
    "\n",
    "    # Replacing remaining MasVnrType with the BrkFace\n",
    "    df['MasVnrType'] = df['MasVnrType'].fillna('BrkFace')\n",
    "\n",
    "    return df  "
   ]
  },
  {
   "cell_type": "code",
   "execution_count": null,
   "id": "bacaf499-ea81-4ac7-8ae8-f71fcae9be2f",
   "metadata": {},
   "outputs": [],
   "source": []
  },
  {
   "cell_type": "code",
   "execution_count": 1097,
   "id": "dafdf6ba-5612-4fce-a985-312a5db15688",
   "metadata": {},
   "outputs": [],
   "source": [
    "fill_missing_pipeline = Pipeline([\n",
    "     ('fill_with_placeholder', FunctionTransformer(fill_empty, feature_names_out='one-to-one')),\n",
    "     ('masvnr_transform', FunctionTransformer(fill_masvnr, feature_names_out='one-to-one')),    \n",
    "])\n",
    "\n",
    "\n",
    "categorical_imputer_pipeline = Pipeline([\n",
    "    ('categorical_imputer', SimpleImputer(strategy=\"most_frequent\"))\n",
    "])\n",
    "\n",
    "numerical_imputer_pipeline = Pipeline([\n",
    "    ('numerical_imputer', SimpleImputer(strategy=\"median\"))\n",
    "])"
   ]
  },
  {
   "cell_type": "code",
   "execution_count": 1098,
   "id": "532cecb0-055a-4c71-bedc-78aacfa25b32",
   "metadata": {},
   "outputs": [],
   "source": [
    "fillna_preprocessing = ColumnTransformer(transformers=[\n",
    "   ('fill_missing_pipeline',fill_missing_pipeline, ['Alley','Fence','FireplaceQu', 'GarageType', 'GarageFinish', 'GarageQual', 'GarageCond', 'BsmtFinType2', 'BsmtExposure', 'BsmtFinType1', 'BsmtCond', 'BsmtQual','MasVnrArea', 'MasVnrType']), \n",
    "   ('categorical_imputer_pipeline', categorical_imputer_pipeline, ['Electrical', 'GarageYrBlt']),\n",
    "   ('numerical_imputer_pipeline', numerical_imputer_pipeline, ['LotFrontage']),\n",
    "    \n",
    "])"
   ]
  },
  {
   "cell_type": "code",
   "execution_count": 1099,
   "id": "ef5a7a7f-4baf-406d-9154-3392fe064a61",
   "metadata": {},
   "outputs": [],
   "source": [
    "def run_transformer_transform_colums(df):\n",
    "    df_original = df.copy()\n",
    "    processed_df = fillna_preprocessing.fit_transform(df)\n",
    "    pdf = pd.DataFrame(processed_df, columns=fillna_preprocessing.get_feature_names_out())\n",
    "    cols = [x.split('__')[-1] for x in pdf.columns]\n",
    "    df_original[cols] = pdf\n",
    "\n",
    "    return df_original"
   ]
  },
  {
   "cell_type": "markdown",
   "id": "9679777c-c10d-4748-9401-47ec1d12934e",
   "metadata": {},
   "source": [
    "## Feature Engineering Pipeline"
   ]
  },
  {
   "cell_type": "code",
   "execution_count": 1100,
   "id": "29a561b5-b11c-432e-9d88-37331fe67c17",
   "metadata": {},
   "outputs": [],
   "source": [
    "# def get_bathroom_name(function_transformer, features_names_in):\n",
    "#     return ['TotalBathrooms']\n",
    "\n",
    "# def get_features_names_out(function_transformer, features_names_in):\n",
    "#     print(features_names_in)\n",
    "#     return list(features_names_in) + ['HouseAge', 'RemodeledAge', 'TotalSquareFootage', 'TotalPorchArea', 'PricePerSF', 'TotalOutdoorSpace' ,'QualityScore']\n",
    "\n",
    "# def get_binary_flags_cloumn_names(function_transformer, features_names_in):\n",
    "#     return ['HasPorch','HasGarage','HasFirePlace','NewHouse','OldHouse' ]"
   ]
  },
  {
   "cell_type": "code",
   "execution_count": 1101,
   "id": "af34601d-decd-4953-aa1d-52d697b6f6f8",
   "metadata": {},
   "outputs": [],
   "source": [
    "def merge_bathromms(df):\n",
    "    \"\"\"\n",
    "        Merges multiple bathroom-related columns into a single column `TotalBathrooms`.\n",
    "    \n",
    "        Parameters:\n",
    "        df (pd.DataFrame): The input DataFrame.\n",
    "        \n",
    "        cols (list, optional): The list of columns to merge. Defaults to:\n",
    "            - 'FullBath': Count of full bathrooms above ground.\n",
    "            - 'HalfBath': Count of half bathrooms above ground.\n",
    "            - 'BsmtFullBath': Count of full bathrooms in the basement.\n",
    "            - 'BsmtHalfBath': Count of half bathrooms in the basement.\n",
    "    \n",
    "        Returns:\n",
    "        pd.DataFrame: The DataFrame with a new `TotalBathrooms` column and the original\n",
    "                      bathroom-related columns removed.\n",
    "        \"\"\"\n",
    "    cols = ['FullBath', 'HalfBath', 'BsmtFullBath', 'BsmtHalfBath']\n",
    "    df['TotalBathrooms'] = df['FullBath'] + (0.5 * df['HalfBath']) + df['BsmtFullBath'] + (df['BsmtHalfBath'] * 0.5)\n",
    "    df.drop(columns=cols, inplace=True)\n",
    "    return df\n",
    "\n",
    "def add_new_features(df):\n",
    "    \n",
    "    # total age of the house when it was sold\n",
    "    df['HouseAge'] = np.abs(df['YearBuilt'] - df['YrSold'])\n",
    "    \n",
    "    df['RemodeledAge'] = np.abs(df['YearBuilt'] - df['YearRemodAdd'])\n",
    "    df['TotalSquareFootage'] = df['1stFlrSF'] + df['2ndFlrSF'] + df['TotalBsmtSF']\n",
    "    df['TotalPorchArea'] = df['OpenPorchSF'] + df['EnclosedPorch'] + df['3SsnPorch'] + df['ScreenPorch']\n",
    "    df['TotalOutdoorSpace'] = df['TotalPorchArea'] + df['WoodDeckSF'] + df['PoolArea']\n",
    "    df['PricePerSF'] = df['SalePrice']/df['TotalSquareFootage']\n",
    "    # df['CarsToGarageRatio'] = df['GarageCars']/df['GarageArea'] low correlation so removed\n",
    "    df['QualityScore'] = df['OverallCond'] * df['OverallQual']\n",
    "\n",
    "    return df\n",
    "\n",
    "def add_binary_flag(df):\n",
    "    # df['HasPool'] = df['PoolArea'].apply(lambda x: 1 if x > 0 else 0) low correlation so removed\n",
    "    df['HasPorch'] = df['TotalPorchArea'].apply(lambda x: 1 if x > 0 else 0)\n",
    "    df['HasGarage'] = df['GarageArea'].apply(lambda x: 1 if x > 0 else 0)\n",
    "    df['HasFirePlace'] = df['Fireplaces'].apply(lambda x: 1 if x > 0 else 0)\n",
    "    df['NewHouse'] = df['HouseAge'].apply(lambda x: 1 if x < 10 else 0)\n",
    "    df['OldHouse'] = df['HouseAge'].apply(lambda x: 1 if x > 50 else 0)\n",
    "    return df\n",
    "\n",
    "def months_sold_to_season(df):\n",
    "    col='MoSold'\n",
    "    df['SeasonOfSale'] = df['MoSold'].apply(lambda x: get_season_(x)) \n",
    "    df.drop(columns=['MoSold'], inplace=True)\n",
    "    return df\n",
    "\n",
    "def fill_neighbour_median_price(df):\n",
    "    col='Neighborhood'\n",
    "    target=\"SalePrice\"\n",
    "    neighborhood_median_prices = df.groupby(by=col)[target].median().sort_values(ascending=False).to_dict()\n",
    "    df['NeighborhoodMedianPrices'] = df[col].map(neighborhood_median_prices)\n",
    "    df.drop(columns=col, inplace=True)\n",
    "    return df\n",
    "    \n",
    "def categorical_ordinal_numeric(df):\n",
    "    \"\"\"\n",
    "        Converts an ordinal categorical column into numerical values based on a given mapping.\n",
    "    \n",
    "        Parameters:\n",
    "        df (pd.DataFrame): The DataFrame containing the column to be transformed.\n",
    "        \n",
    "        col (str): The column name to be transformed.\n",
    "        \n",
    "        mapping (dict): A dictionary mapping categorical values to numerical values.\n",
    "    \n",
    "        Returns:\n",
    "        pd.DataFrame: The DataFrame with the transformed column.\n",
    "    \"\"\"\n",
    "    mappings = {\n",
    "        'lot_shape_mapping': {'Reg':3,'IR3':2,'IR2':1,'IR1':0},\n",
    "        'land_contor_map': {'Lvl': 3,'Bnk': 2,'HLS': 1,'Low': 0},\n",
    "        'land_slope_map': {'Gtl':2,'Mod':1,'Sev':0 },\n",
    "        'ext_quality_mapping': {'Ex': 5, 'Gd': 4, 'TA': 3, 'Fa': 2, 'Po': 1},\n",
    "        'ext_cond_quality_mapping': {'Ex': 5, 'Gd': 4, 'TA': 3, 'Fa': 2, 'Po': 1},\n",
    "        'quality_mapping_basement': {'Ex': 6, 'Gd': 5, 'TA': 4, 'Fa': 3, 'Po': 2, 'No':1},\n",
    "        'condition_mapping_basement': {'Ex': 6, 'Gd': 5, 'TA': 4, 'Fa': 3, 'Po': 2, 'No':1},\n",
    "        'fintype1_basement_mapping': {'GLQ': 7,'ALQ': 6,'BLQ': 5,'Rec': 4,'LwQ': 3,'Unf': 2,'No': 1},\n",
    "        'fintype2_basement_mapping': {'GLQ': 7,'ALQ': 6,'BLQ': 5,'Rec': 4,'LwQ': 3,'Unf': 2,'No': 1},\n",
    "    \n",
    "        'h_quality_map': {'Po': 1, 'Fa': 2, 'TA': 3, 'Gd': 4, 'Ex': 5},\n",
    "        'k_quality_map': {'Po': 1, 'Fa': 2, 'TA': 3, 'Gd': 4, 'Ex': 5},\n",
    "    \n",
    "        'g1_quality_map':{'No':1,'Po': 2, 'Fa': 3, 'TA': 4, 'Gd': 5, 'Ex': 6},\n",
    "        'g2_quality_map':{'No':1,'Po': 2, 'Fa': 3, 'TA': 4, 'Gd': 5, 'Ex': 6},\n",
    "        'f_quality_map':{'No FirePlace':1,'Po': 2, 'Fa': 3, 'TA': 4, 'Gd': 5, 'Ex': 6}\n",
    "    }\n",
    "    cols = ['LotShape', 'LandContour', 'LandSlope', 'ExterQual', 'ExterCond', 'BsmtQual', 'BsmtCond', 'BsmtFinType1', 'BsmtFinType2', 'HeatingQC', 'KitchenQual','GarageCond', 'GarageQual', 'FireplaceQu']\n",
    "    \n",
    "    for col, each_mapping in zip(cols, mappings):\n",
    "        df[col] = df[col].map(mappings[each_mapping])\n",
    "    return df\n",
    "\n",
    "def drop_less_important_features(df):\n",
    "    to_drop = ['Utilities', 'GarageYrBlt','WoodDeckSF', 'OpenPorchSF', 'EnclosedPorch', '3SsnPorch',\n",
    "       'ScreenPorch', 'PoolArea', 'MiscVal', 'YrSold']\n",
    "    df.drop(columns=to_drop, inplace=True)\n",
    "\n",
    "    return True\n",
    "    \n",
    "      "
   ]
  },
  {
   "cell_type": "code",
   "execution_count": 1102,
   "id": "7fd79fd5-d6f9-4a4a-9f5f-c5af55d97af4",
   "metadata": {},
   "outputs": [],
   "source": [
    "feature_engineering_pipeline = Pipeline([\n",
    "    ('drop_initial',FunctionTransformer(drop_columns, kw_args={'cols': ['BsmtFinSF1', 'BsmtFinSF2', 'BsmtUnfSF', 'PoolQC', 'MiscFeature']})),\n",
    "    ('initialise_fillna_transformer', FunctionTransformer(run_transformer_transform_colums)),\n",
    "    ('merge_bathrooms', FunctionTransformer(merge_bathromms)),\n",
    "    ('new_features', FunctionTransformer(add_new_features)),\n",
    "    ('binary_features', FunctionTransformer(add_binary_flag)),\n",
    "    ('months_season', FunctionTransformer(months_sold_to_season)),\n",
    "    ('ordinal_categorical_to_numerical_mappings', FunctionTransformer(categorical_ordinal_numeric)),\n",
    "    ('drop_less_collinear',FunctionTransformer(drop_columns, kw_args={'cols':['Utilities', 'GarageYrBlt','WoodDeckSF', 'OpenPorchSF', 'EnclosedPorch', '3SsnPorch',\n",
    "       'ScreenPorch', 'PoolArea', 'MiscVal', 'YrSold']}))\n",
    "])\n",
    "\n"
   ]
  },
  {
   "cell_type": "code",
   "execution_count": 1103,
   "id": "e8985463-6090-466c-a968-de1e0ef8753f",
   "metadata": {},
   "outputs": [],
   "source": [
    "transformed_df = feature_engineering_pipeline.fit_transform(df)"
   ]
  },
  {
   "cell_type": "code",
   "execution_count": 1109,
   "id": "67ea1548-5907-4937-9b5a-32b02e2a43cd",
   "metadata": {},
   "outputs": [
    {
     "data": {
      "text/plain": [
       "Street\n",
       "Pave    1454\n",
       "Grvl       6\n",
       "Name: count, dtype: int64"
      ]
     },
     "execution_count": 1109,
     "metadata": {},
     "output_type": "execute_result"
    }
   ],
   "source": [
    "transformed_df['Street'].value_counts(dropna=False)"
   ]
  },
  {
   "cell_type": "code",
   "execution_count": null,
   "id": "c0279514-2dd2-443d-b76c-ebd0b844553b",
   "metadata": {},
   "outputs": [],
   "source": []
  },
  {
   "cell_type": "code",
   "execution_count": null,
   "id": "26587d55-b95b-489a-9c6d-306045e6851f",
   "metadata": {},
   "outputs": [],
   "source": []
  },
  {
   "cell_type": "code",
   "execution_count": null,
   "id": "a13683bd-1a3f-4fa0-b651-a55c1456465a",
   "metadata": {},
   "outputs": [],
   "source": []
  },
  {
   "cell_type": "code",
   "execution_count": null,
   "id": "6a8eb93c-006c-4271-a995-2db6b6b6f219",
   "metadata": {},
   "outputs": [],
   "source": []
  },
  {
   "cell_type": "code",
   "execution_count": null,
   "id": "4784c513-bf3d-43c4-8a52-15510618bc37",
   "metadata": {},
   "outputs": [],
   "source": []
  }
 ],
 "metadata": {
  "kernelspec": {
   "display_name": "Python 3 (ipykernel)",
   "language": "python",
   "name": "python3"
  },
  "language_info": {
   "codemirror_mode": {
    "name": "ipython",
    "version": 3
   },
   "file_extension": ".py",
   "mimetype": "text/x-python",
   "name": "python",
   "nbconvert_exporter": "python",
   "pygments_lexer": "ipython3",
   "version": "3.10.13"
  }
 },
 "nbformat": 4,
 "nbformat_minor": 5
}
