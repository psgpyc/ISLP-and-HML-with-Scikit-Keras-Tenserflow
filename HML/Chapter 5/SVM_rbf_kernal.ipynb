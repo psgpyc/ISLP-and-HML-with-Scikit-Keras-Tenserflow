{
 "cells": [
  {
   "cell_type": "markdown",
   "id": "b261dc92-5915-4119-8aa2-dffcb33d7728",
   "metadata": {},
   "source": [
    "RBF kernal has ability to handle non-linear relationships in data. \n",
    "\n",
    "**Understanding Kernel**\n",
    "\n",
    "What is a kernal function?\n",
    "\n",
    "A Kernal function that computes a similarity measure between two data points.   \n",
    "\n",
    "Instead of mapping data explicitly into a higher-demintion space, a kernel computes the dot product in that space without ever performing the transformation explicitly. This is known as kernal trick. \n",
    "\n",
    "\n",
    "**Mathematical Defination of the RBF Kernel**  \n",
    "\n",
    "The RBF kernel is mathematically defined as:  \n",
    "\n",
    "\n",
    "$K(\\mathbf{x}, \\mathbf{x}{'}) = \\exp\\left(-\\gamma \\, \\|\\mathbf{x} - \\mathbf{x}{'}\\|^2\\right)$\n",
    "\n",
    "where:\n",
    "\t•\t$\\mathbf{x}$ and $\\mathbf{x}{'}$ are two data points in the input space.  \n",
    "\t•\t$\\|\\mathbf{x} - \\mathbf{x}{'}\\|$ denotes the Euclidean distance between these two points.  \n",
    "\t•\t$\\gamma > 0$ is a parameter that determines the “spread” or “width” of the kernel. (Sometimes, $\\gamma$ is expressed as $\\frac{1}{2\\sigma^2}$, where $\\sigma$ represents the standard deviation of the Gaussian.)  \n",
    "\n",
    "\n",
    "\n",
    "Intuition Behind the RBF Kernel  \n",
    "\n",
    "**1. Similarity Based on Distance** \n",
    "- Exponential Decay:  \n",
    "The RBF kernel converts the Euclidean distance between two points into a similarity measure that decays exponentially.\n",
    "  \n",
    "- Close Points: If $\\|\\mathbf{x} - \\mathbf{x}{'}\\|$ is small, then $-\\gamma \\, \\|\\mathbf{x} - \\mathbf{x}{\\prime}\\|^2$ is near zero, and hence, $K(\\mathbf{x}, \\mathbf{x}{\\prime})$ is close to 1. This indicates that the points are very similar.\n",
    "\n",
    "    \n",
    "- Distant Points: If $\\|\\mathbf{x} - \\mathbf{x}{\\prime}\\|$ is large, the exponential term decays rapidly toward 0, meaning the points are dissimilar.  \n",
    "\n",
    "**2. Radial Symmetry**  \n",
    "- Radial Basis:  \n",
    "The kernel’s value depends solely on the distance between the points, not on their specific positions. In other words, if you fix one point and consider the kernel as a function of the other, you get a symmetric “bell-shaped” curve (the Gaussian curve) centered at the fixed point.  \n",
    "- Locality:  \n",
    "Because of its radial nature, the RBF kernel emphasizes local similarity. A training point’s influence is strong only in a localized region around itself.  "
   ]
  },
  {
   "cell_type": "markdown",
   "id": "6329ad05-6b1e-4813-bc44-938ed5dd23ef",
   "metadata": {},
   "source": [
    "**In Support Vector Machines (SVMs)** \n",
    "\n",
    "1. Non-linear Decision Boundaries:\n",
    "When using an SVM with the RBF kernel, the algorithm implicitly maps the input data into a higher-dimensional space where it finds a hyperplane that can separate the classes. In the original input space, this hyperplane corresponds to a complex, non-linear decision boundary.\n",
    "\n",
    "2. Influence of $\\gamma$:  \n",
    "- Large $\\gamma$: The kernel becomes very “narrow.” Only points extremely close to each other in the input space are considered similar. This can lead to a decision boundary that is very wiggly and may overfit the training data.\n",
    "  \n",
    "- Small $\\gamma$: The kernel becomes “wider.” Distant points are still seen as similar to some degree, which might smooth out the decision boundary but can lead to underfitting if the decision surface is too simple."
   ]
  },
  {
   "cell_type": "code",
   "execution_count": null,
   "id": "e6fe9cc0-240d-44db-9002-0c04920604c4",
   "metadata": {},
   "outputs": [],
   "source": []
  },
  {
   "cell_type": "code",
   "execution_count": null,
   "id": "212604b8-dcdb-4b8e-8033-43c6809ca026",
   "metadata": {},
   "outputs": [],
   "source": []
  }
 ],
 "metadata": {
  "kernelspec": {
   "display_name": "Python 3 (ipykernel)",
   "language": "python",
   "name": "python3"
  },
  "language_info": {
   "codemirror_mode": {
    "name": "ipython",
    "version": 3
   },
   "file_extension": ".py",
   "mimetype": "text/x-python",
   "name": "python",
   "nbconvert_exporter": "python",
   "pygments_lexer": "ipython3",
   "version": "3.10.13"
  }
 },
 "nbformat": 4,
 "nbformat_minor": 5
}
