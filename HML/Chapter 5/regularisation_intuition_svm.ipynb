{
 "cells": [
  {
   "cell_type": "markdown",
   "id": "aa74e256-a2da-4581-93d0-75a827affbc1",
   "metadata": {},
   "source": [
    "How Margin Size Affects the Decision Boundary\n",
    "\n",
    "The margin in SVM is the distance between the decision boundary (hyperplane) and the closest data points (support vectors). The size of the margin is controlled by the regularisation parameter  C .\n",
    "\n",
    "Large Margin (Low  C )  \n",
    "- Maximises the Distance: The SVM tries to keep the decision boundary as far as possible from the support vectors.\n",
    "- Simpler, Smoother Boundary: Since the model allows some misclassifications, the boundary remains straight or gently curved.\n",
    "- Better Generalisation: This is because the model focuses on the overall trend rather than memorising the exact data points.\n",
    "\n",
    "Small Margin (High  C )  \n",
    "\n",
    "- Tight Fit to the Data: The SVM tries to minimise classification errors by fitting the boundary closely around data points.\n",
    "- Wiggly Decision Boundary: As the margin shrinks, the boundary becomes more complex and wavy to accommodate all data points, even outliers.\n",
    "- Risk of Overfitting: The model focuses too much on the training data, capturing noise and losing its ability to generalise well to new data."
   ]
  },
  {
   "cell_type": "code",
   "execution_count": null,
   "id": "d3146280-65cb-4cf3-9f39-38543e23b87f",
   "metadata": {},
   "outputs": [],
   "source": []
  }
 ],
 "metadata": {
  "kernelspec": {
   "display_name": "Python 3 (ipykernel)",
   "language": "python",
   "name": "python3"
  },
  "language_info": {
   "codemirror_mode": {
    "name": "ipython",
    "version": 3
   },
   "file_extension": ".py",
   "mimetype": "text/x-python",
   "name": "python",
   "nbconvert_exporter": "python",
   "pygments_lexer": "ipython3",
   "version": "3.10.13"
  }
 },
 "nbformat": 4,
 "nbformat_minor": 5
}
