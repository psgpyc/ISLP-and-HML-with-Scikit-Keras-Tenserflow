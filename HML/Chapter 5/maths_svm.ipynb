{
 "cells": [
  {
   "cell_type": "markdown",
   "id": "0645e27e-045a-408e-821a-b0151da4cf14",
   "metadata": {},
   "source": [
    "In Support Vector Machines (SVM), the decision function is defined as\n",
    "\n",
    "\n",
    "$f(\\mathbf{x}) = \\mathbf{w}^\\top \\mathbf{x} + b.$\n",
    "\n",
    "\n",
    "The decision rule for classifying a point $\\mathbf{x}$ is based on the sign of $f(\\mathbf{x})$: \n",
    "\n",
    "\n",
    "- If $f(\\mathbf{x}) > 0$, then $\\mathbf{x}$ is classified as one class (say, +1).\n",
    "- If $f(\\mathbf{x}) < 0$, then $\\mathbf{x}$ is classified as the other class (say, -1).\n",
    "\n",
    "The hyperplane given by\n",
    "\n",
    "\n",
    "$\\mathbf{w}^\\top \\mathbf{x} + b = 0$\n",
    "\n",
    "\n",
    "is the set of all points where $f(\\mathbf{x})$ is exactly zero. This hyperplane acts as the decision boundary that separates the two classes.\n"
   ]
  },
  {
   "cell_type": "markdown",
   "id": "5fd2592c-b678-4a02-8f70-330953637a6b",
   "metadata": {},
   "source": [
    "**Margins**\n",
    "\n",
    "The distance between these two boundaries is the margin, which is:\n",
    "\n",
    "\n",
    "$\\text{Margin} = \\frac{2}{\\|\\mathbf{w}\\|}$\n",
    "\n",
    "\n",
    "\n",
    "**Since the margin is inversely proportional to  $\\|\\mathbf{w}\\|$ , to maximize the margin, we need to:**\n",
    "\n",
    "\n",
    "$\\text{Maximise } \\frac{2}{\\|\\mathbf{w}\\|} \\quad \\Longleftrightarrow \\quad \\text{Minimise } \\|\\mathbf{w}\\|$\n",
    "\n",
    "\n",
    "But instead of minimising  $\\|\\mathbf{w}\\|$ , we minimise  $\\frac{1}{2} \\|\\mathbf{w}\\|^2$  because:  \n",
    "- It’s easier to differentiate (smooth function).\n",
    "- The factor  $\\frac{1}{2}$  simplifies the derivative during optimization."
   ]
  },
  {
   "cell_type": "markdown",
   "id": "45bb2788-e924-4e78-9840-42c56591e275",
   "metadata": {},
   "source": [
    "### Here’s the complete optimization formulation:  \n",
    "Objective (Minimise the Weights):\n",
    "\n",
    "\n",
    "$\\min_{\\mathbf{w}, b} \\quad \\frac{1}{2} \\|\\mathbf{w}\\|^2$\n",
    "\n",
    "\n",
    "Subject to Constraints (Correct Classification with Margin):\n",
    "\n",
    "\n",
    "$t^{(i)} (\\mathbf{w}^\\top \\mathbf{x}^{(i)} + b) \\geq 1 \\quad \\forall i$\n",
    "\n",
    "\n",
    "Where:\n",
    "- $t^{(i)} = +1$  for positive class\n",
    "- $t^{(i)} = -1$  for negative class\n",
    "\n",
    "This ensures:\n",
    "- Positive points are on or beyond the  +1  boundary.\n",
    "- Negative points are on or beyond the  -1  boundary."
   ]
  },
  {
   "cell_type": "markdown",
   "id": "15243583-ca70-46a0-910e-231d1a227de9",
   "metadata": {},
   "source": [
    "## Softmargin SVM\n",
    "\n",
    "To allow misclassifications or points inside the margin, we introduce slack variables for each instance:\n",
    "\n",
    "\n",
    "$\\xi_i \\geq 0 \\quad \\forall i$\n",
    "\n",
    "The slack variable measures how much the $i^{(th)}$ instance is allowed to violate the margin.\n",
    "\n",
    "The new constraint becomes:\n",
    "\n",
    "\n",
    "$t^{(i)} (\\mathbf{w}^\\top \\mathbf{x}_i + b) \\geq 1 - \\xi_i$\n",
    "\n",
    "\n",
    "Where:\n",
    "- $ \\xi_i = 0$  means the point is correctly classified and outside the margin (like in hard margin SVM).  \n",
    "- $0 < \\xi_i < 1$  means the point is inside the margin but still correctly classified.  \n",
    "- $\\xi_i > 1$  means the point is misclassified.  "
   ]
  },
  {
   "cell_type": "code",
   "execution_count": null,
   "id": "1e57c955-f101-447f-9370-5a10e9cfa6d5",
   "metadata": {},
   "outputs": [],
   "source": []
  },
  {
   "cell_type": "code",
   "execution_count": null,
   "id": "ec7a5b1b-bd20-4a45-b925-0eb1fda9e41c",
   "metadata": {},
   "outputs": [],
   "source": []
  },
  {
   "cell_type": "markdown",
   "id": "bcc32f52-e71a-4b23-a417-0de7b6057488",
   "metadata": {},
   "source": []
  },
  {
   "cell_type": "code",
   "execution_count": null,
   "id": "abd527c5-f5a6-40c5-ba81-3c0cb52d628d",
   "metadata": {},
   "outputs": [],
   "source": []
  }
 ],
 "metadata": {
  "kernelspec": {
   "display_name": "Python 3 (ipykernel)",
   "language": "python",
   "name": "python3"
  },
  "language_info": {
   "codemirror_mode": {
    "name": "ipython",
    "version": 3
   },
   "file_extension": ".py",
   "mimetype": "text/x-python",
   "name": "python",
   "nbconvert_exporter": "python",
   "pygments_lexer": "ipython3",
   "version": "3.10.13"
  }
 },
 "nbformat": 4,
 "nbformat_minor": 5
}
