{
 "cells": [
  {
   "cell_type": "markdown",
   "id": "a9a39da7-f053-4060-8c61-f073f8d62ec9",
   "metadata": {},
   "source": [
    "In this chapter, we will work through an example project end to end, pretending to be a recently hired data scientist at a real estate company.\n",
    "\n",
    "Here are the main steps we will walk through:\n",
    "\n",
    "1. Look at the big picture.\n",
    "2. Get the data.\n",
    "3. Explore and visualise the data to gain insights.\n",
    "4. Prepare the data for machine learning algorithms.\n",
    "5. Select a model and train it.\n",
    "6. Fine-tune the model.\n",
    "7. Present your solution.\n",
    "8. Launch, monitor and maintain your system."
   ]
  },
  {
   "cell_type": "markdown",
   "id": "04480113-af59-462e-8179-e3bb8071176c",
   "metadata": {},
   "source": [
    "### Link to popular data repo:\n",
    "\n",
    "1. https://openml.org/\n",
    "2. https://paperswithcode.com/datasets"
   ]
  },
  {
   "cell_type": "code",
   "execution_count": null,
   "id": "735df7b0-6864-410c-aca3-9b7671212049",
   "metadata": {},
   "outputs": [],
   "source": []
  }
 ],
 "metadata": {
  "kernelspec": {
   "display_name": "Python 3 (ipykernel)",
   "language": "python",
   "name": "python3"
  },
  "language_info": {
   "codemirror_mode": {
    "name": "ipython",
    "version": 3
   },
   "file_extension": ".py",
   "mimetype": "text/x-python",
   "name": "python",
   "nbconvert_exporter": "python",
   "pygments_lexer": "ipython3",
   "version": "3.10.13"
  }
 },
 "nbformat": 4,
 "nbformat_minor": 5
}
