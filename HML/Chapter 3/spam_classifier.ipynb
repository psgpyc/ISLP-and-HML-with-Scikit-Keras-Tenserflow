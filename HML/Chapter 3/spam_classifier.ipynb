{
 "cells": [
  {
   "cell_type": "code",
   "execution_count": 9,
   "id": "95503d77-4233-481b-a311-bf5dee89a110",
   "metadata": {},
   "outputs": [],
   "source": [
    "import tarfile\n",
    "import urllib\n",
    "from pathlib import Path"
   ]
  },
  {
   "cell_type": "code",
   "execution_count": 81,
   "id": "89d34f49-81ba-49f6-ab55-602a021c0e84",
   "metadata": {},
   "outputs": [],
   "source": [
    "import numpy as np\n",
    "import pandas as pd\n",
    "import bs4\n",
    "from sklearn.model_selection import train_test_split"
   ]
  },
  {
   "cell_type": "code",
   "execution_count": 10,
   "id": "5e67cd1f-d4fc-4560-9402-199782c65f95",
   "metadata": {},
   "outputs": [],
   "source": [
    "def fetch_spam_data():\n",
    "    spam_root = \"http://spamassassin.apache.org/old/publiccorpus/\"\n",
    "    ham_url = spam_root + \"20030228_easy_ham.tar.bz2\"\n",
    "    spam_url = spam_root + \"20030228_spam.tar.bz2\"\n",
    "\n",
    "    spam_path = Path() / \"dataset\" / \"spam\"\n",
    "    spam_path.mkdir(parents=True, exist_ok=True)\n",
    "    for dir_name, tar_name, url in ((\"easy_ham\", \"ham\", ham_url),\n",
    "                                    (\"spam\", \"spam\", spam_url)):\n",
    "        if not (spam_path / dir_name).is_dir():\n",
    "            path = (spam_path / tar_name).with_suffix(\".tar.bz2\")\n",
    "            print(\"Downloading\", path)\n",
    "            urllib.request.urlretrieve(url, path)\n",
    "            tar_bz2_file = tarfile.open(path)\n",
    "            tar_bz2_file.extractall(path=spam_path)\n",
    "            tar_bz2_file.close()\n",
    "    return [spam_path / dir_name for dir_name in (\"easy_ham\", \"spam\")]"
   ]
  },
  {
   "cell_type": "code",
   "execution_count": 12,
   "id": "d264b478-9de3-4b1d-a88f-772ef42728ba",
   "metadata": {},
   "outputs": [],
   "source": [
    "ham_dir, spam_dir = fetch_spam_data()"
   ]
  },
  {
   "cell_type": "code",
   "execution_count": 34,
   "id": "239927ed-7952-4a76-b430-a434b14d6148",
   "metadata": {},
   "outputs": [],
   "source": [
    "ham_filenames = [f for f in sorted(ham_dir.iterdir()) if len(f.name) > 20]\n",
    "spam_filenames = [f for f in sorted(spam_dir.iterdir()) if len(f.name) > 20]"
   ]
  },
  {
   "cell_type": "code",
   "execution_count": null,
   "id": "24cf24a8-a97a-49a1-bc0c-c310ca182033",
   "metadata": {},
   "outputs": [],
   "source": []
  },
  {
   "cell_type": "code",
   "execution_count": 35,
   "id": "b5f801fe-7fbe-4c7b-8143-575d29f15aa6",
   "metadata": {},
   "outputs": [],
   "source": [
    "import email\n",
    "import email.policy"
   ]
  },
  {
   "cell_type": "code",
   "execution_count": 36,
   "id": "36dd6f1d-bd09-4095-80b6-f4a20f15ecf2",
   "metadata": {},
   "outputs": [],
   "source": [
    "def load_email(filepath):\n",
    "    with open(filepath, 'rb') as f:\n",
    "        return email.parser.BytesParser(policy=email.policy.default).parse(f)"
   ]
  },
  {
   "cell_type": "code",
   "execution_count": 37,
   "id": "459165b6-e2b2-4a99-bf1d-5557209c9e37",
   "metadata": {},
   "outputs": [],
   "source": [
    "ham_emails = [load_email(filepaths) for filepaths in ham_filenames]\n",
    "spam_emails = [load_email(filepaths) for filepaths in spam_filenames]\n",
    "        "
   ]
  },
  {
   "cell_type": "code",
   "execution_count": 38,
   "id": "41d08a46-a83b-4b26-b9dc-d7b65cb284e7",
   "metadata": {},
   "outputs": [
    {
     "name": "stdout",
     "output_type": "stream",
     "text": [
      "Martin A posted:\n",
      "Tassos Papadopoulos, the Greek sculptor behind the plan, judged that the\n",
      " limestone of Mount Kerdylio, 70 miles east of Salonika and not far from the\n",
      " Mount Athos monastic community, was ideal for the patriotic sculpture. \n",
      " \n",
      " As well as Alexander's granite features, 240 ft high and 170 ft wide, a\n",
      " museum, a restored amphitheatre and car park for admiring crowds are\n",
      "planned\n",
      "---------------------\n",
      "So is this mountain limestone or granite?\n",
      "If it's limestone, it'll weather pretty fast.\n",
      "\n",
      "------------------------ Yahoo! Groups Sponsor ---------------------~-->\n",
      "4 DVDs Free +s&p Join Now\n",
      "http://us.click.yahoo.com/pt6YBB/NXiEAA/mG3HAA/7gSolB/TM\n",
      "---------------------------------------------------------------------~->\n",
      "\n",
      "To unsubscribe from this group, send an email to:\n",
      "forteana-unsubscribe@egroups.com\n",
      "\n",
      " \n",
      "\n",
      "Your use of Yahoo! Groups is subject to http://docs.yahoo.com/info/terms/\n"
     ]
    }
   ],
   "source": [
    "print(ham_emails[1].get_content().strip())"
   ]
  },
  {
   "cell_type": "code",
   "execution_count": 39,
   "id": "ab03d0f0-2d5e-406f-97d8-dfb383a47f40",
   "metadata": {},
   "outputs": [
    {
     "name": "stdout",
     "output_type": "stream",
     "text": [
      "Vernon,\n",
      "\n",
      "I'm changing the instructions in the SpamAssassin INSTALL file \n",
      "right now to:\n",
      "\n",
      "tar xfvz dcc-dccproc.tar.Z\n",
      "cd dcc-dccproc-X.X.X\n",
      "./configure && make && make install\n",
      "cdcc 'info'\n",
      "\n",
      "\n",
      "Let me know ASAP if that's innapropriate, since we're shipping \n",
      "2.40 today!\n",
      "\n",
      "C\n",
      "\n",
      "On Monday, September 2, 2002, at 10:02  AM, Vernon Schryver wrote:\n",
      "\n",
      ">> Here are the instructions in the spamassassin README:\n",
      ">>\n",
      ">>     # tar xfvz dcc-dccproc.tar.Z\n",
      ">>     # cd dcc-dccproc-X.X.X\n",
      ">>     # ./configure && make && make install\n",
      ">>     # cdcc 'new map'\n",
      ">>     # cdcc 'add dcc.rhyolite.com'\n",
      ">>     # cdcc 'info'\n",
      ">\n",
      "> That's ok, except that the 'new map' and \"add dcc.rhyolite.com'\n",
      "> are respectively unnecessary and wrong.  The map file that comes\n",
      "> with the source points to localhost and dcc.dcc-servers.net.  Those\n",
      "> two shipped entries usually do the right thing if there is a local\n",
      "> server.  If there is no local server or if the local server fails,\n",
      "> requests are instantly sent to one of the public server names listed\n",
      "> in the main DCC web page at\n",
      "> http://www.rhyolite.com/anti-spam/dcc/ and http://www.dcc-\n",
      "> servers.net/dcc/\n",
      "> dcc.rhyolite.com has not been listed for months.\n"
     ]
    }
   ],
   "source": [
    "print(ham_emails[100].get_content().strip())"
   ]
  },
  {
   "cell_type": "markdown",
   "id": "0440b654-96ea-49d1-87ec-a444382ac052",
   "metadata": {},
   "source": [
    "some emails are actually multi-part, with images and attachments. Let us look at various types of structures we have"
   ]
  },
  {
   "cell_type": "code",
   "execution_count": 45,
   "id": "431096e6-0457-4c30-81e1-62398837b187",
   "metadata": {},
   "outputs": [],
   "source": [
    "def get_email_structure(email):\n",
    "    if isinstance(email, str):\n",
    "        return email\n",
    "    payload = email.get_payload()\n",
    "    if isinstance(payload, list):\n",
    "        multipart = \", \".join([get_email_structure(sub_email) for sub_email in payload])\n",
    "        return f\"multipart {multipart}\"\n",
    "    else:\n",
    "        return email.get_content_type()"
   ]
  },
  {
   "cell_type": "code",
   "execution_count": null,
   "id": "8ba9389f-733d-4763-99cd-15d902d3608a",
   "metadata": {},
   "outputs": [],
   "source": []
  },
  {
   "cell_type": "code",
   "execution_count": 46,
   "id": "8491d365-3554-4678-8a01-830ddd8ca21c",
   "metadata": {},
   "outputs": [],
   "source": [
    "from collections import Counter"
   ]
  },
  {
   "cell_type": "code",
   "execution_count": 47,
   "id": "7cc32062-720a-43d6-a41e-04a087c200f3",
   "metadata": {},
   "outputs": [],
   "source": [
    "def structure_counter(emails):\n",
    "    structures = Counter()\n",
    "    for email in emails:\n",
    "        structure = get_email_structure(email)\n",
    "        structures[structure] += 1\n",
    "\n",
    "    return structures"
   ]
  },
  {
   "cell_type": "code",
   "execution_count": 48,
   "id": "1b5fd58d-3774-4c1c-9458-a1b8ee3e0d97",
   "metadata": {},
   "outputs": [
    {
     "data": {
      "text/plain": [
       "Counter({'text/plain': 2408,\n",
       "         'multipart text/plain, application/pgp-signature': 66,\n",
       "         'multipart text/plain, text/html': 8,\n",
       "         'multipart text/plain, text/plain': 4,\n",
       "         'multipart text/plain': 3,\n",
       "         'multipart text/plain, application/octet-stream': 2,\n",
       "         'multipart text/plain, text/enriched': 1,\n",
       "         'multipart text/plain, application/ms-tnef, text/plain': 1,\n",
       "         'multipart multipart text/plain, text/plain, text/plain, application/pgp-signature': 1,\n",
       "         'multipart text/plain, video/mng': 1,\n",
       "         'multipart text/plain, multipart text/plain': 1,\n",
       "         'multipart text/plain, application/x-pkcs7-signature': 1,\n",
       "         'multipart text/plain, multipart text/plain, text/plain, text/rfc822-headers': 1,\n",
       "         'multipart text/plain, multipart text/plain, text/plain, multipart multipart text/plain, application/x-pkcs7-signature': 1,\n",
       "         'multipart text/plain, application/x-java-applet': 1})"
      ]
     },
     "execution_count": 48,
     "metadata": {},
     "output_type": "execute_result"
    }
   ],
   "source": [
    "structure_counter(ham_emails)"
   ]
  },
  {
   "cell_type": "code",
   "execution_count": 44,
   "id": "918ecb63-4f38-4966-a127-2a969de5cd21",
   "metadata": {},
   "outputs": [
    {
     "data": {
      "text/plain": [
       "Counter({'text/plain': 218,\n",
       "         'text/html': 183,\n",
       "         'multiparttext/plain, text/html': 45,\n",
       "         'multiparttext/html': 20,\n",
       "         'multiparttext/plain': 19,\n",
       "         'multipartmultiparttext/html': 5,\n",
       "         'multiparttext/plain, image/jpeg': 3,\n",
       "         'multiparttext/html, application/octet-stream': 2,\n",
       "         'multiparttext/plain, application/octet-stream': 1,\n",
       "         'multiparttext/html, text/plain': 1,\n",
       "         'multipartmultiparttext/html, application/octet-stream, image/jpeg': 1,\n",
       "         'multipartmultiparttext/plain, text/html, image/gif': 1,\n",
       "         'multipart/alternative': 1})"
      ]
     },
     "execution_count": 44,
     "metadata": {},
     "output_type": "execute_result"
    }
   ],
   "source": [
    "structure_counter(spam_emails)"
   ]
  },
  {
   "cell_type": "markdown",
   "id": "8d6ae9e4-c516-434e-9ffe-9bfd76eefbc8",
   "metadata": {},
   "source": [
    "It looks like the ham emails are more often plain text, while spamhas quiet lot of a HTML. Moreover, quiet a few ham emails are signed using PGP, while no spam is."
   ]
  },
  {
   "cell_type": "markdown",
   "id": "2d251de7-12a4-4cbd-9f8c-0f9425e5b44a",
   "metadata": {},
   "source": [
    "## Let us look at the email headers"
   ]
  },
  {
   "cell_type": "code",
   "execution_count": 67,
   "id": "0f4cfdff-147d-4de4-8b69-ff957ff83266",
   "metadata": {},
   "outputs": [
    {
     "name": "stdout",
     "output_type": "stream",
     "text": [
      "Return-Path : <12a1mailbot1@web.de>\n",
      "Delivered-To : zzzz@localhost.spamassassin.taint.org\n",
      "Received : from localhost (localhost [127.0.0.1])\tby phobos.labs.spamassassin.taint.org (Postfix) with ESMTP id 136B943C32\tfor <zzzz@localhost>; Thu, 22 Aug 2002 08:17:21 -0400 (EDT)\n",
      "Received : from mail.webnote.net [193.120.211.219]\tby localhost with POP3 (fetchmail-5.9.0)\tfor zzzz@localhost (single-drop); Thu, 22 Aug 2002 13:17:21 +0100 (IST)\n",
      "Received : from dd_it7 ([210.97.77.167])\tby webnote.net (8.9.3/8.9.3) with ESMTP id NAA04623\tfor <zzzz@spamassassin.taint.org>; Thu, 22 Aug 2002 13:09:41 +0100\n",
      "From : 12a1mailbot1@web.de\n",
      "Received : from r-smtp.korea.com - 203.122.2.197 by dd_it7  with Microsoft SMTPSVC(5.5.1775.675.6);\t Sat, 24 Aug 2002 09:42:10 +0900\n",
      "To : dcek1a1@netsgo.com\n",
      "Subject : Life Insurance - Why Pay More?\n",
      "Date : Wed, 21 Aug 2002 20:31:57 -1600\n",
      "MIME-Version : 1.0\n",
      "Message-ID : <0103c1042001882DD_IT7@dd_it7>\n",
      "Content-Type : text/html; charset=\"iso-8859-1\"\n",
      "Content-Transfer-Encoding : quoted-printable\n"
     ]
    }
   ],
   "source": [
    "for header, value in spam_emails[0].items():\n",
    "    print(header, \":\", value)"
   ]
  },
  {
   "cell_type": "code",
   "execution_count": 70,
   "id": "6f4317bb-a1b3-469f-a57a-44a60c19242f",
   "metadata": {},
   "outputs": [
    {
     "data": {
      "text/plain": [
       "'Life Insurance - Why Pay More?'"
      ]
     },
     "execution_count": 70,
     "metadata": {},
     "output_type": "execute_result"
    }
   ],
   "source": [
    "spam_emails[0]['Subject']"
   ]
  },
  {
   "cell_type": "markdown",
   "id": "dbb79a21-9e37-4f2d-935b-d1e2f5177b29",
   "metadata": {},
   "source": [
    "## Train Test Split"
   ]
  },
  {
   "cell_type": "code",
   "execution_count": 73,
   "id": "e07abe55-f23e-4d55-9239-5544029f6783",
   "metadata": {},
   "outputs": [],
   "source": [
    "X = np.array(ham_emails + spam_emails, dtype=object)"
   ]
  },
  {
   "cell_type": "code",
   "execution_count": 74,
   "id": "7f5313be-d1bd-4b21-a657-b9b2465c38cf",
   "metadata": {},
   "outputs": [
    {
     "data": {
      "text/plain": [
       "array([<email.message.EmailMessage object at 0x111542470>,\n",
       "       <email.message.EmailMessage object at 0x114005810>,\n",
       "       <email.message.EmailMessage object at 0x114006830>, ...,\n",
       "       <email.message.EmailMessage object at 0x112aa8130>,\n",
       "       <email.message.EmailMessage object at 0x112aa8610>,\n",
       "       <email.message.EmailMessage object at 0x112aa9a50>], dtype=object)"
      ]
     },
     "execution_count": 74,
     "metadata": {},
     "output_type": "execute_result"
    }
   ],
   "source": [
    "y = np.array()"
   ]
  },
  {
   "cell_type": "code",
   "execution_count": 76,
   "id": "b3f00ab5-ead8-49b5-a501-c69c1ebc40a1",
   "metadata": {},
   "outputs": [],
   "source": [
    "y = np.array([0] * len(ham_emails) + [1] * len(spam_emails))"
   ]
  },
  {
   "cell_type": "code",
   "execution_count": 80,
   "id": "044d970b-6297-46ae-b14c-e3431cfa0efc",
   "metadata": {},
   "outputs": [],
   "source": [
    "# X = X_train and y = y_train\n",
    "X, X_test, y, y_test = train_test_split(X, y, test_size=0.2, random_state=42)"
   ]
  },
  {
   "cell_type": "markdown",
   "id": "f5f78bbe-a2a1-4348-baba-55ea0094d35b",
   "metadata": {},
   "source": [
    "## lets select all the emails with html for the train set"
   ]
  },
  {
   "cell_type": "code",
   "execution_count": 82,
   "id": "f72482b5-64b9-49d3-beab-14c5959b174d",
   "metadata": {},
   "outputs": [],
   "source": [
    "html_spam_emails = [email for email in X[y == 1] if get_email_structure(email) == \"text/html\"]"
   ]
  },
  {
   "cell_type": "code",
   "execution_count": 98,
   "id": "fd68693c-72bb-495f-ac92-6311d458dfaa",
   "metadata": {},
   "outputs": [],
   "source": [
    "def email_to_text(email):\n",
    "    html = None\n",
    "    for part in email.walk():\n",
    "        content_type_ = part.get_content_type()\n",
    "        if not content_type_ in (\"text/plain\", \"text/html\"):\n",
    "            continue\n",
    "        try:\n",
    "            content = part.get_content()\n",
    "        except:\n",
    "            content = str(part.get_payload())\n",
    "        if content_type_ == \"text/plain\":\n",
    "            return content\n",
    "        else:\n",
    "            html = content\n",
    "        if html:\n",
    "            return bs4.BeautifulSoup(html, 'html.parser').text\n",
    "                                 \n",
    "                                 \n",
    "    "
   ]
  },
  {
   "cell_type": "code",
   "execution_count": 109,
   "id": "928e6fb5-aaf3-4bee-aaea-98dec7e7510e",
   "metadata": {},
   "outputs": [
    {
     "name": "stdout",
     "output_type": "stream",
     "text": [
      "Once upon a time, \"\"Angles\" wrote :\n",
      "\n",
      "> Matthias Saou (matthias@egwn.net) wrote*:\n",
      "> >You're really better off backuping all placed where you know you've hand\n",
      "> >edited or installed some files. For me that's only /etc/, /root/ and\n",
      "> >/home/. Then you reinstall cleanly, formating \"/\", put your /home/ files\n",
      "> >back into place and you're ready to go.\n",
      "> \n",
      "> Matthias I gotta believe you, I've been using your RPMs for some time now\n",
      "> :) That's the way I'll do it.\n",
      "\n",
      "I'm no \"messiah\", just do what you think suits you the best :-)\n",
      "\n",
      "Matthias\n",
      "\n",
      "-- \n",
      "Clean custom Red Hat Linux rpm packages : http://freshrpms.net/\n",
      "Red Hat Linux release 7.3 (Valhalla) running Linux kernel 2.4.18-10acpi\n",
      "Load : 0.05 0.06 0.03\n",
      "\n",
      "_______________________________________________\n",
      "RPM-List mailing list <RPM-List@freshrpms.net>\n",
      "http://lists.freshrpms.net/mailman/listinfo/rpm-list\n",
      "\n",
      "\n",
      "\n"
     ]
    }
   ],
   "source": [
    "print(email_to_text(X[8]))"
   ]
  },
  {
   "cell_type": "code",
   "execution_count": 124,
   "id": "246b94a1-b4de-45be-80a9-1de30d7edbbd",
   "metadata": {},
   "outputs": [
    {
     "name": "stdout",
     "output_type": "stream",
     "text": [
      "Computations => comput\n",
      "Computation => comput\n",
      "Computing => comput\n",
      "Computed => comput\n",
      "Compute => comput\n",
      "Compulsive => compuls\n"
     ]
    }
   ],
   "source": [
    "import nltk\n",
    "\n",
    "stemmer = nltk.PorterStemmer()\n",
    "for word in (\"Computations\", \"Computation\", \"Computing\", \"Computed\", \"Compute\",\n",
    "             \"Compulsive\"):\n",
    "    print(word, \"=>\", stemmer.stem(word))"
   ]
  },
  {
   "cell_type": "markdown",
   "id": "3577eccc-9384-4d7d-acfa-6ac7b028d49a",
   "metadata": {},
   "source": [
    "# let us build a pipeline\n"
   ]
  },
  {
   "cell_type": "code",
   "execution_count": 117,
   "id": "26e735b7-6856-418c-b300-1fd63dc35a37",
   "metadata": {},
   "outputs": [],
   "source": [
    "from sklearn.base import BaseEstimator, TransformerMixin\n",
    "import re\n",
    "import urlextract"
   ]
  },
  {
   "cell_type": "code",
   "execution_count": 125,
   "id": "20b14074-cd7f-4e4f-98f1-8296e9ca6dbd",
   "metadata": {},
   "outputs": [],
   "source": [
    "class EmailToWordCounterTransformer(BaseEstimator, TransformerMixin):\n",
    "    def __init__(self, strip_headers=True, lower_case=True, remove_punctuation=True, replace_urls=True, replace_numbers=True, stemming=True ):\n",
    "        self.strip_headers = strip_headers\n",
    "        self.lower_case = lower_case\n",
    "        self.remove_punctuation = remove_punctuation\n",
    "        self.replace_urls = replace_urls\n",
    "        self.replace_numbers = replace_numbers\n",
    "        self.stemming = stemming\n",
    "\n",
    "    def fit(self, X, y=None):\n",
    "        return self\n",
    "    def transform(self, X, y=None):\n",
    "        X_transformed = []\n",
    "        for email_ in X:\n",
    "            text_ = email_to_text(email_) or \"\"\n",
    "            if self.lower_case:\n",
    "                text_ = text_.lower()\n",
    "            if self.replace_urls and url_extractor is not None:\n",
    "                urls = list(set(url_extractor.find_urls(text_)))\n",
    "                urls.sort(key= lambda url: len(url), reverse=True)\n",
    "                for url in urls:\n",
    "                    text_ = text_.replace(url, \" URL \")\n",
    "            if self.replace_numbers:\n",
    "                text_ = re.sub(r'\\d+(?:\\.\\d*)?(?:[eE][+-]?\\d+)?', 'NUMBER', text_)\n",
    "            if self.remove_punctuation:\n",
    "                text_ = re.sub(r'\\W+', ' ', text_, flags=re.M)\n",
    "            word_counts = Counter(text_.split())\n",
    "            if self.stemming and stemmer is not None:\n",
    "                stemmed_word_counts = Counter()\n",
    "                for word, count in word_counts.items():\n",
    "                    stemmed_word = stemmer.stem(word)\n",
    "                    stemmed_word_counts[stemmed_word] += count\n",
    "                word_counts = stemmed_word_counts\n",
    "            X_transformed.append(word_counts)\n",
    "        return np.array(X_transformed)"
   ]
  },
  {
   "cell_type": "code",
   "execution_count": 126,
   "id": "2b122f07-d984-4dc8-97d7-b02b2af96cce",
   "metadata": {},
   "outputs": [
    {
     "data": {
      "text/plain": [
       "array([Counter({'the': 14, 'i': 10, 'number': 9, 'server': 5, 'and': 5, 'a': 4, 'of': 4, 'is': 4, 'to': 3, 'it': 3, 'on': 3, 'when': 3, 'get': 3, 'as': 3, 'url': 3, 'numbermbp': 3, 'list': 3, 'but': 2, 'your': 2, 'you': 2, 'don': 2, 't': 2, 'that': 2, 'too': 2, 'mirror': 2, 'ftp': 2, 'which': 2, 'use': 2, 'system': 2, 'matthia': 2, 'rpm': 2, 'onc': 1, 'upon': 1, 'time': 1, 'brian': 1, 'wrote': 1, 'yeah': 1, 'tri': 1, 'take': 1, 'easi': 1, 'golden': 1, 'rule': 1, 'internet': 1, 'find': 1, 'free': 1, 'resourc': 1, 'piss': 1, 'em': 1, 'off': 1, 'realli': 1, 'appreci': 1, 'work': 1, 'done': 1, 'thing': 1, 'wish': 1, 'could': 1, 'respect': 1, 'worri': 1, 'much': 1, 'day': 1, 'busi': 1, 'll': 1, 'cleanup': 1, 'publish': 1, 'address': 1, 'some': 1, 'mani': 1, 'exist': 1, 'm': 1, 'awar': 1, 'at': 1, 'least': 1, 'even': 1, 'an': 1, 'apt': 1, 'one': 1, 'for': 1, 'now': 1, 'limit': 1, 'far': 1, 'enough': 1, 'unlock': 1, 'psych': 1, 'iso': 1, 'imag': 1, 'monday': 1, 'bandwidth': 1, 'usag': 1, 'current': 1, 'http': 1, 'rsync': 1, 'went': 1, 'up': 1, 'sustain': 1, 'not': 1, 'bad': 1, 'ha': 1, 'physic': 1, 'nic': 1, 'cours': 1, 'd': 1, 'in': 1, 'troubl': 1, 'if': 1, 'wa': 1, 'alway': 1, 'like': 1, 'averag': 1, 'no': 1, 'new': 1, 'red': 1, 'hat': 1, 'releas': 1, 'there': 1, 'between': 1, 'my': 1, 'compani': 1, 'toler': 1, 've': 1, 'convinc': 1, 'them': 1, 's': 1, 'return': 1, 'commun': 1, 'provid': 1, 'us': 1, 'great': 1, 'oper': 1, 'all': 1, 'our': 1, 'are': 1, 'run': 1, 'saou': 1, 'world': 1, 'trade': 1, 'center': 1, 'edificio': 1, 'nort': 1, 'planta': 1, 'network': 1, 'engin': 1, 'barcelona': 1, 'spain': 1, 'electron': 1, 'group': 1, 'interact': 1, 'phone': 1, '_______________________________________________': 1, 'mail': 1}),\n",
       "       Counter({'the': 3, 'a': 3, 'i': 3, 'other': 2, 'tool': 2, 'but': 2, 'spamassassin': 2, 'you': 2, 'guido': 2, 'do': 2, 'dunno': 1, 'about': 1, 'is': 1, 'breez': 1, 'also': 1, 'add': 1, 'header': 1, 'as': 1, 'well': 1, 'which': 1, 'give': 1, 'more': 1, 'detail': 1, 'feel': 1, 'capabl': 1, 'of': 1, 'write': 1, 'such': 1, 'it': 1, 'doesn': 1, 't': 1, 'look': 1, 'too': 1, 'hard': 1, 'sure': 1, 'at': 1, 'moment': 1, 'have': 1, 'to': 1, 'stop': 1, 'read': 1, 'email': 1, 'for': 1, 'few': 1, 'hour': 1, 'and': 1, 'some': 1, 'real': 1, 'work': 1, 'll': 1, 'see': 1, 'if': 1, 'can': 1, 'modifi': 1, 'url': 1, 'suitabl': 1, 'over': 1, 'weekend': 1, 'skip': 1}),\n",
       "       Counter({'number': 10, 'the': 9, 'perlnumberlib': 6, 'on': 4, 'to': 4, 'directorynumb': 4, 'i': 3, 'with': 3, 'tri': 3, 'spamassassin': 3, 'in': 3, 'url': 3, 'list': 3, 'wed': 2, 'sep': 2, 'wrote': 2, 'stephan': 2, 'lentz': 2, 'a': 2, 'freebsd': 2, 'instal': 2, 'some': 2, 'directori': 2, 'use': 2, 'it': 2, 'me': 2, 'set': 2, 'shell': 2, 'as': 2, 'perl': 2, 'then': 2, 'variabl': 2, 'for': 2, 'perlrun': 2, 'talk': 2, 'at': 1, 'numberpm': 1, 'david': 1, 'raistrick': 1, 'face': 1, 'similar': 1, 'problem': 1, 'when': 1, 'through': 1, 'port': 1, 'my': 1, 'fresh': 1, 'had': 1, 'defin': 1, 'given': 1, 'order': 1, 'of': 1, 'so': 1, 'that': 1, 'latest': 1, 'file': 1, 'spec': 1, 'modul': 1, 'get': 1, 'good': 1, 'hear': 1, 's': 1, 'not': 1, 'just': 1, 'mind': 1, 'tell': 1, 'how': 1, 'you': 1, 'specificli': 1, 've': 1, 'few': 1, 'thing': 1, 'setenv': 1, 'well': 1, 'insid': 1, 'even': 1, 'command': 1, 'line': 1, 'no': 1, 'success': 1, 'presum': 1, 'your': 1, 'run': 1, 'bash': 1, 'note': 1, 'e': 1, 'map': 1, 'print': 1, '_': 1, 'n': 1, 'inc': 1, 'up': 1, 'and': 1, 'put': 1, 'bashrc': 1, 'futur': 1, 'export': 1, 'softwar': 1, 'is': 1, 'explain': 1, 'do': 1, 'man': 1, 'more': 1, 'inform': 1, 'regard': 1, 'sl': 1, 'alcanet': 1, 'intern': 1, 'internet': 1, 'servic': 1, 'remembr': 1, '_______________________________________________': 1, 'mail': 1, 'sourceforg': 1, 'net': 1}),\n",
       "       ...,\n",
       "       Counter({'number': 6, 'url': 2, 'date': 1, 'numbertnumb': 1, 'humili': 1, 'rebuff': 1, 'for': 1, 'blair': 1, 'initi': 1, 'come': 1, 'onli': 1, 'day': 1, 'after': 1, 'plan': 1, 'wa': 1, 'announc': 1, 'at': 1, 'the': 1, 'labour': 1, 'confer': 1}),\n",
       "       Counter({'rpm': 6, 'the': 6, 'redhat': 5, 'not': 5, 'athalon': 4, 'linux': 4, 'tmp': 4, 'number': 4, 'jkeat': 4, 'doe': 4, 'exist': 4, 'use': 4, 'root': 4, 'error': 3, 'flag': 3, 'i': 3, 'user': 3, 'url': 3, 'list': 3, 'machin': 2, 'bad': 2, 'exit': 2, 'statu': 2, 'from': 2, 'home': 2, 'dale': 2, 'rpmbuild': 2, 'prep': 2, 'you': 2, 'some': 2, 'like': 2, 'are': 2, 't': 2, 'be': 2, 'and': 2, 'group': 2, 'thoma': 2, 'recogn': 1, 'configur': 1, 'bin': 1, 'sh': 1, 'admin': 1, 'config': 1, 'sub': 1, 'fail': 1, 'woah': 1, 'did': 1, 'tweak': 1, 'yourself': 1, 'default': 1, 'what': 1, 'dist': 1, 'run': 1, 'don': 1, 'think': 1, 'there': 1, 's': 1, 'an': 1, 'as': 1, 'standard': 1, 'it': 1, 'should': 1, 'permut': 1, 'of': 1, 'athlon': 1, 'without': 1, 'but': 1, 'can': 1, 'tell': 1, 'for': 1, 'sure': 1, 'ani': 1, 'idea': 1, 'where': 1, 'your': 1, 'system': 1, 'might': 1, 'set': 1, 'thi': 1, 'build': 1, 'look': 1, 'file': 1, 'own': 1, 'by': 1, 'wrong': 1, 'ie': 1, 'origin': 1, 'spec': 1, 'builder': 1, 'dave': 1, 'dina': 1, 'project': 1, 'futur': 1, 'tv': 1, 'today': 1, 'goodby': 1, 've': 1, 'final': 1, 'arriv': 1, 'apestaart': 1, 'org': 1, 'urgent': 1, 'best': 1, 'radio': 1, 'on': 1, 'internet': 1, '_______________________________________________': 1, 'mail': 1, 'freshrpm': 1, 'net': 1}),\n",
       "       Counter({'linux': 13, 'i': 11, 'the': 9, 'a': 9, 'ie': 7, 'number': 7, 'have': 6, 'dell': 6, 'for': 6, 'ilug': 6, 'of': 5, 'in': 5, 'but': 4, 'as': 4, 'to': 4, 'and': 4, 'if': 3, 'comput': 3, 'with': 3, 'from': 3, 'on': 3, 'suse': 3, 'my': 3, 'new': 3, 'it': 3, 'list': 3, 'you': 2, 'hit': 2, 'cap': 2, 'lock': 2, 'twice': 2, 'crash': 2, 'redhat': 2, 'some': 2, 'admin': 2, 'peter': 2, 'post': 2, 'window': 2, 'disk': 2, 'instal': 2, 'which': 2, 't': 2, 'monitor': 2, 'brand': 2, 'nvidia': 2, 'video': 2, 'card': 2, 'featur': 2, 'net': 2, 'me': 2, 'be': 2, 'irish': 2, 'user': 2, 'group': 2, 'url': 2, 'un': 2, 'subscript': 2, 'inform': 2, 'maintain': 2, 'listmast': 2, 'hehe': 1, 'sorri': 1, 'there': 1, 'one': 1, 'ive': 1, 'never': 1, 'heard': 1, 'befor': 1, 'tri': 1, 'support': 1, 'yet': 1, 'think': 1, 'prefer': 1, 'provid': 1, 'pre': 1, 'load': 1, 'red': 1, 'hat': 1, 'dont': 1, 'know': 1, 'sure': 1, 'tho': 1, 'so': 1, 'get': 1, 'someon': 1, 'els': 1, 'opnion': 1, 'well': 1, 'mine': 1, 'origin': 1, 'messag': 1, 'mailto': 1, 'behalf': 1, 'staunton': 1, 'sent': 1, 'august': 1, 'subject': 1, 'newbi': 1, 'seek': 1, 'advic': 1, 'folk': 1, 'first': 1, 'time': 1, 'bit': 1, 'unix': 1, 'experi': 1, 'am': 1, 'just': 1, 'got': 1, 'pc': 1, 'at': 1, 'home': 1, 'box': 1, 'xp': 1, 'ad': 1, 'second': 1, 'hard': 1, 'partit': 1, 'cd': 1, 'went': 1, 'fine': 1, 'except': 1, 'didn': 1, 'pick': 1, 'up': 1, 'enumberfpp': 1, 'lcd': 1, 'flat': 1, 'panel': 1, 'geforcenumb': 1, 'tinumb': 1, 'both': 1, 'are': 1, 'probabl': 1, 'too': 1, 's': 1, 'default': 1, 'set': 1, 'download': 1, 'driver': 1, 'websit': 1, 'use': 1, 'rpm': 1, 'then': 1, 'ran': 1, 'saxnumb': 1, 'wa': 1, 'recommend': 1, 'found': 1, 'still': 1, 'doesn': 1, 'avail': 1, 'what': 1, 'next': 1, 'anoth': 1, 'problem': 1, 'keyboard': 1, 'whole': 1, 'machin': 1, 'not': 1, 'even': 1, 'off': 1, 'switch': 1, 'is': 1, 'inact': 1, 'leav': 1, 'reach': 1, 'power': 1, 'cabl': 1, 'instead': 1, 'anyon': 1, 'can': 1, 'help': 1, 'ani': 1, 'way': 1, 'these': 1, 'prob': 1, 'd': 1, 'realli': 1, 'grate': 1, 've': 1, 'search': 1, 'run': 1, 'out': 1, 'idea': 1, 'or': 1, 'should': 1, 'go': 1, 'differ': 1, 'version': 1, 'such': 1, 'opinion': 1, 'welcom': 1, 'thank': 1, 'lot': 1})],\n",
       "      dtype=object)"
      ]
     },
     "execution_count": 126,
     "metadata": {},
     "output_type": "execute_result"
    }
   ],
   "source": [
    "url_extractor = urlextract.URLExtract()\n",
    "\n",
    "X_few = X[:3]\n",
    "X_few_wordcounts = EmailToWordCounterTransformer().fit_transform(X)\n",
    "X_few_wordcounts"
   ]
  },
  {
   "cell_type": "code",
   "execution_count": 132,
   "id": "44f2739e-3be9-4490-a451-102d0f52a8f7",
   "metadata": {},
   "outputs": [
    {
     "data": {
      "text/plain": [
       "Counter({'the': 14,\n",
       "         'i': 10,\n",
       "         'number': 9,\n",
       "         'server': 5,\n",
       "         'and': 5,\n",
       "         'a': 4,\n",
       "         'of': 4,\n",
       "         'is': 4,\n",
       "         'to': 3,\n",
       "         'it': 3,\n",
       "         'on': 3,\n",
       "         'when': 3,\n",
       "         'get': 3,\n",
       "         'as': 3,\n",
       "         'url': 3,\n",
       "         'numbermbp': 3,\n",
       "         'list': 3,\n",
       "         'but': 2,\n",
       "         'your': 2,\n",
       "         'you': 2,\n",
       "         'don': 2,\n",
       "         't': 2,\n",
       "         'that': 2,\n",
       "         'too': 2,\n",
       "         'mirror': 2,\n",
       "         'ftp': 2,\n",
       "         'which': 2,\n",
       "         'use': 2,\n",
       "         'system': 2,\n",
       "         'matthia': 2,\n",
       "         'rpm': 2,\n",
       "         'onc': 1,\n",
       "         'upon': 1,\n",
       "         'time': 1,\n",
       "         'brian': 1,\n",
       "         'wrote': 1,\n",
       "         'yeah': 1,\n",
       "         'tri': 1,\n",
       "         'take': 1,\n",
       "         'easi': 1,\n",
       "         'golden': 1,\n",
       "         'rule': 1,\n",
       "         'internet': 1,\n",
       "         'find': 1,\n",
       "         'free': 1,\n",
       "         'resourc': 1,\n",
       "         'piss': 1,\n",
       "         'em': 1,\n",
       "         'off': 1,\n",
       "         'realli': 1,\n",
       "         'appreci': 1,\n",
       "         'work': 1,\n",
       "         'done': 1,\n",
       "         'thing': 1,\n",
       "         'wish': 1,\n",
       "         'could': 1,\n",
       "         'respect': 1,\n",
       "         'worri': 1,\n",
       "         'much': 1,\n",
       "         'day': 1,\n",
       "         'busi': 1,\n",
       "         'll': 1,\n",
       "         'cleanup': 1,\n",
       "         'publish': 1,\n",
       "         'address': 1,\n",
       "         'some': 1,\n",
       "         'mani': 1,\n",
       "         'exist': 1,\n",
       "         'm': 1,\n",
       "         'awar': 1,\n",
       "         'at': 1,\n",
       "         'least': 1,\n",
       "         'even': 1,\n",
       "         'an': 1,\n",
       "         'apt': 1,\n",
       "         'one': 1,\n",
       "         'for': 1,\n",
       "         'now': 1,\n",
       "         'limit': 1,\n",
       "         'far': 1,\n",
       "         'enough': 1,\n",
       "         'unlock': 1,\n",
       "         'psych': 1,\n",
       "         'iso': 1,\n",
       "         'imag': 1,\n",
       "         'monday': 1,\n",
       "         'bandwidth': 1,\n",
       "         'usag': 1,\n",
       "         'current': 1,\n",
       "         'http': 1,\n",
       "         'rsync': 1,\n",
       "         'went': 1,\n",
       "         'up': 1,\n",
       "         'sustain': 1,\n",
       "         'not': 1,\n",
       "         'bad': 1,\n",
       "         'ha': 1,\n",
       "         'physic': 1,\n",
       "         'nic': 1,\n",
       "         'cours': 1,\n",
       "         'd': 1,\n",
       "         'in': 1,\n",
       "         'troubl': 1,\n",
       "         'if': 1,\n",
       "         'wa': 1,\n",
       "         'alway': 1,\n",
       "         'like': 1,\n",
       "         'averag': 1,\n",
       "         'no': 1,\n",
       "         'new': 1,\n",
       "         'red': 1,\n",
       "         'hat': 1,\n",
       "         'releas': 1,\n",
       "         'there': 1,\n",
       "         'between': 1,\n",
       "         'my': 1,\n",
       "         'compani': 1,\n",
       "         'toler': 1,\n",
       "         've': 1,\n",
       "         'convinc': 1,\n",
       "         'them': 1,\n",
       "         's': 1,\n",
       "         'return': 1,\n",
       "         'commun': 1,\n",
       "         'provid': 1,\n",
       "         'us': 1,\n",
       "         'great': 1,\n",
       "         'oper': 1,\n",
       "         'all': 1,\n",
       "         'our': 1,\n",
       "         'are': 1,\n",
       "         'run': 1,\n",
       "         'saou': 1,\n",
       "         'world': 1,\n",
       "         'trade': 1,\n",
       "         'center': 1,\n",
       "         'edificio': 1,\n",
       "         'nort': 1,\n",
       "         'planta': 1,\n",
       "         'network': 1,\n",
       "         'engin': 1,\n",
       "         'barcelona': 1,\n",
       "         'spain': 1,\n",
       "         'electron': 1,\n",
       "         'group': 1,\n",
       "         'interact': 1,\n",
       "         'phone': 1,\n",
       "         '_______________________________________________': 1,\n",
       "         'mail': 1})"
      ]
     },
     "execution_count": 132,
     "metadata": {},
     "output_type": "execute_result"
    }
   ],
   "source": [
    "X_few_wordcounts[0]"
   ]
  },
  {
   "cell_type": "code",
   "execution_count": 128,
   "id": "17c940b0-b45c-4c08-9028-84c6630e2212",
   "metadata": {},
   "outputs": [],
   "source": [
    "from scipy.sparse import csr_matrix\n",
    "\n",
    "class WordCounterToVectorTransformer(BaseEstimator, TransformerMixin):\n",
    "    def __init__(self, vocabulary_size=1000):\n",
    "        self.vocabulary_size = vocabulary_size\n",
    "    def fit(self, X, y=None):\n",
    "        total_count = Counter()\n",
    "        for word_count in X:\n",
    "            for word, count in word_count.items():\n",
    "                total_count[word] += min(count, 10)\n",
    "        most_common = total_count.most_common()[:self.vocabulary_size]\n",
    "        self.vocabulary_ = {word: index + 1\n",
    "                            for index, (word, count) in enumerate(most_common)}\n",
    "        return self\n",
    "    def transform(self, X, y=None):\n",
    "        rows = []\n",
    "        cols = []\n",
    "        data = []\n",
    "        for row, word_count in enumerate(X):\n",
    "            for word, count in word_count.items():\n",
    "                rows.append(row)\n",
    "                cols.append(self.vocabulary_.get(word, 0))\n",
    "                data.append(count)\n",
    "        return csr_matrix((data, (rows, cols)),\n",
    "                          shape=(len(X), self.vocabulary_size + 1))"
   ]
  },
  {
   "cell_type": "code",
   "execution_count": 129,
   "id": "4c3625b1-eee6-4cb9-9e9c-1275fd690c53",
   "metadata": {},
   "outputs": [
    {
     "data": {
      "text/plain": [
       "<Compressed Sparse Row sparse matrix of dtype 'int64'\n",
       "\twith 16204 stored elements and shape (1920, 11)>"
      ]
     },
     "execution_count": 129,
     "metadata": {},
     "output_type": "execute_result"
    }
   ],
   "source": [
    "vocab_transformer = WordCounterToVectorTransformer(vocabulary_size=10)\n",
    "X_few_vectors = vocab_transformer.fit_transform(X_few_wordcounts)\n",
    "X_few_vectors"
   ]
  },
  {
   "cell_type": "code",
   "execution_count": 130,
   "id": "6dc1986b-8de6-42a3-98c7-c900fc6e2306",
   "metadata": {},
   "outputs": [
    {
     "data": {
      "text/plain": [
       "array([[171,   9,  14, ...,   1,   3,   4],\n",
       "       [ 58,   0,   3, ...,   0,   1,   1],\n",
       "       [145,  10,   9, ...,   3,   3,   1],\n",
       "       ...,\n",
       "       [ 17,   6,   1, ...,   0,   2,   0],\n",
       "       [166,   4,   6, ...,   0,   3,   0],\n",
       "       [282,   7,   9, ...,   5,   2,   1]])"
      ]
     },
     "execution_count": 130,
     "metadata": {},
     "output_type": "execute_result"
    }
   ],
   "source": [
    "X_few_vectors.toarray()"
   ]
  },
  {
   "cell_type": "code",
   "execution_count": 131,
   "id": "3c3eee80-edb4-4346-96b2-ab2885b16576",
   "metadata": {},
   "outputs": [
    {
     "data": {
      "text/plain": [
       "{'number': 1,\n",
       " 'the': 2,\n",
       " 'to': 3,\n",
       " 'a': 4,\n",
       " 'and': 5,\n",
       " 'of': 6,\n",
       " 'i': 7,\n",
       " 'in': 8,\n",
       " 'url': 9,\n",
       " 'is': 10}"
      ]
     },
     "execution_count": 131,
     "metadata": {},
     "output_type": "execute_result"
    }
   ],
   "source": [
    "vocab_transformer.vocabulary_"
   ]
  },
  {
   "cell_type": "code",
   "execution_count": 134,
   "id": "f32ebad3-77f8-42e7-9698-f1db49bf52db",
   "metadata": {},
   "outputs": [],
   "source": [
    "from sklearn.pipeline import Pipeline\n",
    "\n",
    "preprocess_pipeline = Pipeline([\n",
    "    (\"email_to_wordcount\", EmailToWordCounterTransformer()),\n",
    "    (\"wordcount_to_vector\", WordCounterToVectorTransformer()),\n",
    "])\n",
    "\n",
    "X_train_transformed = preprocess_pipeline.fit_transform(X)"
   ]
  },
  {
   "cell_type": "code",
   "execution_count": 135,
   "id": "77eb427d-3c6a-4ab0-91b9-aeadd81adf17",
   "metadata": {},
   "outputs": [
    {
     "data": {
      "text/plain": [
       "<Compressed Sparse Row sparse matrix of dtype 'int64'\n",
       "\twith 149590 stored elements and shape (1920, 1001)>"
      ]
     },
     "execution_count": 135,
     "metadata": {},
     "output_type": "execute_result"
    }
   ],
   "source": [
    "X_train_transformed"
   ]
  },
  {
   "cell_type": "code",
   "execution_count": 137,
   "id": "2b6b73eb-ace7-4078-a676-e327ac37027a",
   "metadata": {},
   "outputs": [
    {
     "data": {
      "text/plain": [
       "0.9812500000000001"
      ]
     },
     "execution_count": 137,
     "metadata": {},
     "output_type": "execute_result"
    }
   ],
   "source": [
    "from sklearn.linear_model import LogisticRegression\n",
    "from sklearn.model_selection import cross_val_score\n",
    "\n",
    "log_clf = LogisticRegression(max_iter=1000, random_state=42)\n",
    "score = cross_val_score(log_clf, X_train_transformed, y, cv=3)\n",
    "score.mean()"
   ]
  },
  {
   "cell_type": "code",
   "execution_count": 139,
   "id": "b71bc739-d2db-44ed-9cca-4ceebd76e111",
   "metadata": {},
   "outputs": [
    {
     "name": "stdout",
     "output_type": "stream",
     "text": [
      "Precision: 98.73%\n",
      "Recall: 95.12%\n"
     ]
    }
   ],
   "source": [
    "from sklearn.metrics import precision_score, recall_score\n",
    "\n",
    "X_test_transformed = preprocess_pipeline.transform(X_test)\n",
    "\n",
    "log_clf = LogisticRegression(max_iter=1000, random_state=42)\n",
    "log_clf.fit(X_train_transformed, y)\n",
    "\n",
    "y_pred = log_clf.predict(X_test_transformed)\n",
    "\n",
    "print(f\"Precision: {precision_score(y_test, y_pred):.2%}\")\n",
    "print(f\"Recall: {recall_score(y_test, y_pred):.2%}\")"
   ]
  },
  {
   "cell_type": "code",
   "execution_count": null,
   "id": "f3871ba0-4328-4dec-8bf6-67547d2cf7c9",
   "metadata": {},
   "outputs": [],
   "source": []
  }
 ],
 "metadata": {
  "kernelspec": {
   "display_name": "Python 3 (ipykernel)",
   "language": "python",
   "name": "python3"
  },
  "language_info": {
   "codemirror_mode": {
    "name": "ipython",
    "version": 3
   },
   "file_extension": ".py",
   "mimetype": "text/x-python",
   "name": "python",
   "nbconvert_exporter": "python",
   "pygments_lexer": "ipython3",
   "version": "3.10.13"
  }
 },
 "nbformat": 4,
 "nbformat_minor": 5
}
