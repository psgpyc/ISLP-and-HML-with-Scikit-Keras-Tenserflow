{
 "cells": [
  {
   "cell_type": "markdown",
   "id": "0c93db95-6905-4bd3-a31d-3fe7ad3a53b2",
   "metadata": {},
   "source": [
    "The sklearn `sklearn.datasets` api is useful for downloading datasets from the internet, access bundled datasets within sklearn or create fake datasets for testing purpose."
   ]
  },
  {
   "cell_type": "markdown",
   "id": "57bfa200-564c-4dc0-b75b-b2c62633bb8f",
   "metadata": {},
   "source": [
    "`fetch_*`: to download dataset  \n",
    "`load_*`: load toy dataset within sklearn  \n",
    "`make_*`: generate fake dataset, returned in (X,y) tuple  "
   ]
  },
  {
   "cell_type": "code",
   "execution_count": 1,
   "id": "34d58636-27b7-4452-a521-6f49c503ab42",
   "metadata": {},
   "outputs": [],
   "source": [
    "import numpy as np"
   ]
  },
  {
   "cell_type": "code",
   "execution_count": 2,
   "id": "20089951-ede0-4822-a1ab-1ef0f7a2d808",
   "metadata": {},
   "outputs": [],
   "source": [
    "from sklearn.datasets import fetch_openml"
   ]
  },
  {
   "cell_type": "code",
   "execution_count": 12,
   "id": "7621afcb-61df-49b1-9ad4-266d74b9215d",
   "metadata": {},
   "outputs": [],
   "source": [
    "mnist = fetch_openml('mnist_784', as_frame=False)"
   ]
  },
  {
   "cell_type": "markdown",
   "id": "c13f14a7-62bf-4851-a2bf-fa2e96762366",
   "metadata": {},
   "source": [
    "**As we can see, the dataset is returned as a dictionary.**"
   ]
  },
  {
   "cell_type": "code",
   "execution_count": 13,
   "id": "8d56236b-f943-46e4-8d2e-26fe783fe998",
   "metadata": {},
   "outputs": [],
   "source": [
    "X, y = mnist.data, mnist.target"
   ]
  },
  {
   "cell_type": "code",
   "execution_count": 14,
   "id": "97ca2751-6b1f-44bc-8b3a-a2142c274d57",
   "metadata": {},
   "outputs": [
    {
     "data": {
      "text/plain": [
       "(70000, 784)"
      ]
     },
     "execution_count": 14,
     "metadata": {},
     "output_type": "execute_result"
    }
   ],
   "source": [
    "X.shape"
   ]
  },
  {
   "cell_type": "code",
   "execution_count": 15,
   "id": "6437dcd7-5cf4-49dd-ba4a-9207beede0c3",
   "metadata": {},
   "outputs": [
    {
     "data": {
      "text/plain": [
       "(70000,)"
      ]
     },
     "execution_count": 15,
     "metadata": {},
     "output_type": "execute_result"
    }
   ],
   "source": [
    "y.shape"
   ]
  },
  {
   "cell_type": "markdown",
   "id": "2987ec26-b120-4638-8d5e-bbb3b8e30458",
   "metadata": {},
   "source": [
    "## Lets see one of the image"
   ]
  },
  {
   "cell_type": "code",
   "execution_count": 16,
   "id": "e1e80dbf-f0b9-40af-ad89-f1a4eb6b09cc",
   "metadata": {},
   "outputs": [],
   "source": [
    "import matplotlib.pyplot as plt\n",
    "\n",
    "def display_img(img_data=None):\n",
    "    img_reshape = img_data.reshape(28,28)\n",
    "    plt.imshow(img_reshape, cmap=\"binary\")\n",
    "    plt.axis(\"off\")\n",
    "    "
   ]
  },
  {
   "cell_type": "code",
   "execution_count": 17,
   "id": "af813bf1-642c-46e3-a275-1e84837b3e32",
   "metadata": {},
   "outputs": [
    {
     "data": {
      "image/png": "[encoded data removed]",
      "text/plain": [
       "<Figure size 640x480 with 1 Axes>"
      ]
     },
     "metadata": {},
     "output_type": "display_data"
    }
   ],
   "source": [
    "display_img(img_data=X[1000])"
   ]
  },
  {
   "cell_type": "code",
   "execution_count": 18,
   "id": "75453ea3-61f3-410c-9efe-66f43e54f627",
   "metadata": {},
   "outputs": [
    {
     "data": {
      "text/plain": [
       "'0'"
      ]
     },
     "execution_count": 18,
     "metadata": {},
     "output_type": "execute_result"
    }
   ],
   "source": [
    "y[1000]"
   ]
  },
  {
   "cell_type": "markdown",
   "id": "be0467ab-97ff-42b7-ac7c-e9be51827700",
   "metadata": {},
   "source": [
    "### Train test split"
   ]
  },
  {
   "cell_type": "code",
   "execution_count": 19,
   "id": "4316a97e-192d-4a24-8bd9-ec84456df40a",
   "metadata": {},
   "outputs": [],
   "source": [
    "X_train, X_test, y_train, y_test = X[:60000], X[60000:], y[:60000], y[60000:]"
   ]
  },
  {
   "cell_type": "markdown",
   "id": "8fab4293-e55c-4d50-9264-c46cc5c871dc",
   "metadata": {},
   "source": [
    "## Training a binary classification"
   ]
  },
  {
   "cell_type": "markdown",
   "id": "2daaa141-00d0-4e05-89f8-f8202377c395",
   "metadata": {},
   "source": [
    "Let us try to distinguish between 1 or not 1. "
   ]
  },
  {
   "cell_type": "code",
   "execution_count": 20,
   "id": "56fa21d8-6eb7-4abd-a164-ff8bd2e7a494",
   "metadata": {},
   "outputs": [],
   "source": [
    "y_train_1 = (y_train == \"2\")"
   ]
  },
  {
   "cell_type": "code",
   "execution_count": 21,
   "id": "3b238493-ae0a-4208-bef1-39c723472894",
   "metadata": {},
   "outputs": [
    {
     "data": {
      "text/plain": [
       "array([False, False, False, ..., False, False, False])"
      ]
     },
     "execution_count": 21,
     "metadata": {},
     "output_type": "execute_result"
    }
   ],
   "source": [
    "y_train_1"
   ]
  },
  {
   "cell_type": "code",
   "execution_count": 22,
   "id": "fae8146b-370a-407d-8f04-04f59ba9178c",
   "metadata": {},
   "outputs": [],
   "source": [
    "y_test_1 = (y_test == \"2\")"
   ]
  },
  {
   "cell_type": "markdown",
   "id": "cace551d-d255-44e8-a7f5-c3cc2df3060b",
   "metadata": {},
   "source": [
    "## Using Schocastic Gradient Descent (SGD) classifier "
   ]
  },
  {
   "cell_type": "code",
   "execution_count": 25,
   "id": "f4a259f0-d48b-41ac-ab65-c66df82293bf",
   "metadata": {},
   "outputs": [],
   "source": [
    "from sklearn.linear_model import SGDClassifier"
   ]
  },
  {
   "cell_type": "code",
   "execution_count": 26,
   "id": "7eaf6ba2-1fe5-4a53-8670-d454e7acf74a",
   "metadata": {},
   "outputs": [],
   "source": [
    "sgd_clf = SGDClassifier(random_state=42)"
   ]
  },
  {
   "cell_type": "code",
   "execution_count": 27,
   "id": "0e13f1e1-0cce-4fe2-9b8f-edb511017a2d",
   "metadata": {},
   "outputs": [
    {
     "data": {
      "text/html": [
       "<style>#sk-container-id-1 {\n",
       "  /* Definition of color scheme common for light and dark mode */\n",
       "  --sklearn-color-text: black;\n",
       "  --sklearn-color-line: gray;\n",
       "  /* Definition of color scheme for unfitted estimators */\n",
       "  --sklearn-color-unfitted-level-0: #fff5e6;\n",
       "  --sklearn-color-unfitted-level-1: #f6e4d2;\n",
       "  --sklearn-color-unfitted-level-2: #ffe0b3;\n",
       "  --sklearn-color-unfitted-level-3: chocolate;\n",
       "  /* Definition of color scheme for fitted estimators */\n",
       "  --sklearn-color-fitted-level-0: #f0f8ff;\n",
       "  --sklearn-color-fitted-level-1: #d4ebff;\n",
       "  --sklearn-color-fitted-level-2: #b3dbfd;\n",
       "  --sklearn-color-fitted-level-3: cornflowerblue;\n",
       "\n",
       "  /* Specific color for light theme */\n",
       "  --sklearn-color-text-on-default-background: var(--sg-text-color, var(--theme-code-foreground, var(--jp-content-font-color1, black)));\n",
       "  --sklearn-color-background: var(--sg-background-color, var(--theme-background, var(--jp-layout-color0, white)));\n",
       "  --sklearn-color-border-box: var(--sg-text-color, var(--theme-code-foreground, var(--jp-content-font-color1, black)));\n",
       "  --sklearn-color-icon: #696969;\n",
       "\n",
       "  @media (prefers-color-scheme: dark) {\n",
       "    /* Redefinition of color scheme for dark theme */\n",
       "    --sklearn-color-text-on-default-background: var(--sg-text-color, var(--theme-code-foreground, var(--jp-content-font-color1, white)));\n",
       "    --sklearn-color-background: var(--sg-background-color, var(--theme-background, var(--jp-layout-color0, #111)));\n",
       "    --sklearn-color-border-box: var(--sg-text-color, var(--theme-code-foreground, var(--jp-content-font-color1, white)));\n",
       "    --sklearn-color-icon: #878787;\n",
       "  }\n",
       "}\n",
       "\n",
       "#sk-container-id-1 {\n",
       "  color: var(--sklearn-color-text);\n",
       "}\n",
       "\n",
       "#sk-container-id-1 pre {\n",
       "  padding: 0;\n",
       "}\n",
       "\n",
       "#sk-container-id-1 input.sk-hidden--visually {\n",
       "  border: 0;\n",
       "  clip: rect(1px 1px 1px 1px);\n",
       "  clip: rect(1px, 1px, 1px, 1px);\n",
       "  height: 1px;\n",
       "  margin: -1px;\n",
       "  overflow: hidden;\n",
       "  padding: 0;\n",
       "  position: absolute;\n",
       "  width: 1px;\n",
       "}\n",
       "\n",
       "#sk-container-id-1 div.sk-dashed-wrapped {\n",
       "  border: 1px dashed var(--sklearn-color-line);\n",
       "  margin: 0 0.4em 0.5em 0.4em;\n",
       "  box-sizing: border-box;\n",
       "  padding-bottom: 0.4em;\n",
       "  background-color: var(--sklearn-color-background);\n",
       "}\n",
       "\n",
       "#sk-container-id-1 div.sk-container {\n",
       "  /* jupyter's `normalize.less` sets `[hidden] { display: none; }`\n",
       "     but bootstrap.min.css set `[hidden] { display: none !important; }`\n",
       "     so we also need the `!important` here to be able to override the\n",
       "     default hidden behavior on the sphinx rendered scikit-learn.org.\n",
       "     See: https://github.com/scikit-learn/scikit-learn/issues/21755 */\n",
       "  display: inline-block !important;\n",
       "  position: relative;\n",
       "}\n",
       "\n",
       "#sk-container-id-1 div.sk-text-repr-fallback {\n",
       "  display: none;\n",
       "}\n",
       "\n",
       "div.sk-parallel-item,\n",
       "div.sk-serial,\n",
       "div.sk-item {\n",
       "  /* draw centered vertical line to link estimators */\n",
       "  background-image: linear-gradient(var(--sklearn-color-text-on-default-background), var(--sklearn-color-text-on-default-background));\n",
       "  background-size: 2px 100%;\n",
       "  background-repeat: no-repeat;\n",
       "  background-position: center center;\n",
       "}\n",
       "\n",
       "/* Parallel-specific style estimator block */\n",
       "\n",
       "#sk-container-id-1 div.sk-parallel-item::after {\n",
       "  content: \"\";\n",
       "  width: 100%;\n",
       "  border-bottom: 2px solid var(--sklearn-color-text-on-default-background);\n",
       "  flex-grow: 1;\n",
       "}\n",
       "\n",
       "#sk-container-id-1 div.sk-parallel {\n",
       "  display: flex;\n",
       "  align-items: stretch;\n",
       "  justify-content: center;\n",
       "  background-color: var(--sklearn-color-background);\n",
       "  position: relative;\n",
       "}\n",
       "\n",
       "#sk-container-id-1 div.sk-parallel-item {\n",
       "  display: flex;\n",
       "  flex-direction: column;\n",
       "}\n",
       "\n",
       "#sk-container-id-1 div.sk-parallel-item:first-child::after {\n",
       "  align-self: flex-end;\n",
       "  width: 50%;\n",
       "}\n",
       "\n",
       "#sk-container-id-1 div.sk-parallel-item:last-child::after {\n",
       "  align-self: flex-start;\n",
       "  width: 50%;\n",
       "}\n",
       "\n",
       "#sk-container-id-1 div.sk-parallel-item:only-child::after {\n",
       "  width: 0;\n",
       "}\n",
       "\n",
       "/* Serial-specific style estimator block */\n",
       "\n",
       "#sk-container-id-1 div.sk-serial {\n",
       "  display: flex;\n",
       "  flex-direction: column;\n",
       "  align-items: center;\n",
       "  background-color: var(--sklearn-color-background);\n",
       "  padding-right: 1em;\n",
       "  padding-left: 1em;\n",
       "}\n",
       "\n",
       "\n",
       "/* Toggleable style: style used for estimator/Pipeline/ColumnTransformer box that is\n",
       "clickable and can be expanded/collapsed.\n",
       "- Pipeline and ColumnTransformer use this feature and define the default style\n",
       "- Estimators will overwrite some part of the style using the `sk-estimator` class\n",
       "*/\n",
       "\n",
       "/* Pipeline and ColumnTransformer style (default) */\n",
       "\n",
       "#sk-container-id-1 div.sk-toggleable {\n",
       "  /* Default theme specific background. It is overwritten whether we have a\n",
       "  specific estimator or a Pipeline/ColumnTransformer */\n",
       "  background-color: var(--sklearn-color-background);\n",
       "}\n",
       "\n",
       "/* Toggleable label */\n",
       "#sk-container-id-1 label.sk-toggleable__label {\n",
       "  cursor: pointer;\n",
       "  display: block;\n",
       "  width: 100%;\n",
       "  margin-bottom: 0;\n",
       "  padding: 0.5em;\n",
       "  box-sizing: border-box;\n",
       "  text-align: center;\n",
       "}\n",
       "\n",
       "#sk-container-id-1 label.sk-toggleable__label-arrow:before {\n",
       "  /* Arrow on the left of the label */\n",
       "  content: \"▸\";\n",
       "  float: left;\n",
       "  margin-right: 0.25em;\n",
       "  color: var(--sklearn-color-icon);\n",
       "}\n",
       "\n",
       "#sk-container-id-1 label.sk-toggleable__label-arrow:hover:before {\n",
       "  color: var(--sklearn-color-text);\n",
       "}\n",
       "\n",
       "/* Toggleable content - dropdown */\n",
       "\n",
       "#sk-container-id-1 div.sk-toggleable__content {\n",
       "  max-height: 0;\n",
       "  max-width: 0;\n",
       "  overflow: hidden;\n",
       "  text-align: left;\n",
       "  /* unfitted */\n",
       "  background-color: var(--sklearn-color-unfitted-level-0);\n",
       "}\n",
       "\n",
       "#sk-container-id-1 div.sk-toggleable__content.fitted {\n",
       "  /* fitted */\n",
       "  background-color: var(--sklearn-color-fitted-level-0);\n",
       "}\n",
       "\n",
       "#sk-container-id-1 div.sk-toggleable__content pre {\n",
       "  margin: 0.2em;\n",
       "  border-radius: 0.25em;\n",
       "  color: var(--sklearn-color-text);\n",
       "  /* unfitted */\n",
       "  background-color: var(--sklearn-color-unfitted-level-0);\n",
       "}\n",
       "\n",
       "#sk-container-id-1 div.sk-toggleable__content.fitted pre {\n",
       "  /* unfitted */\n",
       "  background-color: var(--sklearn-color-fitted-level-0);\n",
       "}\n",
       "\n",
       "#sk-container-id-1 input.sk-toggleable__control:checked~div.sk-toggleable__content {\n",
       "  /* Expand drop-down */\n",
       "  max-height: 200px;\n",
       "  max-width: 100%;\n",
       "  overflow: auto;\n",
       "}\n",
       "\n",
       "#sk-container-id-1 input.sk-toggleable__control:checked~label.sk-toggleable__label-arrow:before {\n",
       "  content: \"▾\";\n",
       "}\n",
       "\n",
       "/* Pipeline/ColumnTransformer-specific style */\n",
       "\n",
       "#sk-container-id-1 div.sk-label input.sk-toggleable__control:checked~label.sk-toggleable__label {\n",
       "  color: var(--sklearn-color-text);\n",
       "  background-color: var(--sklearn-color-unfitted-level-2);\n",
       "}\n",
       "\n",
       "#sk-container-id-1 div.sk-label.fitted input.sk-toggleable__control:checked~label.sk-toggleable__label {\n",
       "  background-color: var(--sklearn-color-fitted-level-2);\n",
       "}\n",
       "\n",
       "/* Estimator-specific style */\n",
       "\n",
       "/* Colorize estimator box */\n",
       "#sk-container-id-1 div.sk-estimator input.sk-toggleable__control:checked~label.sk-toggleable__label {\n",
       "  /* unfitted */\n",
       "  background-color: var(--sklearn-color-unfitted-level-2);\n",
       "}\n",
       "\n",
       "#sk-container-id-1 div.sk-estimator.fitted input.sk-toggleable__control:checked~label.sk-toggleable__label {\n",
       "  /* fitted */\n",
       "  background-color: var(--sklearn-color-fitted-level-2);\n",
       "}\n",
       "\n",
       "#sk-container-id-1 div.sk-label label.sk-toggleable__label,\n",
       "#sk-container-id-1 div.sk-label label {\n",
       "  /* The background is the default theme color */\n",
       "  color: var(--sklearn-color-text-on-default-background);\n",
       "}\n",
       "\n",
       "/* On hover, darken the color of the background */\n",
       "#sk-container-id-1 div.sk-label:hover label.sk-toggleable__label {\n",
       "  color: var(--sklearn-color-text);\n",
       "  background-color: var(--sklearn-color-unfitted-level-2);\n",
       "}\n",
       "\n",
       "/* Label box, darken color on hover, fitted */\n",
       "#sk-container-id-1 div.sk-label.fitted:hover label.sk-toggleable__label.fitted {\n",
       "  color: var(--sklearn-color-text);\n",
       "  background-color: var(--sklearn-color-fitted-level-2);\n",
       "}\n",
       "\n",
       "/* Estimator label */\n",
       "\n",
       "#sk-container-id-1 div.sk-label label {\n",
       "  font-family: monospace;\n",
       "  font-weight: bold;\n",
       "  display: inline-block;\n",
       "  line-height: 1.2em;\n",
       "}\n",
       "\n",
       "#sk-container-id-1 div.sk-label-container {\n",
       "  text-align: center;\n",
       "}\n",
       "\n",
       "/* Estimator-specific */\n",
       "#sk-container-id-1 div.sk-estimator {\n",
       "  font-family: monospace;\n",
       "  border: 1px dotted var(--sklearn-color-border-box);\n",
       "  border-radius: 0.25em;\n",
       "  box-sizing: border-box;\n",
       "  margin-bottom: 0.5em;\n",
       "  /* unfitted */\n",
       "  background-color: var(--sklearn-color-unfitted-level-0);\n",
       "}\n",
       "\n",
       "#sk-container-id-1 div.sk-estimator.fitted {\n",
       "  /* fitted */\n",
       "  background-color: var(--sklearn-color-fitted-level-0);\n",
       "}\n",
       "\n",
       "/* on hover */\n",
       "#sk-container-id-1 div.sk-estimator:hover {\n",
       "  /* unfitted */\n",
       "  background-color: var(--sklearn-color-unfitted-level-2);\n",
       "}\n",
       "\n",
       "#sk-container-id-1 div.sk-estimator.fitted:hover {\n",
       "  /* fitted */\n",
       "  background-color: var(--sklearn-color-fitted-level-2);\n",
       "}\n",
       "\n",
       "/* Specification for estimator info (e.g. \"i\" and \"?\") */\n",
       "\n",
       "/* Common style for \"i\" and \"?\" */\n",
       "\n",
       ".sk-estimator-doc-link,\n",
       "a:link.sk-estimator-doc-link,\n",
       "a:visited.sk-estimator-doc-link {\n",
       "  float: right;\n",
       "  font-size: smaller;\n",
       "  line-height: 1em;\n",
       "  font-family: monospace;\n",
       "  background-color: var(--sklearn-color-background);\n",
       "  border-radius: 1em;\n",
       "  height: 1em;\n",
       "  width: 1em;\n",
       "  text-decoration: none !important;\n",
       "  margin-left: 1ex;\n",
       "  /* unfitted */\n",
       "  border: var(--sklearn-color-unfitted-level-1) 1pt solid;\n",
       "  color: var(--sklearn-color-unfitted-level-1);\n",
       "}\n",
       "\n",
       ".sk-estimator-doc-link.fitted,\n",
       "a:link.sk-estimator-doc-link.fitted,\n",
       "a:visited.sk-estimator-doc-link.fitted {\n",
       "  /* fitted */\n",
       "  border: var(--sklearn-color-fitted-level-1) 1pt solid;\n",
       "  color: var(--sklearn-color-fitted-level-1);\n",
       "}\n",
       "\n",
       "/* On hover */\n",
       "div.sk-estimator:hover .sk-estimator-doc-link:hover,\n",
       ".sk-estimator-doc-link:hover,\n",
       "div.sk-label-container:hover .sk-estimator-doc-link:hover,\n",
       ".sk-estimator-doc-link:hover {\n",
       "  /* unfitted */\n",
       "  background-color: var(--sklearn-color-unfitted-level-3);\n",
       "  color: var(--sklearn-color-background);\n",
       "  text-decoration: none;\n",
       "}\n",
       "\n",
       "div.sk-estimator.fitted:hover .sk-estimator-doc-link.fitted:hover,\n",
       ".sk-estimator-doc-link.fitted:hover,\n",
       "div.sk-label-container:hover .sk-estimator-doc-link.fitted:hover,\n",
       ".sk-estimator-doc-link.fitted:hover {\n",
       "  /* fitted */\n",
       "  background-color: var(--sklearn-color-fitted-level-3);\n",
       "  color: var(--sklearn-color-background);\n",
       "  text-decoration: none;\n",
       "}\n",
       "\n",
       "/* Span, style for the box shown on hovering the info icon */\n",
       ".sk-estimator-doc-link span {\n",
       "  display: none;\n",
       "  z-index: 9999;\n",
       "  position: relative;\n",
       "  font-weight: normal;\n",
       "  right: .2ex;\n",
       "  padding: .5ex;\n",
       "  margin: .5ex;\n",
       "  width: min-content;\n",
       "  min-width: 20ex;\n",
       "  max-width: 50ex;\n",
       "  color: var(--sklearn-color-text);\n",
       "  box-shadow: 2pt 2pt 4pt #999;\n",
       "  /* unfitted */\n",
       "  background: var(--sklearn-color-unfitted-level-0);\n",
       "  border: .5pt solid var(--sklearn-color-unfitted-level-3);\n",
       "}\n",
       "\n",
       ".sk-estimator-doc-link.fitted span {\n",
       "  /* fitted */\n",
       "  background: var(--sklearn-color-fitted-level-0);\n",
       "  border: var(--sklearn-color-fitted-level-3);\n",
       "}\n",
       "\n",
       ".sk-estimator-doc-link:hover span {\n",
       "  display: block;\n",
       "}\n",
       "\n",
       "/* \"?\"-specific style due to the `<a>` HTML tag */\n",
       "\n",
       "#sk-container-id-1 a.estimator_doc_link {\n",
       "  float: right;\n",
       "  font-size: 1rem;\n",
       "  line-height: 1em;\n",
       "  font-family: monospace;\n",
       "  background-color: var(--sklearn-color-background);\n",
       "  border-radius: 1rem;\n",
       "  height: 1rem;\n",
       "  width: 1rem;\n",
       "  text-decoration: none;\n",
       "  /* unfitted */\n",
       "  color: var(--sklearn-color-unfitted-level-1);\n",
       "  border: var(--sklearn-color-unfitted-level-1) 1pt solid;\n",
       "}\n",
       "\n",
       "#sk-container-id-1 a.estimator_doc_link.fitted {\n",
       "  /* fitted */\n",
       "  border: var(--sklearn-color-fitted-level-1) 1pt solid;\n",
       "  color: var(--sklearn-color-fitted-level-1);\n",
       "}\n",
       "\n",
       "/* On hover */\n",
       "#sk-container-id-1 a.estimator_doc_link:hover {\n",
       "  /* unfitted */\n",
       "  background-color: var(--sklearn-color-unfitted-level-3);\n",
       "  color: var(--sklearn-color-background);\n",
       "  text-decoration: none;\n",
       "}\n",
       "\n",
       "#sk-container-id-1 a.estimator_doc_link.fitted:hover {\n",
       "  /* fitted */\n",
       "  background-color: var(--sklearn-color-fitted-level-3);\n",
       "}\n",
       "</style><div id=\"sk-container-id-1\" class=\"sk-top-container\"><div class=\"sk-text-repr-fallback\"><pre>SGDClassifier(random_state=42)</pre><b>In a Jupyter environment, please rerun this cell to show the HTML representation or trust the notebook. <br />On GitHub, the HTML representation is unable to render, please try loading this page with nbviewer.org.</b></div><div class=\"sk-container\" hidden><div class=\"sk-item\"><div class=\"sk-estimator fitted sk-toggleable\"><input class=\"sk-toggleable__control sk-hidden--visually\" id=\"sk-estimator-id-1\" type=\"checkbox\" checked><label for=\"sk-estimator-id-1\" class=\"sk-toggleable__label fitted sk-toggleable__label-arrow fitted\">&nbsp;&nbsp;SGDClassifier<a class=\"sk-estimator-doc-link fitted\" rel=\"noreferrer\" target=\"_blank\" href=\"https://scikit-learn.org/1.5/modules/generated/sklearn.linear_model.SGDClassifier.html\">?<span>Documentation for SGDClassifier</span></a><span class=\"sk-estimator-doc-link fitted\">i<span>Fitted</span></span></label><div class=\"sk-toggleable__content fitted\"><pre>SGDClassifier(random_state=42)</pre></div> </div></div></div></div>"
      ],
      "text/plain": [
       "SGDClassifier(random_state=42)"
      ]
     },
     "execution_count": 27,
     "metadata": {},
     "output_type": "execute_result"
    }
   ],
   "source": [
    "sgd_clf.fit(X_train, y_train_1)"
   ]
  },
  {
   "cell_type": "code",
   "execution_count": 29,
   "id": "520359d1-217b-4617-aacd-1e576773a7c8",
   "metadata": {},
   "outputs": [
    {
     "data": {
      "text/plain": [
       "array([False])"
      ]
     },
     "execution_count": 29,
     "metadata": {},
     "output_type": "execute_result"
    }
   ],
   "source": [
    "sgd_clf.predict([X_train[100]])"
   ]
  },
  {
   "cell_type": "code",
   "execution_count": 30,
   "id": "bfa8b60c-04be-4b47-9705-4670e1ea2396",
   "metadata": {},
   "outputs": [
    {
     "data": {
      "text/plain": [
       "'5'"
      ]
     },
     "execution_count": 30,
     "metadata": {},
     "output_type": "execute_result"
    }
   ],
   "source": [
    "y_train[100]"
   ]
  },
  {
   "cell_type": "markdown",
   "id": "415af8f6-3a1f-42da-8daa-840db39d081e",
   "metadata": {},
   "source": [
    "## Performance Measures\n",
    "\n",
    "### Measuring accuracy with k fold cross validation"
   ]
  },
  {
   "cell_type": "code",
   "execution_count": 31,
   "id": "01609bd2-67c8-4b5b-91d9-f51e5fa3abb3",
   "metadata": {},
   "outputs": [],
   "source": [
    "from sklearn.model_selection import cross_val_score"
   ]
  },
  {
   "cell_type": "code",
   "execution_count": 32,
   "id": "024df101-9668-481d-9111-6951057d33dd",
   "metadata": {},
   "outputs": [
    {
     "data": {
      "text/plain": [
       "array([0.96645, 0.95895, 0.904  ])"
      ]
     },
     "execution_count": 32,
     "metadata": {},
     "output_type": "execute_result"
    }
   ],
   "source": [
    "cross_val_score(sgd_clf, X_train, y_train_1, cv=3, scoring=\"accuracy\")"
   ]
  },
  {
   "cell_type": "markdown",
   "id": "44a9f1d1-8568-47be-b986-7e3e04b77139",
   "metadata": {},
   "source": [
    "The accuracy looks promising! But, our dataset is imbalanced. The images which are not 1 are aorund 90% and images with 1 is just 10%.\n",
    "\n",
    "So, if you say that not 1, you will be right 90% of time.\n",
    "\n",
    "\n",
    "So, when we are dealing with skewed datasets, specially when trying to solve classification problem, accuracy is not generally preffered. "
   ]
  },
  {
   "cell_type": "code",
   "execution_count": 33,
   "id": "f9123063-0565-4265-98a4-4d7c6610a2b7",
   "metadata": {},
   "outputs": [],
   "source": [
    "# Implement Cross-Validation // tomorrow // page: 108"
   ]
  },
  {
   "cell_type": "markdown",
   "id": "a0d44788-dccc-404b-8d67-77354a0f1c10",
   "metadata": {},
   "source": [
    "## Confusion Matrices\n",
    "\n",
    "The general idea of a confusion matrix is to count the number of times instances of class A are classified as class B, for all A/B pairs.\n",
    "\n",
    "For example, to know the number of times the classifier confused images of 8s with 0s, we will look at row #8, column #0 of the confusion matrix.\n",
    "\n",
    "\n",
    "We will use `cross_val_predict` function to look into the precition made by our classifier in each fold."
   ]
  },
  {
   "cell_type": "code",
   "execution_count": 34,
   "id": "f9f70f6a-4f61-4ab6-a7cc-659bf44afd04",
   "metadata": {},
   "outputs": [],
   "source": [
    "from sklearn.model_selection import cross_val_predict"
   ]
  },
  {
   "cell_type": "code",
   "execution_count": 35,
   "id": "1efcae5d-6171-4722-8a7f-66c231c01ecf",
   "metadata": {},
   "outputs": [],
   "source": [
    "y_train_predict = cross_val_predict(sgd_clf, X_train, y_train_1, cv=3)"
   ]
  },
  {
   "cell_type": "code",
   "execution_count": 36,
   "id": "5e2391eb-a5bd-4744-861b-63b48593dc83",
   "metadata": {},
   "outputs": [
    {
     "data": {
      "text/plain": [
       "array([False, False, False, ..., False, False, False])"
      ]
     },
     "execution_count": 36,
     "metadata": {},
     "output_type": "execute_result"
    }
   ],
   "source": [
    "y_train_predict"
   ]
  },
  {
   "cell_type": "code",
   "execution_count": 37,
   "id": "8aebab1c-f39b-48d2-90a7-8bc358762572",
   "metadata": {},
   "outputs": [],
   "source": [
    "from sklearn.metrics import confusion_matrix"
   ]
  },
  {
   "cell_type": "code",
   "execution_count": 38,
   "id": "c06b9b0a-d67c-4867-8e73-4377ce2674a5",
   "metadata": {},
   "outputs": [],
   "source": [
    "cm = confusion_matrix(y_train_1, y_train_predict)"
   ]
  },
  {
   "cell_type": "code",
   "execution_count": 39,
   "id": "97aaa8c9-cbe2-45bd-8e1d-f3c9654f16d7",
   "metadata": {},
   "outputs": [
    {
     "data": {
      "text/plain": [
       "array([[51538,  2504],\n",
       "       [  908,  5050]])"
      ]
     },
     "execution_count": 39,
     "metadata": {},
     "output_type": "execute_result"
    }
   ],
   "source": [
    "cm"
   ]
  },
  {
   "cell_type": "markdown",
   "id": "f06ebcf1-467e-4202-bb23-cc67aca8520b",
   "metadata": {},
   "source": [
    "Here, the rows represent classes in our dataset and the column represents predicted class.\n",
    "\n",
    "\n",
    "The first row considers negative class, i.e non-1:  \n",
    "\n",
    "52917 were correctly predicted as non-1, these are **true negatives**  \n",
    "341 were incorrectly  predicted as 1, these are **false positives**  \n",
    "  \n",
    "483 were correctly predicted as 1, these are **fasle negatives**  \n",
    "6259 were incorrectly predicted as 1, there are **true positive**  \n",
    "\n",
    "\n"
   ]
  },
  {
   "cell_type": "code",
   "execution_count": 40,
   "id": "932854bc-b8d3-4911-9b34-b16fbc9203e4",
   "metadata": {},
   "outputs": [],
   "source": [
    "from sklearn.metrics import precision_score, recall_score, f1_score, precision_recall_curve"
   ]
  },
  {
   "cell_type": "code",
   "execution_count": 44,
   "id": "70ded2b9-a412-4a60-a28a-a8738b35f9c4",
   "metadata": {},
   "outputs": [
    {
     "data": {
      "text/plain": [
       "0.6685199894095843"
      ]
     },
     "execution_count": 44,
     "metadata": {},
     "output_type": "execute_result"
    }
   ],
   "source": [
    "precision_score(y_train_1, y_train_predict)"
   ]
  },
  {
   "cell_type": "code",
   "execution_count": 45,
   "id": "7963d9af-6956-4fd7-95b8-3505693a38f5",
   "metadata": {},
   "outputs": [
    {
     "data": {
      "text/plain": [
       "0.8475998657267539"
      ]
     },
     "execution_count": 45,
     "metadata": {},
     "output_type": "execute_result"
    }
   ],
   "source": [
    "recall_score(y_train_1, y_train_predict)"
   ]
  },
  {
   "cell_type": "markdown",
   "id": "2311692f-5001-4877-9f5b-e58769cf95db",
   "metadata": {},
   "source": [
    "## F1 Socre\n",
    "\n",
    "F1 score is the harmonic mean of precision and recall. As, harmonic mean gives much more weight to low values. F1 score will be high only if both precision and recall are high."
   ]
  },
  {
   "cell_type": "code",
   "execution_count": 46,
   "id": "c06110a1-d3b2-467f-94a6-6ae8faa1b445",
   "metadata": {},
   "outputs": [
    {
     "data": {
      "text/plain": [
       "0.7474837181764358"
      ]
     },
     "execution_count": 46,
     "metadata": {},
     "output_type": "execute_result"
    }
   ],
   "source": [
    "f1_score(y_train_1, y_train_predict)"
   ]
  },
  {
   "cell_type": "markdown",
   "id": "508ee1d7-2f97-4c65-8ef7-84c01c833c29",
   "metadata": {},
   "source": [
    "## The precision-recall trade-off\n",
    "\n",
    "  \n",
    "Low recall means the model is missing many actual positive cases (high false negatives).  \n",
    "High precision means that when the model does predict a positive, it is usually correct (low false positives).  "
   ]
  },
  {
   "cell_type": "markdown",
   "id": "3e1060cd-748e-4b3e-99ca-2ebc08bb4063",
   "metadata": {},
   "source": [
    "### How can we define a correct threshold, so that we balance the both."
   ]
  },
  {
   "cell_type": "code",
   "execution_count": 52,
   "id": "68abe0e9-6b12-4cb4-93e2-cc07b4306543",
   "metadata": {},
   "outputs": [],
   "source": [
    "y_scores = cross_val_predict(sgd_clf, X_train, y_train_1, cv=3, method=\"decision_function\")\n",
    "\n",
    "#decision function scores instead of predicted class label"
   ]
  },
  {
   "cell_type": "markdown",
   "id": "8950af57-c3ce-4993-ba7b-fb5e044a2b49",
   "metadata": {},
   "source": [
    "**The decision function returns raw scores (real-valued numbers) that indicate the distance of the samples from the decision boundary (or hyperplane).**"
   ]
  },
  {
   "cell_type": "code",
   "execution_count": 50,
   "id": "75726b71-779c-4d24-a2de-b1427dd098e6",
   "metadata": {},
   "outputs": [
    {
     "data": {
      "text/plain": [
       "array([-36851.09465219, -31272.70892659, -21491.02754016, ...,\n",
       "       -30052.05804538, -18789.24492043, -20051.24297549])"
      ]
     },
     "execution_count": 50,
     "metadata": {},
     "output_type": "execute_result"
    }
   ],
   "source": [
    "y_scores"
   ]
  },
  {
   "cell_type": "code",
   "execution_count": 51,
   "id": "7ca6301c-4667-4a01-8dcf-692cad1729a2",
   "metadata": {},
   "outputs": [
    {
     "data": {
      "text/plain": [
       "array([False, False, False, ..., False, False, False])"
      ]
     },
     "execution_count": 51,
     "metadata": {},
     "output_type": "execute_result"
    }
   ],
   "source": [
    "y_scores > 0"
   ]
  },
  {
   "cell_type": "markdown",
   "id": "ae8757df-6240-4c5c-9e14-c3ed290439e2",
   "metadata": {},
   "source": [
    "By default, the SGD Classifier sets the threshold to 0. So, anything above 1 is predicted to be of positive label and anything below is predicted to be of negative label."
   ]
  },
  {
   "cell_type": "markdown",
   "id": "bb6d9e7b-a897-4d05-b79c-af41b97a9be5",
   "metadata": {},
   "source": [
    "Using this scores, we will use `precision_recall_curve()` function to compute precision and recall for all possible threshold."
   ]
  },
  {
   "cell_type": "code",
   "execution_count": 53,
   "id": "e0ed56ea-6ab5-4083-a496-74a3fe359f37",
   "metadata": {},
   "outputs": [],
   "source": [
    "precisions, recalls, thresholds = precision_recall_curve(y_train_1, y_scores)"
   ]
  },
  {
   "cell_type": "code",
   "execution_count": 54,
   "id": "fa007e06-96d3-439f-a775-d6a21b4a1c25",
   "metadata": {},
   "outputs": [
    {
     "data": {
      "text/plain": [
       "<matplotlib.legend.Legend at 0x16928b4c0>"
      ]
     },
     "execution_count": 54,
     "metadata": {},
     "output_type": "execute_result"
    },
    {
     "data": {
      "image/png": "[encoded data removed]",
      "text/plain": [
       "<Figure size 640x480 with 1 Axes>"
      ]
     },
     "metadata": {},
     "output_type": "display_data"
    }
   ],
   "source": [
    "plt.plot(thresholds, precisions[:-1], 'b--', label=\"Precision\", linewidth=2)\n",
    "plt.plot(thresholds, recalls[:-1], 'g-', label=\"Recall\", linewidth=2)\n",
    "plt.vlines(3000, 0, 1.0, \"k\", \"dotted\", label=\"Threshold\" )\n",
    "\n",
    "plt.legend()"
   ]
  },
  {
   "cell_type": "code",
   "execution_count": null,
   "id": "c4dfb9db-c9e6-47e0-9968-041dd9226182",
   "metadata": {
    "scrolled": true
   },
   "outputs": [],
   "source": []
  },
  {
   "cell_type": "markdown",
   "id": "fd3d9fb6-f9e3-41dc-94c0-321ddae22542",
   "metadata": {},
   "source": [
    "## Suppose we want our classifier to have 97% precision\n",
    "\n",
    "1. Find a threshold that gives 97% precision. "
   ]
  },
  {
   "cell_type": "code",
   "execution_count": 55,
   "id": "e0a875ed-290c-4c09-a9b4-cbe42b6a757d",
   "metadata": {},
   "outputs": [
    {
     "data": {
      "text/plain": [
       "0.0993"
      ]
     },
     "execution_count": 55,
     "metadata": {},
     "output_type": "execute_result"
    }
   ],
   "source": [
    "precisions[0]"
   ]
  },
  {
   "cell_type": "code",
   "execution_count": 56,
   "id": "3f729b22-dd07-4a53-a4f2-a5eb85aefba3",
   "metadata": {},
   "outputs": [
    {
     "data": {
      "text/plain": [
       "1.0"
      ]
     },
     "execution_count": 56,
     "metadata": {},
     "output_type": "execute_result"
    }
   ],
   "source": [
    "recalls[0]"
   ]
  },
  {
   "cell_type": "code",
   "execution_count": 57,
   "id": "7a04cca2-7fd7-48b1-bdd1-ed846249e316",
   "metadata": {},
   "outputs": [
    {
     "data": {
      "text/plain": [
       "-137268.8066307551"
      ]
     },
     "execution_count": 57,
     "metadata": {},
     "output_type": "execute_result"
    }
   ],
   "source": [
    "thresholds[0]"
   ]
  },
  {
   "cell_type": "code",
   "execution_count": 58,
   "id": "53dbd196-bfde-46f6-ba35-eace74905735",
   "metadata": {},
   "outputs": [
    {
     "data": {
      "text/plain": [
       "11214.202634093046"
      ]
     },
     "execution_count": 58,
     "metadata": {},
     "output_type": "execute_result"
    }
   ],
   "source": [
    "thresholds[np.argmax(precisions > 0.97)]"
   ]
  },
  {
   "cell_type": "markdown",
   "id": "9ef85621-8d20-494a-a3cd-9e60bd0e78be",
   "metadata": {},
   "source": [
    "### threshold of `4976.125167722477` will give us precision greater than 97%"
   ]
  },
  {
   "cell_type": "code",
   "execution_count": 82,
   "id": "84a8bfb9-7ffc-47bc-99c6-d94a06320f7a",
   "metadata": {},
   "outputs": [],
   "source": [
    "y_pred_97 = y_scores > thresholds[np.argmax(precisions > 0.97)]"
   ]
  },
  {
   "cell_type": "code",
   "execution_count": null,
   "id": "3c3cea83-1478-4d37-892b-6088f93f3dcb",
   "metadata": {},
   "outputs": [],
   "source": []
  },
  {
   "cell_type": "code",
   "execution_count": 84,
   "id": "74a84dcd-f0e8-487b-b33d-09098703f6bf",
   "metadata": {},
   "outputs": [
    {
     "data": {
      "text/plain": [
       "0.9701415257162582"
      ]
     },
     "execution_count": 84,
     "metadata": {},
     "output_type": "execute_result"
    }
   ],
   "source": [
    "precision_score(y_train_1, y_pred_97)"
   ]
  },
  {
   "cell_type": "code",
   "execution_count": 85,
   "id": "c8063451-7cb9-464c-8110-ece1066d8442",
   "metadata": {},
   "outputs": [
    {
     "data": {
      "text/plain": [
       "0.8337288638386235"
      ]
     },
     "execution_count": 85,
     "metadata": {},
     "output_type": "execute_result"
    }
   ],
   "source": [
    "recall_score(y_train_1, y_pred_97)"
   ]
  },
  {
   "cell_type": "markdown",
   "id": "8f592abb-e173-4f05-a2bb-9af26d909388",
   "metadata": {},
   "source": [
    "We have our precision 97%, and as you can see our recall has decreased to 83%"
   ]
  },
  {
   "cell_type": "markdown",
   "id": "9d24d13b-bb32-40e7-8662-2d4cea03ed25",
   "metadata": {},
   "source": [
    "## The ROC Curve"
   ]
  },
  {
   "cell_type": "markdown",
   "id": "55d87db4-6a79-44e8-943a-d8bb7bd5f68d",
   "metadata": {},
   "source": [
    "The ROC Curve plots the true positive rates(another recall) againts the false positive Rate(FPR). The FPR is also called fallout."
   ]
  },
  {
   "cell_type": "markdown",
   "id": "321b2b8c-26ff-46b3-a7bc-1a369cab4268",
   "metadata": {},
   "source": [
    "The **FPR(False Positive Rate)**, is the ratio of negative instances that are incorrectly classified as positives.\n",
    "\n",
    "The FPR is equal to, `1 - True Negatives Rate(TNR)`"
   ]
  },
  {
   "cell_type": "code",
   "execution_count": null,
   "id": "29988e14-83ac-4bdf-9717-b4283471ba58",
   "metadata": {},
   "outputs": [],
   "source": []
  }
 ],
 "metadata": {
  "kernelspec": {
   "display_name": "Python 3 (ipykernel)",
   "language": "python",
   "name": "python3"
  },
  "language_info": {
   "codemirror_mode": {
    "name": "ipython",
    "version": 3
   },
   "file_extension": ".py",
   "mimetype": "text/x-python",
   "name": "python",
   "nbconvert_exporter": "python",
   "pygments_lexer": "ipython3",
   "version": "3.10.13"
  }
 },
 "nbformat": 4,
 "nbformat_minor": 5
}
