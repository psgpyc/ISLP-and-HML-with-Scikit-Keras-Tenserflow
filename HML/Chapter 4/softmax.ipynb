{
 "cells": [
  {
   "cell_type": "markdown",
   "id": "08c4107b-e723-49f9-96f6-b18e26f098eb",
   "metadata": {},
   "source": []
  },
  {
   "cell_type": "code",
   "execution_count": 420,
   "id": "506f57ce-fd25-4df1-a6be-02c29b91d22b",
   "metadata": {},
   "outputs": [],
   "source": [
    "import numpy as np\n",
    "import matplotlib.pyplot as plt\n",
    "from sklearn.model_selection import train_test_split\n",
    "from sklearn.datasets import load_iris"
   ]
  },
  {
   "cell_type": "code",
   "execution_count": 421,
   "id": "975a8ec1-26a0-4613-aff4-9100ec46fbcc",
   "metadata": {},
   "outputs": [],
   "source": [
    "iris = load_iris(as_frame=True)"
   ]
  },
  {
   "cell_type": "code",
   "execution_count": 422,
   "id": "eb76f5a2-fce6-404a-a57a-4cfa9fa1dc84",
   "metadata": {},
   "outputs": [],
   "source": [
    "xdf = iris.data"
   ]
  },
  {
   "cell_type": "code",
   "execution_count": 423,
   "id": "d7dd683d-a392-46ed-92de-b077158c989c",
   "metadata": {},
   "outputs": [],
   "source": [
    "ydf = iris.target"
   ]
  },
  {
   "cell_type": "code",
   "execution_count": 424,
   "id": "fa3b64a1-6389-45cd-8050-f1b004109988",
   "metadata": {},
   "outputs": [
    {
     "data": {
      "text/plain": [
       "0      0\n",
       "1      0\n",
       "2      0\n",
       "3      0\n",
       "4      0\n",
       "      ..\n",
       "145    2\n",
       "146    2\n",
       "147    2\n",
       "148    2\n",
       "149    2\n",
       "Name: target, Length: 150, dtype: int64"
      ]
     },
     "execution_count": 424,
     "metadata": {},
     "output_type": "execute_result"
    }
   ],
   "source": [
    "ydf"
   ]
  },
  {
   "cell_type": "code",
   "execution_count": null,
   "id": "b6aef168-c0f1-46e6-835b-c07a09330ab9",
   "metadata": {},
   "outputs": [],
   "source": []
  },
  {
   "cell_type": "code",
   "execution_count": 425,
   "id": "4bd27232-0d51-4b44-b988-c01806b7d56d",
   "metadata": {},
   "outputs": [
    {
     "data": {
      "text/plain": [
       "array(['setosa', 'versicolor', 'virginica'], dtype='<U10')"
      ]
     },
     "execution_count": 425,
     "metadata": {},
     "output_type": "execute_result"
    }
   ],
   "source": [
    "target_names = iris.target_names\n",
    "target_names"
   ]
  },
  {
   "cell_type": "code",
   "execution_count": 426,
   "id": "0e3f93c7-8110-4bc1-8c3c-3988ff3f02b4",
   "metadata": {},
   "outputs": [],
   "source": [
    "features_name = iris.feature_names "
   ]
  },
  {
   "cell_type": "code",
   "execution_count": 427,
   "id": "1b522508-6ecc-4a49-9457-2bbe458f5556",
   "metadata": {},
   "outputs": [
    {
     "data": {
      "text/plain": [
       "['sepal length (cm)',\n",
       " 'sepal width (cm)',\n",
       " 'petal length (cm)',\n",
       " 'petal width (cm)']"
      ]
     },
     "execution_count": 427,
     "metadata": {},
     "output_type": "execute_result"
    }
   ],
   "source": [
    "features_name"
   ]
  },
  {
   "cell_type": "markdown",
   "id": "28641751-e803-4673-ad7e-944f793139e1",
   "metadata": {},
   "source": [
    "How SoftMax works?\n",
    "\n",
    "When given an instance **x**, the sofmax regression model first computes a score $s_k(x)$ for each class *k*, then estimates the probability of each class by applying the *softmax function* to the score.\n",
    "\n",
    "$s_k(x) = (\\theta^{(k)})^T x$\n",
    "\n",
    "Once we have the score for every class for the insance **x**, you can estimate the probability $\\hat p_k$ that the instance belongs to class *k* by running the score through the softmax function.\n",
    "\n",
    "$\\hat p_k = \\frac{\\exp (s_k(x))}{\\sum_{j=1}^k \\exp (s_k(x))}$"
   ]
  },
  {
   "cell_type": "code",
   "execution_count": 428,
   "id": "59ce11c3-2466-4fda-aa10-5eab1b7d9fe6",
   "metadata": {},
   "outputs": [],
   "source": [
    "Xtrain, Xtest, ytrain, ytest = [each_set.to_numpy() for each_set in train_test_split(xdf, ydf, test_size=0.2)]"
   ]
  },
  {
   "cell_type": "code",
   "execution_count": 429,
   "id": "b1f82e5f-7e94-4be0-b3da-88b735224504",
   "metadata": {},
   "outputs": [],
   "source": [
    "def create_one_hot_encoder(arr, n_labels):\n",
    "    m = len(arr)\n",
    "    dummy_arr = np.zeros(shape=(m, n_labels))\n",
    "    dummy_arr[np.arange(m), arr] = 1\n",
    "    return dummy_arr"
   ]
  },
  {
   "cell_type": "code",
   "execution_count": 430,
   "id": "99640453-b69f-45d5-9354-8b0fb987eb0f",
   "metadata": {},
   "outputs": [],
   "source": [
    "def add_dummy(index, arr):\n",
    "    \"\"\"\n",
    "        Addes 1 to the 0th index of each row for the bias term.\n",
    "\n",
    "        returns an (m, n+1) array\n",
    "    \"\"\"\n",
    "    return np.insert(arr, 0, 1, axis=1)"
   ]
  },
  {
   "cell_type": "code",
   "execution_count": 431,
   "id": "73d0b413-60e2-4527-9e01-35e6ff5db135",
   "metadata": {},
   "outputs": [],
   "source": [
    "class SoftMaxRegression:\n",
    "    def __init__(self, seed=42, epsilon=1e-15):     \n",
    "        self.seed = seed\n",
    "        self.epsilon = epsilon\n",
    "        self.theta_ = None        \n",
    "        \n",
    "    def initialise_theta(self, num_classes, num_features):\n",
    "        np.random.seed(self.seed)\n",
    "        if self.theta_ is None:\n",
    "            self.theta_ = np.random.randn(num_classes, num_features)      \n",
    "\n",
    "    def softmax_score(self, X):\n",
    "        softmax_score = X @ self.theta_.T\n",
    "        return softmax_score\n",
    "\n",
    "    def softmax_probability(self, softmax_score):\n",
    "        sum_of_exp = np.sum(np.exp(softmax_score), axis=1).reshape(-1,1)\n",
    "        softmax_proba = np.exp(softmax_score)/sum_of_exp\n",
    "        return softmax_proba\n",
    "        \n",
    "    def calculate_cost(self, y ,softmax_proba):\n",
    "        loss = np.sum((y * np.log(softmax_proba + self.epsilon)), axis = 1)\n",
    "        cost = -(np.mean(loss))\n",
    "    \n",
    "        return cost\n",
    "\n",
    "    def get_softmax_gradient(self,X, y ,softmax_proba):\n",
    "        err = softmax_proba - y\n",
    "        gradient_ = np.sum(err[:, :, np.newaxis] * X[:, np.newaxis, :], axis=0)\n",
    "        return gradient_/X.shape[0]\n",
    "\n",
    "    def fit(self, X, y, alpha_=0.001, epoch=10000, play_plot=True):\n",
    "        X = add_dummy(0, X)\n",
    "        y = create_one_hot_encoder(y, 3)\n",
    "        self.initialise_theta(num_classes = y.shape[1], num_features = X.shape[1])\n",
    "        costs = []\n",
    "        \n",
    "        for iter_ in range(epoch):\n",
    "            softmax_score = self.softmax_score(X)\n",
    "            softmax_proba = self.softmax_probability(softmax_score)\n",
    "            cost = self.calculate_cost(y, softmax_proba)\n",
    "            gradient_ = self.get_softmax_gradient(X, y, softmax_proba)\n",
    "            self.theta_ -= (alpha_ * gradient_)\n",
    "            costs.append(cost)\n",
    "            \n",
    "            if iter_ % 1000 == 0:\n",
    "                print(f'Epoch {iter_}, Cost: {cost:.4f}')\n",
    "                \n",
    "        if play_plot:\n",
    "            plt.plot(range(len(costs)), costs)\n",
    "            plt.xlabel(\"epoches\")\n",
    "            plt.ylabel(\"cost per epoch\")\n",
    "            plt.title(\"Cost vs. Epoch for Softmax Regression\") \n",
    "\n",
    "    def predict(self, X):\n",
    "        X = add_dummy(0, X)\n",
    "        softmax_score = self.softmax_score(X)\n",
    "        softmax_proba = self.softmax_probability(softmax_score)\n",
    "        return np.argmax(softmax_proba, axis=1)"
   ]
  },
  {
   "cell_type": "code",
   "execution_count": 432,
   "id": "d6b59f63-3a9b-4628-9edb-10af88136e2d",
   "metadata": {},
   "outputs": [
    {
     "name": "stdout",
     "output_type": "stream",
     "text": [
      "Epoch 0, Cost: 10.7909\n",
      "Epoch 1000, Cost: 1.8013\n",
      "Epoch 2000, Cost: 0.9382\n",
      "Epoch 3000, Cost: 0.6937\n",
      "Epoch 4000, Cost: 0.5962\n",
      "Epoch 5000, Cost: 0.5408\n",
      "Epoch 6000, Cost: 0.5026\n",
      "Epoch 7000, Cost: 0.4734\n",
      "Epoch 8000, Cost: 0.4495\n",
      "Epoch 9000, Cost: 0.4293\n"
     ]
    },
    {
     "data": {
      "image/png": "[encoded data removed]",
      "text/plain": [
       "<Figure size 640x480 with 1 Axes>"
      ]
     },
     "metadata": {},
     "output_type": "display_data"
    }
   ],
   "source": [
    "sm_reg = SoftMaxRegression()\n",
    "sm_reg.fit(Xtrain, ytrain)"
   ]
  },
  {
   "cell_type": "code",
   "execution_count": 440,
   "id": "4f73258f-e679-474d-8fa2-6c9c8109cd07",
   "metadata": {},
   "outputs": [],
   "source": [
    "class ModelEvaluation:\n",
    "    \n",
    "    @staticmethod\n",
    "    def accuracy_score(y_true, y_pred):\n",
    "        y_true = y_true.flatten()\n",
    "        m = len(y_true)\n",
    "        correct_predictions = np.sum(y_true == y_pred)\n",
    "        return correct_predictions/m\n",
    "\n",
    "    @staticmethod\n",
    "    def precision_score(y_true, y_pred):\n",
    "        true_positives = np.sum((y_true == 1) & (y_pred == 1))\n",
    "        false_positives = np.sum((y_true == 0) & (y_pred == 1))\n",
    "        return true_positives / (true_positives + false_positives)\n",
    "\n",
    "\n",
    "    staticmethod\n",
    "    def recall_score(y_true, y_pred):\n",
    "        \n",
    "        true_positives = np.sum((y_true == 1) & (y_pred == 1))\n",
    "        false_negatives = np.sum((y_true == 1) & (y_pred == 0))\n",
    "        return true_positives / (true_positives + false_negatives)\n",
    "\n",
    "    @staticmethod\n",
    "    def f1_score_score(y_true, y_pred):\n",
    "        \n",
    "        precision_value = ClassificationMetrics.precision(y_true, y_pred)\n",
    "        recall_value = ClassificationMetrics.recall(y_true, y_pred)\n",
    "        return 2 * (precision_value * recall_value) / (precision_value + recall_value)\n",
    "\n",
    "        \n",
    "    "
   ]
  },
  {
   "cell_type": "code",
   "execution_count": 441,
   "id": "73978f93-9fe1-4524-a3ed-678f1d61538b",
   "metadata": {},
   "outputs": [
    {
     "name": "stdout",
     "output_type": "stream",
     "text": [
      "Accuracy Score on Train Set: 91.66666666666666%\n",
      "Precision Score on Train Set: 100.0%\n",
      "Recall Score on Train Set: 100.0%\n"
     ]
    }
   ],
   "source": [
    "y_train_pred = sm_reg.predict(Xtrain)\n",
    "print(f\"Accuracy Score on Train Set: {ModelEvaluation.accuracy_score(ytrain, y_train_pred)*100}%\")\n",
    "print(f\"Precision Score on Train Set: {ModelEvaluation.precision_score(ytrain, y_train_pred)*100}%\")\n",
    "print(f\"Recall Score on Train Set: {ModelEvaluation.recall_score(ytrain, y_train_pred)*100}%\")"
   ]
  },
  {
   "cell_type": "code",
   "execution_count": 442,
   "id": "d4dff131-fe6f-4352-8ded-8aa4c03c7930",
   "metadata": {},
   "outputs": [],
   "source": [
    "y_test_pred = sm_reg.predict(Xtest)"
   ]
  },
  {
   "cell_type": "code",
   "execution_count": 443,
   "id": "b54e55d7-1785-4836-b094-0138c1aab26d",
   "metadata": {},
   "outputs": [
    {
     "name": "stdout",
     "output_type": "stream",
     "text": [
      "Accuracy Score on Test Set: 90.0%\n",
      "Precision Score on Test Set: 100.0%\n",
      "Recall Score on Test Set: 100.0%\n"
     ]
    }
   ],
   "source": [
    "print(f\"Accuracy Score on Test Set: {ModelEvaluation.accuracy_score(ytest, y_test_pred)*100}%\")\n",
    "print(f\"Precision Score on Test Set: {ModelEvaluation.precision_score(ytest, y_test_pred)*100}%\")\n",
    "print(f\"Recall Score on Test Set: {ModelEvaluation.recall_score(ytest, y_test_pred)*100}%\")"
   ]
  },
  {
   "cell_type": "code",
   "execution_count": null,
   "id": "e3b288f2-9488-43d3-a26a-ba8fb0a21e6c",
   "metadata": {},
   "outputs": [],
   "source": []
  },
  {
   "cell_type": "code",
   "execution_count": null,
   "id": "7637a4ae-1ca2-41ea-baf1-51db49768fdf",
   "metadata": {},
   "outputs": [],
   "source": []
  }
 ],
 "metadata": {
  "kernelspec": {
   "display_name": "Python 3 (ipykernel)",
   "language": "python",
   "name": "python3"
  },
  "language_info": {
   "codemirror_mode": {
    "name": "ipython",
    "version": 3
   },
   "file_extension": ".py",
   "mimetype": "text/x-python",
   "name": "python",
   "nbconvert_exporter": "python",
   "pygments_lexer": "ipython3",
   "version": "3.10.13"
  }
 },
 "nbformat": 4,
 "nbformat_minor": 5
}
