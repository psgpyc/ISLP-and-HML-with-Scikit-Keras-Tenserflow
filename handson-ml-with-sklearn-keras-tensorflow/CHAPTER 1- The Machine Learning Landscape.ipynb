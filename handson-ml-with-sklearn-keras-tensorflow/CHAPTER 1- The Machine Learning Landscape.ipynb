{
 "cells": [
  {
   "cell_type": "markdown",
   "id": "74d06e00-2147-40bc-b7b0-4a37204ea2ad",
   "metadata": {},
   "source": [
    "### We will take a look into: \n",
    "1. Supervised vs. Unsupervised Learning and their variants\n",
    "\n",
    "   \n",
    "2. Online vs. batch learning : Wheather or not they can learn incrementally on the fly.\n",
    "\n",
    "\n",
    "3. Instance-based learning vs. model-based learning: Whether they work by simply comparing new data points to know data points, or instead by detecting patterns in the training set and building a predictive model."
   ]
  },
  {
   "cell_type": "markdown",
   "id": "e0ff7cb3-5510-4af5-adb2-48edf8d6606c",
   "metadata": {},
   "source": [
    "This chapter will introduce a lot of **jargons** and fundamental concepts that everyday data scientists should know by heart."
   ]
  },
  {
   "cell_type": "markdown",
   "id": "17734460-4c67-42e6-b0c6-ca8b0564facb",
   "metadata": {},
   "source": [
    "## What is Machine learning?\n",
    "\n",
    "Machine Learning is the science (and art) of programming computers so they can learn from data.\n",
    "\n",
    "\n",
    "**A more technical, engineering-oriented defination:**\n",
    "\n",
    "A computer program is said to learn from experience *E* with respect to some task *T* and some perfromace measure *P*, if its performance on *T*, as measured by *P*, improves with experience E.\n",
    "\n",
    "  - Tom Mitchell, 1997"
   ]
  },
  {
   "cell_type": "markdown",
   "id": "2f6487b6-914b-439c-910e-203c972aef66",
   "metadata": {},
   "source": [
    "## What is a model?\n",
    "\n",
    "The part of machine learning system that learns and makes predictions is called a *model*. \n",
    "\n",
    "Neural Networks and Random Forests are examples of a model."
   ]
  },
  {
   "cell_type": "markdown",
   "id": "22043838-cda1-4a08-9f1d-d790e393eaae",
   "metadata": {},
   "source": [
    "## Data Mining\n",
    "Digging into large amounts of data to discover hidden patterns is called *data mining*, and machine learning excels at it."
   ]
  },
  {
   "cell_type": "markdown",
   "id": "597559f9-9272-44fe-bd75-e684d7dcee4b",
   "metadata": {},
   "source": [
    "## Supervised Learning\n"
   ]
  },
  {
   "cell_type": "markdown",
   "id": "9f2ebe6e-bd9b-45c0-8c58-ac487a45c134",
   "metadata": {},
   "source": [
    "In *Supervised Learning* the training set you feed to the algorithm includes the desired solutions, called *labels*.\n",
    "\n",
    "\n",
    "A typical supervised learning task is *classification*. \n",
    "\n",
    "Another typical task is to predict a *target* numerical value. This is called *regression*.\n",
    "\n",
    "\n",
    "The word *target* is commonly used in regression setting and *label* in classification setting for the response variabale.\n",
    "\n",
    "Moreover, *features* are sometimes called *predictors* or *attributes*. "
   ]
  },
  {
   "cell_type": "markdown",
   "id": "66883d86-20a0-4197-a502-0daf69b5fc18",
   "metadata": {},
   "source": [
    "## Unsupervised Learning"
   ]
  },
  {
   "cell_type": "markdown",
   "id": "b964806a-f45d-4bc0-b3b3-5acb5739ba48",
   "metadata": {},
   "source": [
    "In Unsupervised learning, the training data is unlabeled.\n",
    "\n",
    "It clusters data into groups based on similar patterns."
   ]
  },
  {
   "cell_type": "markdown",
   "id": "5d7b375f-0df5-41d2-83c4-0ff157ef34c4",
   "metadata": {},
   "source": [
    "*Visualization algorithm* are good examples of unsupervised learning: you feed them a lot of complex and unlabeled data, and they output 2D or 3D representation of your data that can easily be plotted."
   ]
  },
  {
   "cell_type": "markdown",
   "id": "58121831-99a4-451f-b700-b773028c4ca4",
   "metadata": {},
   "source": [
    "A related task is *dimentionality reduction*, in which the goal is to simplify the data without losing too much information. One way to do this is to merge several correlated features into one. For example, a car's milage may be strongly correlated with its age, so the dimentionality reducttion algorithm will merge them into one featurethat represents the car's wear and tear. \n",
    "\n",
    "This is called *feature extraction*."
   ]
  },
  {
   "cell_type": "code",
   "execution_count": null,
   "id": "e9e231d4-4834-479c-9e89-ff590c8f2bc3",
   "metadata": {},
   "outputs": [],
   "source": []
  }
 ],
 "metadata": {
  "kernelspec": {
   "display_name": "Python 3 (ipykernel)",
   "language": "python",
   "name": "python3"
  },
  "language_info": {
   "codemirror_mode": {
    "name": "ipython",
    "version": 3
   },
   "file_extension": ".py",
   "mimetype": "text/x-python",
   "name": "python",
   "nbconvert_exporter": "python",
   "pygments_lexer": "ipython3",
   "version": "3.12.7"
  }
 },
 "nbformat": 4,
 "nbformat_minor": 5
}
