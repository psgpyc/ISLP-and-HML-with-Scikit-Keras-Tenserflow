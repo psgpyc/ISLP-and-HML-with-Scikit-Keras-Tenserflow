{
 "cells": [
  {
   "cell_type": "markdown",
   "id": "bda7f26c-966f-4d23-b9ad-43b171f8e1d6",
   "metadata": {},
   "source": [
    "#### 1. How would you define machine learning?\n",
    "\n",
    "We use statistical methods and techniques to identify patterns in data and use these patterns to make future predictions. "
   ]
  },
  {
   "cell_type": "markdown",
   "id": "48fcacfd-faa9-4a88-a785-7f019cb818b4",
   "metadata": {},
   "source": [
    "#### 2. Can you name four types of applications where it shines?\n",
    "\n",
    "1. Natural Language Processing\n",
    "2. Image Recognition\n",
    "3. Recommendation Systems\n",
    "4. Autonomus Driving"
   ]
  },
  {
   "cell_type": "markdown",
   "id": "35a415ac-8991-48fa-8f3e-f483311ce963",
   "metadata": {},
   "source": [
    "#### 3. What is a label training set?\n",
    "\n",
    "In a labeled training set, each data point(features) has its corresponding output(target variable) which a machine learning model is trying to predict or learn."
   ]
  },
  {
   "cell_type": "markdown",
   "id": "68169873-af4b-42c3-8832-a8307d8100c3",
   "metadata": {},
   "source": [
    "#### 4. What are the two most common supervised task?\n",
    "\n",
    "1. Regresson\n",
    "2. Classification"
   ]
  },
  {
   "cell_type": "markdown",
   "id": "d5d0df4c-282e-4471-9886-45db10505910",
   "metadata": {},
   "source": [
    "#### 5. Can you name four most common unsupervised task?\n",
    "1. Clustering\n",
    "2. Anamoly Detection\n",
    "3. Dimentionality Reduction: Simplify data without losing too much information.\n",
    "4. Association Rule Learning: Discover relationships or patterns between variables in large datasets."
   ]
  },
  {
   "cell_type": "markdown",
   "id": "f3a8e923-58a2-4db5-99a2-58289fd773f0",
   "metadata": {},
   "source": [
    "#### 6. What type of algorithm would you use to allow a robot to walk in various unknown terrains?\n",
    "\n",
    "Reinforcement Learning"
   ]
  },
  {
   "cell_type": "markdown",
   "id": "1a005dc9-2694-4f10-bf41-987d61e4b5eb",
   "metadata": {},
   "source": [
    "#### 7. What type of algorithm would you use to segment your customers into multiple groups?\n",
    "Clustering"
   ]
  },
  {
   "cell_type": "markdown",
   "id": "3dd9dc46-a9f5-411b-ab90-81f216a2c8a4",
   "metadata": {},
   "source": [
    "#### 8. Would you frame the problem of spam detection as a supervised learning problem or unsupervised learning problem?\n",
    "\n",
    "Supervised Learning"
   ]
  },
  {
   "cell_type": "markdown",
   "id": "55661e57-0fc0-4c90-81a0-ada19491ac6e",
   "metadata": {},
   "source": [
    "#### 9. What is an online learning system?\n",
    "\n",
    "In online learning, the model is trainied incrementally by feeding it data instances sequentially, either individually or in small groups called *mini-batches*  "
   ]
  },
  {
   "cell_type": "markdown",
   "id": "7c3c678f-5c49-41c8-ae79-0733e36a6844",
   "metadata": {},
   "source": [
    "#### 10. What is out-of-core learning?\n",
    "\n",
    "If the dataset is huge, and there is limited computing resources then we can load part of data, run a training step on that data, and repeat the process until it has run on all data. "
   ]
  },
  {
   "cell_type": "markdown",
   "id": "00425934-0b9b-4019-ab65-a2dc0f6d75fe",
   "metadata": {},
   "source": [
    "#### 11. What type of algorithm relies on a similarity measure to make predictions?\n",
    "\n",
    "Instance Based Learning / Lazy Learning Algorthm\n",
    "\n",
    "• They do not make any assumptions about the underlying data distribution.\n",
    "• Predictions are derived directly from the training data by comparing the input to stored examples."
   ]
  },
  {
   "cell_type": "markdown",
   "id": "f4e407ae-b610-4706-afa4-6bd727cb3e10",
   "metadata": {},
   "source": [
    "#### 12. What is a difference between model parameter and a model hyperparameter?\n",
    "\n",
    "Model parameter are values that models learns by fitting the data. \n",
    "Eg: Weight and Bias in linear regression.\n",
    "\n",
    "Hyperparameters are the set values to control the behaviour of the learning algorithm. \n",
    "\n",
    "Eg. $\\alpha$ in linear regression or $\\lambda$ in regularised cost function of regression"
   ]
  },
  {
   "cell_type": "markdown",
   "id": "5595e259-b3f3-420a-87b6-e2a953f8c7e2",
   "metadata": {},
   "source": [
    "#### 13. What do model-based algorithms search for? What is the most common strategy they use to succed? How do they make predictions?\n",
    "\n",
    "A parameter/s for a function, that best maps the input features to the target variable.\n",
    "\n",
    "Find the value of parameters that reduces the cost/error i.e. optimise the cost function.\n",
    "\n",
    "After finidng the optimal values for the parameters, use the function to make the prediciton.\n"
   ]
  },
  {
   "cell_type": "markdown",
   "id": "bc8fbf1d-37e4-418a-a101-604d13941b6e",
   "metadata": {},
   "source": [
    "#### 14. Can you name four of the main challenges in machine learning?\n",
    "\n",
    "1. Insufficient Data\n",
    "2. Nonrepresentative Training Set\n",
    "3. Poor-Quality Data\n",
    "4. Irrevelent Features"
   ]
  },
  {
   "cell_type": "markdown",
   "id": "ba3f3b9e-22b3-4676-a131-2c699358ecf8",
   "metadata": {},
   "source": [
    "#### 15. If your model performs great on the training data but generalizes poorly to new instances, what is happening? Can you name three possible solutions?\n",
    "\n",
    "Overfitting. \n",
    "\n",
    "Solutions:\n",
    "1. Increase sample size.\n",
    "2. Reduce/emiminate irrelevent input features.\n",
    "3. Regularisation"
   ]
  },
  {
   "cell_type": "markdown",
   "id": "e1cc504d-f188-4769-a257-57755fa322c0",
   "metadata": {},
   "source": [
    "#### 16. What is a test set, and why would you want to use it?\n",
    "\n",
    "Test set is a previously unseen subset of data which is use to evaluate the accurancy of the model. Before training the model, the initial dataset is divided into traning set(which the model fits to) and test set(which will be later used to evaluate the accurancy of the model)."
   ]
  },
  {
   "cell_type": "markdown",
   "id": "722d6c28-1375-4f98-a570-4184c4d6ae95",
   "metadata": {},
   "source": [
    "#### 17. What is the purpose of validation set?\n",
    "\n",
    "A validation set is a subset of data used to evaluate the model during training. It is distinct from the training set, but it is used in the process of model tuning and selection. The validation set helps to adjust model parameters, select the best model, and avoid overfitting.\n"
   ]
  },
  {
   "cell_type": "markdown",
   "id": "7e22114a-00e9-412a-801b-f18220770baa",
   "metadata": {},
   "source": [
    "#### 18. What is the train-dev set, when do you need it, and how do you use it?\n",
    "\n",
    "A train-dev set (often referred to as a training-validation set) is a combination of the training set and the validation set. It is used in situations where the model needs to be trained and tuned, but a separate test set is still required for final evaluation.\n",
    "\n",
    "The term train-dev arises from the idea that this dataset is used for both training (learning from the data) and model development (hyperparameter tuning, model selection, and preventing overfitting). It’s commonly used in machine learning workflows when data is limited or in cases where we want to optimize the use of available data."
   ]
  },
  {
   "cell_type": "markdown",
   "id": "8d8feac3-67e5-4ec5-a312-fc6676742168",
   "metadata": {},
   "source": [
    "#### 19. What can go wrong if you tune hyperparameters using the test set?\n",
    "\n",
    "Overfitting"
   ]
  },
  {
   "cell_type": "code",
   "execution_count": null,
   "id": "caf36f97-bd0f-4537-874e-7169a618a737",
   "metadata": {},
   "outputs": [],
   "source": []
  }
 ],
 "metadata": {
  "kernelspec": {
   "display_name": "Python 3 (ipykernel)",
   "language": "python",
   "name": "python3"
  },
  "language_info": {
   "codemirror_mode": {
    "name": "ipython",
    "version": 3
   },
   "file_extension": ".py",
   "mimetype": "text/x-python",
   "name": "python",
   "nbconvert_exporter": "python",
   "pygments_lexer": "ipython3",
   "version": "3.12.7"
  }
 },
 "nbformat": 4,
 "nbformat_minor": 5
}
