{
 "cells": [
  {
   "cell_type": "code",
   "execution_count": 3,
   "id": "397c8f60-6e65-42bb-a1b7-1d6799cb9721",
   "metadata": {},
   "outputs": [],
   "source": [
    "import numpy as np\n",
    "import matplotlib.pyplot as plt\n",
    "import tensorflow as tf\n",
    "from tensorflow.keras.layers import Dense, Input\n",
    "from tensorflow.keras import Sequential\n",
    "from tensorflow.keras.losses import MeanSquaredError, BinaryCrossentropy \n",
    "from tensorflow.keras.activations import sigmoid\n"
   ]
  },
  {
   "cell_type": "code",
   "execution_count": 8,
   "id": "da3005a8-a169-45ba-9e6b-b5ed1f21a93e",
   "metadata": {},
   "outputs": [
    {
     "data": {
      "image/png": "[encoded data removed]",
      "text/plain": [
       "<Figure size 640x480 with 1 Axes>"
      ]
     },
     "metadata": {},
     "output_type": "display_data"
    }
   ],
   "source": [
    "X_train = np.array([[1.0], [2.0]], dtype=np.float32)           #(size in 1000 square feet)\n",
    "Y_train = np.array([[300.0], [500.0]], dtype=np.float32)       #(price in 1000s of dollars)\n",
    "\n",
    "fig, ax = plt.subplots(1,1)\n",
    "ax.scatter(X_train, Y_train, marker='x', c='r')\n",
    "ax.set_ylabel('Price (in 1000s of dollars)', fontsize='xx-large')\n",
    "ax.set_xlabel('Size (1000 sqft)', fontsize='xx-large')\n",
    "plt.show()"
   ]
  },
  {
   "cell_type": "markdown",
   "id": "2fe74630-f347-47e7-a3fb-c4fc71004880",
   "metadata": {},
   "source": [
    "#### Using TF & Keras to define a linear layer with one unit"
   ]
  },
  {
   "cell_type": "code",
   "execution_count": 9,
   "id": "4663d0b5-adf4-42e3-b8c8-9c73699d1e44",
   "metadata": {},
   "outputs": [],
   "source": [
    "linear_layer = tf.keras.layers.Dense(units=1, activation='linear')"
   ]
  },
  {
   "cell_type": "markdown",
   "id": "e8dbe0a6-0afb-41f3-9ea6-798500a57e03",
   "metadata": {},
   "source": [
    "**Code Explaination**\n",
    "\n",
    "1. `tf.keras.layers.Dense`  \n",
    "\t•\tDense is a type of layer in a neural network where each neuron is connected to every neuron in the previous layer (hence the name “dense”).\n",
    "\t•\tIt is used to implement fully connected layers, which are the most common type of layers in neural networks.\n",
    "\n",
    "2. `units=1`  \n",
    "\t•\tThe units parameter specifies the number of neurons (or units) in the layer.\n",
    "\t•\tIn this case, units=1 means the layer will have one neuron. This is typical for tasks where you are predicting a single value, such as in regression tasks.\n",
    "\n",
    "3. `activation='linear'`  \n",
    "\t•\tThe activation function determines the output transformation applied to the weighted sum of the input.  \n",
    "\t•\t***`'linear'` is the identity function, meaning that the output of this layer will be a linear combination of the inputs. No transformation is applied to the output, so the layer simply outputs a weighted sum of its inputs plus a bias term.***  \n",
    "\t•\tIn contrast, other activation functions like 'relu', 'sigmoid', or 'softmax' apply non-linear transformations.  \n"
   ]
  },
  {
   "cell_type": "code",
   "execution_count": null,
   "id": "a71de573-b62e-47d5-8027-553f6e93ceb5",
   "metadata": {},
   "outputs": [],
   "source": []
  },
  {
   "cell_type": "code",
   "execution_count": 12,
   "id": "ff07ef06-9927-4d63-b3f6-835898be357c",
   "metadata": {},
   "outputs": [
    {
     "data": {
      "text/plain": [
       "[]"
      ]
     },
     "execution_count": 12,
     "metadata": {},
     "output_type": "execute_result"
    }
   ],
   "source": [
    "# get the weights of the linear model\n",
    "linear_layer.get_weights()"
   ]
  },
  {
   "cell_type": "markdown",
   "id": "fc023bb6-11aa-416d-92b2-37b36b36f6c8",
   "metadata": {},
   "source": [
    "There are no weights as the weights are not yet instantiated. Let us try the model on one example of the `X_train`. This will trigger the instantiation of the weights.   \n",
    "***Note: The input to the layer must be 2D***"
   ]
  },
  {
   "cell_type": "code",
   "execution_count": 15,
   "id": "5e2d3667-79a1-462b-9d11-fdd45c156c9e",
   "metadata": {},
   "outputs": [
    {
     "data": {
      "text/plain": [
       "<tf.Tensor: shape=(1, 1), dtype=float32, numpy=array([[-0.6193235]], dtype=float32)>"
      ]
     },
     "execution_count": 15,
     "metadata": {},
     "output_type": "execute_result"
    }
   ],
   "source": [
    "a1 = linear_layer(X_train[0].reshape(1,1))\n",
    "a1"
   ]
  },
  {
   "cell_type": "markdown",
   "id": "c3d1e8c4-09cf-4567-bd0a-a2afe5384e42",
   "metadata": {},
   "source": [
    "**What is happening in the above code**\n",
    "\n",
    "**Forward Pass:** The linear_layer performs a computation using the initial randomly assigned weights and bias. Since the weights and bias are initialized randomly at the start (unless you have a specific initialization), the output at this point will be based on these random parameters. It doesn’t yet reflect the “learned” values."
   ]
  },
  {
   "cell_type": "code",
   "execution_count": 19,
   "id": "908c5def-ee65-48d0-9c2a-45665d480957",
   "metadata": {},
   "outputs": [
    {
     "name": "stdout",
     "output_type": "stream",
     "text": [
      "w = [[-0.6193235]], b=[0.]\n"
     ]
    }
   ],
   "source": [
    "## randomly assigned weight and bias during forward pass.\n",
    "w, b= linear_layer.get_weights()\n",
    "print(f\"w = {w}, b={b}\")"
   ]
  },
  {
   "cell_type": "markdown",
   "id": "7151518d-29c8-4301-aa99-82eb4bcc3ed6",
   "metadata": {},
   "source": [
    "**Let us assign W and b to known value rather than random ones**\n",
    "\n"
   ]
  },
  {
   "cell_type": "code",
   "execution_count": 20,
   "id": "764c49ba-af19-4997-ae9b-d671536a8f49",
   "metadata": {},
   "outputs": [
    {
     "name": "stdout",
     "output_type": "stream",
     "text": [
      "[array([[2000.]], dtype=float32), array([100.], dtype=float32)]\n"
     ]
    }
   ],
   "source": [
    "set_w = np.array([[2000]])\n",
    "set_b = np.array([100])\n",
    "\n",
    "linear_layer.set_weights([set_w, set_b])\n",
    "print(linear_layer.get_weights())"
   ]
  },
  {
   "cell_type": "code",
   "execution_count": 22,
   "id": "43c613dc-1e92-4c90-8a3c-4635f8ffd545",
   "metadata": {},
   "outputs": [
    {
     "name": "stdout",
     "output_type": "stream",
     "text": [
      "tf.Tensor([[2100.]], shape=(1, 1), dtype=float32)\n",
      "[[2100.]]\n"
     ]
    }
   ],
   "source": [
    "a1 = linear_layer(X_train[0].reshape(1,1))\n",
    "print(a1)\n",
    "\n",
    "alin_custom = np.dot(set_w, X_train[0].reshape(1,1)) + set_b\n",
    "print(alin_custom)"
   ]
  },
  {
   "cell_type": "code",
   "execution_count": 37,
   "id": "a53a3709-0c6a-49c1-a11b-9a25bba92c4b",
   "metadata": {},
   "outputs": [],
   "source": [
    "prediction_tf = linear_layer(X_train)\n",
    "prediction_alin_custom = np.dot(X_train, set_w) + set_b"
   ]
  },
  {
   "cell_type": "code",
   "execution_count": 38,
   "id": "9ea3bdd0-b42e-4d7b-8c4f-079501321190",
   "metadata": {},
   "outputs": [
    {
     "data": {
      "text/plain": [
       "<tf.Tensor: shape=(2, 1), dtype=float32, numpy=\n",
       "array([[2100.],\n",
       "       [4100.]], dtype=float32)>"
      ]
     },
     "execution_count": 38,
     "metadata": {},
     "output_type": "execute_result"
    }
   ],
   "source": [
    "prediction_tf"
   ]
  },
  {
   "cell_type": "code",
   "execution_count": 39,
   "id": "7452c40a-0f67-42fe-9a66-7a633e768c3c",
   "metadata": {},
   "outputs": [
    {
     "data": {
      "text/plain": [
       "array([[2100.],\n",
       "       [4100.]])"
      ]
     },
     "execution_count": 39,
     "metadata": {},
     "output_type": "execute_result"
    }
   ],
   "source": [
    "prediction_alin_custom"
   ]
  },
  {
   "cell_type": "markdown",
   "id": "dd82887b-4a33-45ff-a737-b173a7e57e85",
   "metadata": {},
   "source": [
    "## Neuron with sigmoid activation\n",
    "\n",
    "The function implemented by a neuron/unit with a sigmoid activation is:\n",
    "$$ f_{\\mathbf{w},b}(x^{(i)}) = g(\\mathbf{w}x^{(i)} + b) \\tag{2}$$\n",
    "where $$g(x) = sigmoid(x)$$ \n",
    "\n",
    "Let's set $w$ and $b$ to some known values and check the model.\n"
   ]
  },
  {
   "cell_type": "code",
   "execution_count": 43,
   "id": "ddd149e6-5e99-4d16-a078-95563597d0c8",
   "metadata": {},
   "outputs": [],
   "source": [
    "X_train = np.array([0., 1, 2, 3, 4, 5], dtype=np.float32).reshape(-1,1)  # 2-D Matrix\n",
    "Y_train = np.array([0,  0, 0, 1, 1, 1], dtype=np.float32).reshape(-1,1)  # 2-D Matrix"
   ]
  },
  {
   "cell_type": "code",
   "execution_count": 44,
   "id": "28599447-f3b4-4db7-95ca-1a58373fe907",
   "metadata": {},
   "outputs": [],
   "source": [
    "pos = Y_train == 1\n",
    "neg = Y_train == 0"
   ]
  },
  {
   "cell_type": "code",
   "execution_count": 48,
   "id": "ba807d64-c8e8-4fd5-8112-6fffe662efac",
   "metadata": {},
   "outputs": [
    {
     "data": {
      "image/png": "[encoded data removed]",
      "text/plain": [
       "<Figure size 400x300 with 1 Axes>"
      ]
     },
     "metadata": {},
     "output_type": "display_data"
    }
   ],
   "source": [
    "fig,ax = plt.subplots(1,1,figsize=(4,3))\n",
    "ax.scatter(X_train[pos], Y_train[pos], marker='x', s=80, c = 'red', label=\"y=1\")\n",
    "ax.scatter(X_train[neg], Y_train[neg], marker='o', s=100, label=\"y=0\", )\n",
    "\n",
    "ax.set_ylim(-0.08,1.1)\n",
    "ax.set_ylabel('y', fontsize=12)\n",
    "ax.set_xlabel('x', fontsize=12)\n",
    "ax.set_title('one variable plot')\n",
    "ax.legend(fontsize=12)\n",
    "plt.show()"
   ]
  },
  {
   "cell_type": "markdown",
   "id": "448d4357-3138-4ceb-a223-7792eddd03de",
   "metadata": {},
   "source": [
    "## Implementing logistic Layer\n",
    "\n",
    "We can implement logistic neuron by adding a sigmoid activation. \n",
    "\n"
   ]
  },
  {
   "cell_type": "code",
   "execution_count": 50,
   "id": "57edbb54-9890-4955-902d-78a921f3c19c",
   "metadata": {},
   "outputs": [],
   "source": [
    "model = Sequential(\n",
    "    [\n",
    "        tf.keras.layers.Dense(1, input_dim=1,  activation = 'sigmoid', name='L1')\n",
    "    ]\n",
    ")"
   ]
  },
  {
   "cell_type": "markdown",
   "id": "1b5f4503-fee1-41b6-a46f-6a24e9c5f480",
   "metadata": {},
   "source": [
    "1. `Sequential():`\n",
    "\t•\tSequential is a linear stack of layers, meaning the layers are stacked one after another, where each layer’s output is the next layer’s input.\n",
    "\t•\tIt is the most common way of building models in Keras, especially for simple feedforward neural networks.\n",
    "\n",
    "2. `tf.keras.layers.Dense():`\n",
    "\t•\tThis is a fully connected (dense) layer in the neural network.  \n",
    "\t•\tThe Dense layer is the most common layer used in neural networks, where each neuron in the layer is connected to every neuron in the previous layer.  \n",
    "Arguments for `Dense(1, input_dim=1, activation='sigmoid', name='L1'):`\n",
    "\t•\t1: This specifies that the dense layer has 1 output neuron. This would be suitable for a binary classification task, as you typically have one output unit with a sigmoid activation function.  \n",
    "\t•\tinput_dim=1: This specifies the number of input features to the model. Here, it is set to 1, meaning the input data will have a single feature (e.g., a single value for each sample).  \n",
    "\t•\tactivation='sigmoid': This defines the activation function for the neurons in this layer. The sigmoid activation function outputs values between 0 and 1, which is commonly used for binary classification tasks because it can be interpreted as a probability.  \n",
    "\t•\tname='L1': This is the name assigned to this layer. It’s useful for debugging or when accessing specific layers later.  \n",
    "\n",
    "3. Putting it all together:  \n",
    "\n",
    "The model consists of one dense layer with:  \n",
    "\t•\t1 output neuron (for binary output),  \n",
    "\t•\t1 input feature,  \n",
    "\t•\ta sigmoid activation function to map the output between 0 and 1 (ideal for binary classification),   \n",
    "\t•\tand the layer is named L1.  "
   ]
  },
  {
   "cell_type": "code",
   "execution_count": 51,
   "id": "3bba2984-1b17-4652-9f0a-e0da53958530",
   "metadata": {},
   "outputs": [
    {
     "name": "stdout",
     "output_type": "stream",
     "text": [
      "Model: \"sequential_1\"\n",
      "_________________________________________________________________\n",
      " Layer (type)                Output Shape              Param #   \n",
      "=================================================================\n",
      " L1 (Dense)                  (None, 1)                 2         \n",
      "                                                                 \n",
      "=================================================================\n",
      "Total params: 2\n",
      "Trainable params: 2\n",
      "Non-trainable params: 0\n",
      "_________________________________________________________________\n"
     ]
    }
   ],
   "source": [
    "model.summary()"
   ]
  },
  {
   "cell_type": "code",
   "execution_count": 56,
   "id": "c30899a2-deef-4726-8f68-ece7b0ee9bc1",
   "metadata": {},
   "outputs": [
    {
     "name": "stdout",
     "output_type": "stream",
     "text": [
      "[[-0.4273523]] [0.]\n",
      "(1, 1) (1,)\n"
     ]
    }
   ],
   "source": [
    "logistic_layer = model.get_layer('L1')\n",
    "w,b = logistic_layer.get_weights()\n",
    "print(w,b)\n",
    "print(w.shape,b.shape)"
   ]
  },
  {
   "cell_type": "markdown",
   "id": "796f4e3d-3cd9-464e-b37e-712113251117",
   "metadata": {},
   "source": [
    "Like before, setting weights and biases to some known value"
   ]
  },
  {
   "cell_type": "code",
   "execution_count": 57,
   "id": "da6ddc42-b370-48c5-9442-aafbaa61ddd0",
   "metadata": {},
   "outputs": [
    {
     "name": "stdout",
     "output_type": "stream",
     "text": [
      "[array([[2.]], dtype=float32), array([-4.5], dtype=float32)]\n"
     ]
    }
   ],
   "source": [
    "set_w = np.array([[2]])\n",
    "set_b = np.array([-4.5])\n",
    "# set_weights takes a list of numpy arrays\n",
    "logistic_layer.set_weights([set_w, set_b])\n",
    "print(logistic_layer.get_weights())"
   ]
  },
  {
   "cell_type": "code",
   "execution_count": 61,
   "id": "071648bf-be47-47da-bb8a-282a09944b22",
   "metadata": {},
   "outputs": [
    {
     "name": "stdout",
     "output_type": "stream",
     "text": [
      "1/1 [==============================] - 0s 11ms/step\n",
      "[[0.01098694]]\n",
      "[[0.01098694]]\n"
     ]
    }
   ],
   "source": [
    "a1 = model.predict(X_train[0].reshape(1,1))\n",
    "print(a1)\n",
    "alog = 1/(1+np.exp(-(np.dot(set_w,X_train[0].reshape(1,1)) + set_b)))\n",
    "print(alog)"
   ]
  },
  {
   "cell_type": "markdown",
   "id": "325aac61-7851-4230-8144-94516337ccbf",
   "metadata": {},
   "source": [
    "### We built very simple neural network"
   ]
  }
 ],
 "metadata": {
  "kernelspec": {
   "display_name": "Python 3 (ipykernel)",
   "language": "python",
   "name": "python3"
  },
  "language_info": {
   "codemirror_mode": {
    "name": "ipython",
    "version": 3
   },
   "file_extension": ".py",
   "mimetype": "text/x-python",
   "name": "python",
   "nbconvert_exporter": "python",
   "pygments_lexer": "ipython3",
   "version": "3.10.13"
  }
 },
 "nbformat": 4,
 "nbformat_minor": 5
}
