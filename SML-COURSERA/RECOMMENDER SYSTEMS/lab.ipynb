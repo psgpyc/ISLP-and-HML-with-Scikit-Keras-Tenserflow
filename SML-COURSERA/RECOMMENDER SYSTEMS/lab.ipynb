{
 "cells": [
  {
   "cell_type": "code",
   "execution_count": 2,
   "id": "bc8b24a4-f699-44f9-8f21-e47de1a1d1b5",
   "metadata": {},
   "outputs": [],
   "source": [
    "import numpy as np\n",
    "import pandas as pd\n",
    "import tensorflow as tf\n",
    "from tensorflow import keras"
   ]
  },
  {
   "cell_type": "markdown",
   "id": "b2114862-9fab-41ed-ab2d-dde3eacf1a26",
   "metadata": {},
   "source": [
    " $r(i,j)$ scalar; = 1;  if user j rated movie i  = 0  otherwise             \n",
    "$y(i,j)$ scalar; = rating given by user j on movie  i    (if r(i,j) = 1 is defined)   \n",
    "$\\mathbf{w}^{(j)}$vector; parameters for user j  \n",
    "$b^{(j)}$ scalar; parameter for user j    \n",
    "$\\mathbf{x}^{(i)}$ vector; feature ratings for movie i          \n",
    "$n_u$ number of users  \n",
    "$n_m$ number of movies    \n",
    "$n$ number of features   \n",
    "$\\mathbf{X}$ matrix of vectors $\\mathbf{x}^{(i)}$         \n",
    "$\\mathbf{W}$ matrix of vectors $\\mathbf{w}^{(j)}$         \n",
    "$\\mathbf{b}$ vector of bias parameters $b^{(j)}$   \n",
    "$\\mathbf{R}$ matrix of elements $r(i,j)$                  "
   ]
  },
  {
   "cell_type": "markdown",
   "id": "2e5d816d-a304-4c28-816a-812c0ae430ed",
   "metadata": {},
   "source": [
    "## Recommender Systems\n",
    "The goal of a collaborative filtering recommender system is to generate two vectors: For each user, a 'parameter vector' that embodies the movie rastes of a user.\n",
    "For each movie, a feature vector of the same size which embodies some description of the movie. \n",
    "\n",
    "The dot product of the two vectors plus the bias term should produce an estimate of the rating the user might give to that movie."
   ]
  },
  {
   "cell_type": "markdown",
   "id": "c628bc8f-af23-4937-add9-97c91972c67d",
   "metadata": {},
   "source": [
    "### Importing dataset"
   ]
  },
  {
   "cell_type": "markdown",
   "id": "aea833fe-9ade-4293-a60d-aa0e70346110",
   "metadata": {},
   "source": []
  },
  {
   "cell_type": "code",
   "execution_count": 104,
   "id": "3df4ce6d-e0c1-4231-9610-dd2e144ee0a9",
   "metadata": {},
   "outputs": [],
   "source": [
    "# get the total number of unique movies\n",
    "movie_rows = len(df['movieId'].unique())"
   ]
  },
  {
   "cell_type": "code",
   "execution_count": 105,
   "id": "14f30504-baab-4561-980f-433fca864f72",
   "metadata": {},
   "outputs": [],
   "source": [
    "# list to add ratings by each user for a particular movie\n",
    "lst = []"
   ]
  },
  {
   "cell_type": "code",
   "execution_count": 106,
   "id": "e3b5f8f4-c0a7-45c0-b382-472e8914735b",
   "metadata": {},
   "outputs": [
    {
     "data": {
      "text/html": [
       "<div>\n",
       "<style scoped>\n",
       "    .dataframe tbody tr th:only-of-type {\n",
       "        vertical-align: middle;\n",
       "    }\n",
       "\n",
       "    .dataframe tbody tr th {\n",
       "        vertical-align: top;\n",
       "    }\n",
       "\n",
       "    .dataframe thead th {\n",
       "        text-align: right;\n",
       "    }\n",
       "</style>\n",
       "<table border=\"1\" class=\"dataframe\">\n",
       "  <thead>\n",
       "    <tr style=\"text-align: right;\">\n",
       "      <th></th>\n",
       "      <th>userId</th>\n",
       "      <th>movieId</th>\n",
       "      <th>rating</th>\n",
       "      <th>timestamp</th>\n",
       "    </tr>\n",
       "  </thead>\n",
       "  <tbody>\n",
       "    <tr>\n",
       "      <th>0</th>\n",
       "      <td>1</td>\n",
       "      <td>1</td>\n",
       "      <td>4.0</td>\n",
       "      <td>964982703</td>\n",
       "    </tr>\n",
       "    <tr>\n",
       "      <th>1</th>\n",
       "      <td>1</td>\n",
       "      <td>3</td>\n",
       "      <td>4.0</td>\n",
       "      <td>964981247</td>\n",
       "    </tr>\n",
       "    <tr>\n",
       "      <th>2</th>\n",
       "      <td>1</td>\n",
       "      <td>6</td>\n",
       "      <td>4.0</td>\n",
       "      <td>964982224</td>\n",
       "    </tr>\n",
       "    <tr>\n",
       "      <th>3</th>\n",
       "      <td>1</td>\n",
       "      <td>47</td>\n",
       "      <td>5.0</td>\n",
       "      <td>964983815</td>\n",
       "    </tr>\n",
       "    <tr>\n",
       "      <th>4</th>\n",
       "      <td>1</td>\n",
       "      <td>50</td>\n",
       "      <td>5.0</td>\n",
       "      <td>964982931</td>\n",
       "    </tr>\n",
       "  </tbody>\n",
       "</table>\n",
       "</div>"
      ],
      "text/plain": [
       "   userId  movieId  rating  timestamp\n",
       "0       1        1     4.0  964982703\n",
       "1       1        3     4.0  964981247\n",
       "2       1        6     4.0  964982224\n",
       "3       1       47     5.0  964983815\n",
       "4       1       50     5.0  964982931"
      ]
     },
     "execution_count": 106,
     "metadata": {},
     "output_type": "execute_result"
    }
   ],
   "source": [
    "df = pd.read_csv(\"./dataset/ml-latest-small/ratings.csv\")\n",
    "df.head()"
   ]
  },
  {
   "cell_type": "code",
   "execution_count": 109,
   "id": "020bb964-06d5-4e09-9551-f19f3689463f",
   "metadata": {},
   "outputs": [],
   "source": [
    "# loop to get the rating for a movie from all the user and append it to a list\n",
    "for each in range(1, movie_rows):\n",
    "    final_list = np.zeros(shape=(n_u,))\n",
    "    # get the ratings for a movie by all user\n",
    "    movie_rating = df[df['movieId'] == each]['rating'].to_numpy()\n",
    "    # get all the user who has rated the movie \n",
    "    userid_in_data = df[df['movieId'] == each]['userId'].to_numpy()\n",
    "\n",
    "    # if the user is is in the list of user who has rated, get the index\n",
    "    final_list[np.where(np.isin(userid_generated, userid_in_data ))] = movie_rating\n",
    "\n",
    "    lst.append(final_list)\n",
    "\n"
   ]
  },
  {
   "cell_type": "code",
   "execution_count": 110,
   "id": "b93ce855-1770-45dc-814d-0f68eb20e47a",
   "metadata": {},
   "outputs": [],
   "source": [
    "# convert the loop to array\n",
    "Y = np.array(lst)"
   ]
  },
  {
   "cell_type": "code",
   "execution_count": 111,
   "id": "a360ef88-5296-4db4-b85e-8647a27e1dbc",
   "metadata": {},
   "outputs": [
    {
     "data": {
      "text/plain": [
       "array([[4. , 0. , 0. , ..., 2.5, 3. , 5. ],\n",
       "       [0. , 0. , 0. , ..., 2. , 0. , 0. ],\n",
       "       [4. , 0. , 0. , ..., 2. , 0. , 0. ],\n",
       "       ...,\n",
       "       [0. , 0. , 0. , ..., 0. , 0. , 0. ],\n",
       "       [0. , 0. , 0. , ..., 0. , 0. , 0. ],\n",
       "       [0. , 0. , 0. , ..., 0. , 0. , 0. ]])"
      ]
     },
     "execution_count": 111,
     "metadata": {},
     "output_type": "execute_result"
    }
   ],
   "source": [
    "\"\"\"\n",
    "Here, each row represents a movie and each column represents rating given by a user\n",
    "\"\"\"\n",
    "Y"
   ]
  },
  {
   "cell_type": "code",
   "execution_count": 112,
   "id": "f617940e-1ef1-43d2-85c2-2f7a931b66ec",
   "metadata": {},
   "outputs": [],
   "source": [
    "R = Y > 1"
   ]
  },
  {
   "cell_type": "code",
   "execution_count": 115,
   "id": "657f5ff2-08da-4bdd-b9aa-4546c35acb7b",
   "metadata": {},
   "outputs": [],
   "source": [
    "\"\"\"\n",
    "Converting bool to int. \n",
    "Each row represents a movie, and each column represents 1(for if the user has rated) and 0(for if not)\n",
    "\n",
    "\"\"\"\n",
    "R = R.astype(int)"
   ]
  },
  {
   "cell_type": "code",
   "execution_count": null,
   "id": "3bd2f97f-375e-40c3-8f76-61b6c06a8bc0",
   "metadata": {},
   "outputs": [],
   "source": []
  }
 ],
 "metadata": {
  "kernelspec": {
   "display_name": "Python 3 (ipykernel)",
   "language": "python",
   "name": "python3"
  },
  "language_info": {
   "codemirror_mode": {
    "name": "ipython",
    "version": 3
   },
   "file_extension": ".py",
   "mimetype": "text/x-python",
   "name": "python",
   "nbconvert_exporter": "python",
   "pygments_lexer": "ipython3",
   "version": "3.12.7"
  }
 },
 "nbformat": 4,
 "nbformat_minor": 5
}
