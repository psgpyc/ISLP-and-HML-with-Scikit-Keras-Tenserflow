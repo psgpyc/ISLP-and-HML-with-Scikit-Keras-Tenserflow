{
 "cells": [
  {
   "cell_type": "markdown",
   "id": "6f60739f-dbda-432d-82a1-e9d3508078d3",
   "metadata": {},
   "source": [
    "## Collaborative Filtering vs. Content-based Filtering\n",
    "\n",
    "In **Collaborative Filtering**, the algorithm recommends items to the users based on ratings of users who gave similar ratings as the same user.\n",
    "\n",
    "In **content-based filtering** the algorithm recommends items to the user based on features of user and item to find a good match.\n",
    "\n",
    "Now, we will comtinue to use, \n",
    "\n",
    "$r(i,j) = 1, \\text{if user j has rated item i}$  \n",
    "$y^{(i,j)} = \\text{rating given by user j on item i}$\n",
    "\n",
    "The key idea behind content-based filtering is that we are going to make a good use of features of the items and the user to make prediction on what the user might like. "
   ]
  },
  {
   "cell_type": "code",
   "execution_count": null,
   "id": "e46cddeb-eb53-4211-8f14-ff89af601cdd",
   "metadata": {},
   "outputs": [],
   "source": []
  },
  {
   "cell_type": "code",
   "execution_count": null,
   "id": "9e940f07-a998-49fe-9c76-b601237577db",
   "metadata": {},
   "outputs": [],
   "source": []
  }
 ],
 "metadata": {
  "kernelspec": {
   "display_name": "Python 3 (ipykernel)",
   "language": "python",
   "name": "python3"
  },
  "language_info": {
   "codemirror_mode": {
    "name": "ipython",
    "version": 3
   },
   "file_extension": ".py",
   "mimetype": "text/x-python",
   "name": "python",
   "nbconvert_exporter": "python",
   "pygments_lexer": "ipython3",
   "version": "3.12.7"
  }
 },
 "nbformat": 4,
 "nbformat_minor": 5
}
