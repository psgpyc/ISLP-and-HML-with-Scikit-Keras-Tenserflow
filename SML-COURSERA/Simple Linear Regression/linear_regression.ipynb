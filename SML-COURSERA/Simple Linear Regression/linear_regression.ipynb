{
 "cells": [
  {
   "cell_type": "markdown",
   "id": "19802fe3-a553-45c6-86e9-d980fb83b4c3",
   "metadata": {},
   "source": [
    "# A Simple Linear Regression Model"
   ]
  },
  {
   "cell_type": "markdown",
   "id": "fe4cb0aa-7bcd-4933-b5f8-e7918bdaf8aa",
   "metadata": {},
   "source": [
    "The Goal is to implement the model $f_{w,b}$ for linear regression with one variable"
   ]
  },
  {
   "cell_type": "code",
   "execution_count": 3,
   "id": "e5131054-2d1f-4190-9fb9-d49ce1da09af",
   "metadata": {},
   "outputs": [],
   "source": [
    "import numpy as np\n",
    "import pandas as pd\n",
    "import matplotlib.pyplot as plt"
   ]
  },
  {
   "cell_type": "markdown",
   "id": "eedc7ffb-668e-4029-b851-230be092acfe",
   "metadata": {},
   "source": [
    "This exercise will use a simple dataset with only two data points- a house with 1000 square feet(sqft) sold for \\\\$300,00 and a house with 2000 square feet sold for $500,000. \n",
    "\n",
    "These two points will constitute our data or training set. In this lab, the units of size are 1000 sqft and the units of prices are 1000s of dollors.\n",
    "\n",
    "| Size (1000 sqft)     | Price (1000s of dollars) |\n",
    "| -------------------| ------------------------ |\n",
    "| 1.0               | 300                      |\n",
    "| 2.0               | 500                      |\n",
    "\n",
    "\n",
    "We will like a fit a straight line(a linear regression model) through these two points, so you can then predict for other houses- say, a house with 1200 sqft."
   ]
  },
  {
   "cell_type": "code",
   "execution_count": 4,
   "id": "31de9d58-992a-41cc-b9c0-73868c9e1812",
   "metadata": {},
   "outputs": [],
   "source": [
    "# x_train is the input variable (size in 1000 sq. ft)\n",
    "# y_train is the target (price in 1000s of dollor)\n",
    "\n",
    "x_train = np.array([1.0,2.0])\n",
    "y_train = np.array([300.0, 500.0])"
   ]
  },
  {
   "cell_type": "code",
   "execution_count": 8,
   "id": "48c0021b-1c95-4922-89d1-7975ac2f3364",
   "metadata": {},
   "outputs": [
    {
     "name": "stdout",
     "output_type": "stream",
     "text": [
      "The number of training examples is: 2\n"
     ]
    }
   ],
   "source": [
    "# m is the number of training examples (n in the context of ISLP)\n",
    "\n",
    "m = x_train.shape[0]\n",
    "\n",
    "print(f\"The number of training examples is: {m}\")"
   ]
  },
  {
   "cell_type": "markdown",
   "id": "d129175e-8340-42da-86ea-dcf5f26b4191",
   "metadata": {},
   "source": [
    "## Training example x_i , y_i"
   ]
  },
  {
   "cell_type": "markdown",
   "id": "51e1f31d-55c8-4542-bd68-7777f4997f7d",
   "metadata": {},
   "source": [
    "We will use $(x^{(i)}, y^{(i)})$ to denote the $i^{(th)}$ training example. Since, python is zero indexed\n",
    "\n",
    "$x^{(0)}, y^{(0)}$ is (1.0, 2.0) and $x^{(1)}, y^{(1)}$ is (2.0, 500)"
   ]
  },
  {
   "cell_type": "code",
   "execution_count": 10,
   "id": "127d6b4c-4af7-4ddb-9bc3-09720e34f8ed",
   "metadata": {},
   "outputs": [],
   "source": [
    "i = 0\n",
    "\n",
    "x_i = x_train[i]\n",
    "y_i = y_train[i]"
   ]
  },
  {
   "cell_type": "markdown",
   "id": "e73c2cb5-31c5-45a0-9b48-511c4a11e57e",
   "metadata": {},
   "source": [
    "## Plotting the data"
   ]
  },
  {
   "cell_type": "code",
   "execution_count": 17,
   "id": "de36d1df-5b9c-4fae-83c5-c184c035003d",
   "metadata": {},
   "outputs": [
    {
     "data": {
      "text/plain": [
       "Text(0.5, 0, 'Size (1000 sqft)')"
      ]
     },
     "execution_count": 17,
     "metadata": {},
     "output_type": "execute_result"
    },
    {
     "data": {
      "image/png": "[encoded data removed]",
      "text/plain": [
       "<Figure size 600x500 with 1 Axes>"
      ]
     },
     "metadata": {},
     "output_type": "display_data"
    }
   ],
   "source": [
    "fig, ax = plt.subplots(figsize=(6, 5))\n",
    "\n",
    "#plotting the data points\n",
    "ax.scatter(x_train, y_train, marker='x', color='red')\n",
    "\n",
    "ax.set_ylabel('Price (in 1000s of dollors)')\n",
    "ax.set_xlabel('Size (1000 sqft)')\n",
    "\n"
   ]
  },
  {
   "cell_type": "markdown",
   "id": "cb27c396-8911-42dc-bf72-abc9675c870c",
   "metadata": {},
   "source": [
    "### Model Function"
   ]
  },
  {
   "cell_type": "markdown",
   "id": "023be4a4-3af3-497a-8862-2c7ff7b64ee5",
   "metadata": {},
   "source": [
    "The model function for linear regression is represented as\n",
    "\n",
    "$f_{w,b}(x^{(i)}) = wx^{(i)} + b$\n",
    "\n",
    "Lets try to get a better intuition for this through the code blocks below. Let's start with $w = 100$ and $b = 100$"
   ]
  },
  {
   "cell_type": "code",
   "execution_count": 18,
   "id": "3c24825f-1a75-4b25-a1c5-e447e9d63d57",
   "metadata": {},
   "outputs": [],
   "source": [
    "w = 100\n",
    "b = 100"
   ]
  },
  {
   "cell_type": "code",
   "execution_count": 20,
   "id": "d49a728d-a93e-40ba-abaa-65935359011e",
   "metadata": {},
   "outputs": [],
   "source": [
    "def compute_model_output(x, w, b):\n",
    "    \"\"\"\n",
    "        Comnputes the prediction of a linear model\n",
    "\n",
    "        Args: \n",
    "            x (ndarray (m,): Data, m examples\n",
    "            w,b (scalar) : model parameters\n",
    "\n",
    "        Returns\n",
    "            y (ndarray (m,)): target values\n",
    "    \"\"\"\n",
    "    m = x.shape[0]\n",
    "    f_wb = np.zeros(m)\n",
    "    for i in range(m):\n",
    "        f_wb[i] = w * x[i] + b\n",
    "\n",
    "\n",
    "    return f_wb\n"
   ]
  },
  {
   "cell_type": "code",
   "execution_count": 21,
   "id": "25dbaa1a-7ae7-4a81-882d-94712bc40bf7",
   "metadata": {},
   "outputs": [],
   "source": [
    "y_predict = compute_model_output(x_train, w, b)"
   ]
  },
  {
   "cell_type": "code",
   "execution_count": 25,
   "id": "1e849750-c8b5-4f97-ac8d-49230324212d",
   "metadata": {},
   "outputs": [
    {
     "data": {
      "text/plain": [
       "<matplotlib.legend.Legend at 0x119c757f0>"
      ]
     },
     "execution_count": 25,
     "metadata": {},
     "output_type": "execute_result"
    },
    {
     "data": {
      "image/png": "[encoded data removed]",
      "text/plain": [
       "<Figure size 640x480 with 1 Axes>"
      ]
     },
     "metadata": {},
     "output_type": "display_data"
    }
   ],
   "source": [
    "# plotting our model prediction\n",
    "\n",
    "plt.plot(x_train, y_predict, c='red', label='prediction')\n",
    "\n",
    "plt.scatter(x_train, y_train, c='blue', marker='x' ,label='Actual Output')\n",
    "\n",
    "plt.title('Housing Prices: Prediction Vs. Real')\n",
    "\n",
    "\n",
    "plt.ylabel('Price (in 1000s of dollors)')\n",
    "plt.xlabel('Size (1000 sqft)')\n",
    "\n",
    "plt.legend()"
   ]
  },
  {
   "cell_type": "markdown",
   "id": "8d3701ef-d9ed-4c60-bfdc-d0236013cc1f",
   "metadata": {},
   "source": [
    "As we can see, the $w = 100 $ and $ b = 100 $ doesnot result in a line that fits our data."
   ]
  },
  {
   "cell_type": "markdown",
   "id": "18494f69-8fa1-4cb5-8ab5-eaabd827d0f9",
   "metadata": {},
   "source": [
    "## Prediction\n",
    "\n",
    "Now that we have a model, we can use it to make our original prediction. Let's predict the price of a house with 1200 sq. ft."
   ]
  },
  {
   "cell_type": "code",
   "execution_count": 26,
   "id": "95d07bb1-2a31-447a-9bcd-35a10b23acf9",
   "metadata": {},
   "outputs": [
    {
     "name": "stdout",
     "output_type": "stream",
     "text": [
      "$340 thousand dollars\n"
     ]
    }
   ],
   "source": [
    "w = 200                         \n",
    "b = 100    \n",
    "x_i = 1.2\n",
    "cost_1200sqft = w * x_i + b    \n",
    "\n",
    "print(f\"${cost_1200sqft:.0f} thousand dollars\")"
   ]
  },
  {
   "cell_type": "code",
   "execution_count": null,
   "id": "b4228003-dc1d-4ede-be0c-6d087309bb09",
   "metadata": {},
   "outputs": [],
   "source": []
  }
 ],
 "metadata": {
  "kernelspec": {
   "display_name": "Python 3 (ipykernel)",
   "language": "python",
   "name": "python3"
  },
  "language_info": {
   "codemirror_mode": {
    "name": "ipython",
    "version": 3
   },
   "file_extension": ".py",
   "mimetype": "text/x-python",
   "name": "python",
   "nbconvert_exporter": "python",
   "pygments_lexer": "ipython3",
   "version": "3.12.7"
  }
 },
 "nbformat": 4,
 "nbformat_minor": 5
}
