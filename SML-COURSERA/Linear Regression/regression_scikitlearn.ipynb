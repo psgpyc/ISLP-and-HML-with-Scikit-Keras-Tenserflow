{
 "cells": [
  {
   "cell_type": "code",
   "execution_count": 1,
   "id": "cb21fc5d-3d60-4d4c-811a-eaebbeac8a09",
   "metadata": {},
   "outputs": [],
   "source": [
    "import numpy as np\n",
    "import matplotlib.pyplot as plt\n",
    "\n",
    "from sklearn.linear_model import SGDRegressor\n",
    "from sklearn.preprocessing import StandardScaler"
   ]
  },
  {
   "cell_type": "markdown",
   "id": "b15d2dbb-cfff-40fd-b00e-921d10c2b511",
   "metadata": {},
   "source": [
    "## Load the data set"
   ]
  },
  {
   "cell_type": "code",
   "execution_count": 5,
   "id": "4bd54ca6-28d3-49d5-9943-22485927e27a",
   "metadata": {},
   "outputs": [],
   "source": [
    "X_train = np.array([[2104, 5, 1, 45], [1416,3,2,40], [852, 2,1,35]])\n",
    "X_features = ['Size(sq ft)', '# bedrooms', '# floors', 'age of home' ]\n",
    "y_train = np.array([460,232,178])"
   ]
  },
  {
   "cell_type": "markdown",
   "id": "c2da29bf-20dd-49af-a1aa-cc38e1f1a692",
   "metadata": {},
   "source": [
    "## Scale/Normalise the training data"
   ]
  },
  {
   "cell_type": "code",
   "execution_count": 9,
   "id": "21eb5278-6326-4577-a50c-5dbe7ec4edf9",
   "metadata": {},
   "outputs": [],
   "source": [
    "scaler = StandardScaler()\n",
    "X_norm = scaler.fit_transform(X_train)"
   ]
  },
  {
   "cell_type": "code",
   "execution_count": 10,
   "id": "7cfd4e68-1fae-4d0e-b2da-866c5e37c1a2",
   "metadata": {},
   "outputs": [
    {
     "name": "stdout",
     "output_type": "stream",
     "text": [
      "Peak to Peak range by column in Raw: X:[1252    3    1   10]\n",
      "Peak to Peak range by column in Raw: X:[2.44549494 2.40535118 2.12132034 2.44948974]\n"
     ]
    }
   ],
   "source": [
    "print(f\"Peak to Peak range by column in Raw: X:{np.ptp(X_train, axis=0)}\")\n",
    "print(f\"Peak to Peak range by column in Raw: X:{np.ptp(X_norm, axis=0)}\")"
   ]
  },
  {
   "cell_type": "markdown",
   "id": "fe40b25c-40af-4482-a336-ef472e9855eb",
   "metadata": {},
   "source": [
    "## Create and fit the regression model"
   ]
  },
  {
   "cell_type": "code",
   "execution_count": 13,
   "id": "e225fd3c-3403-4174-93c1-b3a329904302",
   "metadata": {},
   "outputs": [
    {
     "name": "stdout",
     "output_type": "stream",
     "text": [
      "SGDRegressor(max_iter=10000)\n",
      "number of iterations completed: 1241, number of weight updates: 3724.0\n"
     ]
    }
   ],
   "source": [
    "sgdr = SGDRegressor(max_iter=10000)\n",
    "sgdr.fit(X_norm, y_train)\n",
    "print(sgdr)\n",
    "\n",
    "print(f\"number of iterations completed: {sgdr.n_iter_}, number of weight updates: {sgdr.t_}\")"
   ]
  },
  {
   "cell_type": "code",
   "execution_count": 14,
   "id": "1f1f43dd-3f5e-4fb4-b1de-da881d8ab646",
   "metadata": {},
   "outputs": [
    {
     "name": "stdout",
     "output_type": "stream",
     "text": [
      "model parameters:                   w: [ 38.05337512  41.53929087 -30.94592326  36.34599756], b:[289.50721701]\n",
      "model parameters from previous lab: w: [110.56 -21.27 -32.71 -37.97], b: 363.16\n"
     ]
    }
   ],
   "source": [
    "b_norm = sgdr.intercept_\n",
    "w_norm = sgdr.coef_\n",
    "print(f\"model parameters:                   w: {w_norm}, b:{b_norm}\")\n",
    "print( \"model parameters from previous lab: w: [110.56 -21.27 -32.71 -37.97], b: 363.16\")"
   ]
  },
  {
   "cell_type": "code",
   "execution_count": 15,
   "id": "4aab7636-4a80-415e-b7c4-4c30f4d580ea",
   "metadata": {},
   "outputs": [
    {
     "name": "stdout",
     "output_type": "stream",
     "text": [
      "prediction using np.dot() and sgdr.predict match: True\n",
      "Prediction on training set:\n",
      "[459.47886695 231.56898372 177.47380036]\n",
      "Target values \n",
      "[460 232 178]\n"
     ]
    }
   ],
   "source": [
    "# make a prediction using sgdr.predict()\n",
    "y_pred_sgd = sgdr.predict(X_norm)\n",
    "# make a prediction using w,b. \n",
    "y_pred = np.dot(X_norm, w_norm) + b_norm  \n",
    "print(f\"prediction using np.dot() and sgdr.predict match: {(y_pred == y_pred_sgd).all()}\")\n",
    "\n",
    "print(f\"Prediction on training set:\\n{y_pred[:4]}\" )\n",
    "print(f\"Target values \\n{y_train[:4]}\")"
   ]
  },
  {
   "cell_type": "code",
   "execution_count": null,
   "id": "cdc5d56f-c3e9-41ba-9b0c-467b7bfd8656",
   "metadata": {},
   "outputs": [],
   "source": []
  }
 ],
 "metadata": {
  "kernelspec": {
   "display_name": "Python 3 (ipykernel)",
   "language": "python",
   "name": "python3"
  },
  "language_info": {
   "codemirror_mode": {
    "name": "ipython",
    "version": 3
   },
   "file_extension": ".py",
   "mimetype": "text/x-python",
   "name": "python",
   "nbconvert_exporter": "python",
   "pygments_lexer": "ipython3",
   "version": "3.12.7"
  }
 },
 "nbformat": 4,
 "nbformat_minor": 5
}
