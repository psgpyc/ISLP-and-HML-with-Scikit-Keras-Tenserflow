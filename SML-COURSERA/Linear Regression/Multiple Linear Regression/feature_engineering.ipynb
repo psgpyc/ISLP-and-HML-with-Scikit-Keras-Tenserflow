{
 "cells": [
  {
   "cell_type": "markdown",
   "id": "6c7e1c9a-ba44-4e0b-8b84-3cf15c57d64f",
   "metadata": {},
   "source": [
    "## Feature Engineering & Polynomial Regression\n",
    "\n",
    "\n",
    "Using *intuition* to design *new features*, by transforming or combining original features.\n",
    "\n",
    "\n",
    "Polynomial regression is a type of regression analysis where the relationship between the independent variable (x) and the dependent variable (y) is modeled as an n-degree polynomial. Instead of fitting a straight line (as in linear regression), polynomial regression fits a curve to capture non-linear relationships.\n",
    "\n",
    "\n",
    "\n",
    "$y = b + w_1x + w_2x^2 + w_3x^3 + \\dots + w_nx^n$\n",
    "\n"
   ]
  },
  {
   "cell_type": "markdown",
   "id": "05bee4cd-4e7d-4d5f-a5f7-831c53f58af0",
   "metadata": {},
   "source": [
    "Out of the box, linear regression provides a means of building models of the form:\n",
    "\n",
    "$f_{w,b} = b + w_0x_0 + w_1x_1 + ..... + w_{n-1}x_{n-1}$\n",
    "\n",
    "What if our features or data are non-linear or are combination of features? \n",
    "\n",
    "For example, Housing prices do not tend to be linear with living area but penalize very small or very large houses resulting in a curve. \n",
    "\n",
    "Recall that, no amount of adjusting of **w** or **b** will let us fit to a non-linear curve.\n",
    "\n",
    "### Example:\n",
    "\n",
    "\n",
    "Living area (x): [500, 1000, 1500, 2000, 2500]\n",
    "\n",
    "House price (y): [300, 450, 600, 700, 650]\n",
    "    \n",
    "**Fits a straight line:**\n",
    "\n",
    "$y = w_1x + b$\n",
    "\n",
    "This might not capture the curve in the data.\n",
    "\n",
    "**Polynomial Regression:**\n",
    "\n",
    "Fit a quadratic model (n = 2):\n",
    "\n",
    "$y = b + w_1x + w_2x^2$\n",
    "\n",
    "By including $x^2$, the model can bend to fit the curve.\n",
    "\n"
   ]
  },
  {
   "cell_type": "markdown",
   "id": "f18d99e3-4884-4b8a-abc0-5aa7646096c6",
   "metadata": {},
   "source": [
    "\t•\tLinear Regression: A straight line, unable to capture curvature.\n",
    "\t•\tPolynomial Regression: A curve that better fits non-linear data."
   ]
  },
  {
   "cell_type": "code",
   "execution_count": null,
   "id": "4f7f7bdc-bdd4-47aa-8df0-ed2ef957a16f",
   "metadata": {},
   "outputs": [],
   "source": []
  },
  {
   "cell_type": "code",
   "execution_count": null,
   "id": "7b1d45a6-3a4c-4db4-a84e-84c88e18cd54",
   "metadata": {},
   "outputs": [],
   "source": []
  },
  {
   "cell_type": "markdown",
   "id": "fcef66ee-7372-42f1-9849-fb044ea6a1b1",
   "metadata": {},
   "source": [
    "**Feature Scaling: Polynomial terms (e.g., $x^2$, $x^3$) can grow very large, making feature scaling important.**"
   ]
  },
  {
   "cell_type": "code",
   "execution_count": null,
   "id": "a906aa9f-792e-4e3c-a7fc-1110ff3e3188",
   "metadata": {},
   "outputs": [],
   "source": []
  },
  {
   "cell_type": "code",
   "execution_count": null,
   "id": "5c286dd6-7528-4e43-86f5-1a2e496c3adf",
   "metadata": {},
   "outputs": [],
   "source": []
  }
 ],
 "metadata": {
  "kernelspec": {
   "display_name": "Python 3 (ipykernel)",
   "language": "python",
   "name": "python3"
  },
  "language_info": {
   "codemirror_mode": {
    "name": "ipython",
    "version": 3
   },
   "file_extension": ".py",
   "mimetype": "text/x-python",
   "name": "python",
   "nbconvert_exporter": "python",
   "pygments_lexer": "ipython3",
   "version": "3.12.7"
  }
 },
 "nbformat": 4,
 "nbformat_minor": 5
}
