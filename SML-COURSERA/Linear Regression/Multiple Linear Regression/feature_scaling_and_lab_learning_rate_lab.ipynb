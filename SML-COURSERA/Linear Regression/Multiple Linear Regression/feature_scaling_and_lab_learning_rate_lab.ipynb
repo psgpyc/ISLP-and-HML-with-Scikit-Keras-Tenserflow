{
 "cells": [
  {
   "cell_type": "code",
   "execution_count": 71,
   "id": "c5b01431-307a-416f-b403-f9a3a8957680",
   "metadata": {},
   "outputs": [],
   "source": [
    "import math\n",
    "import numpy as np\n",
    "import matplotlib.pyplot as plt"
   ]
  },
  {
   "cell_type": "code",
   "execution_count": 72,
   "id": "738fe9d1-6257-4855-8c9e-e80cbd694a80",
   "metadata": {},
   "outputs": [],
   "source": [
    "X_train = np.array([[2104, 5, 1, 45], [1416,3,2,40], [852, 2,1,35]])\n",
    "X_features = ['Size(sq ft)', '# bedrooms', '# floors', 'age of home' ]\n",
    "y_train = np.array([460,232,178])"
   ]
  },
  {
   "cell_type": "code",
   "execution_count": 73,
   "id": "c694d128-642d-460d-b3a2-0471796ad3d1",
   "metadata": {},
   "outputs": [
    {
     "data": {
      "text/plain": [
       "Text(0, 0.5, \"Price (1000's of Dollor)\")"
      ]
     },
     "execution_count": 73,
     "metadata": {},
     "output_type": "execute_result"
    },
    {
     "data": {
      "image/png": "[encoded data removed]",
      "text/plain": [
       "<Figure size 1200x300 with 4 Axes>"
      ]
     },
     "metadata": {},
     "output_type": "display_data"
    }
   ],
   "source": [
    "fig, ax = plt.subplots(1, 4, figsize=(12,3), sharey=True)\n",
    "for i in range(len(ax)):\n",
    "    ax[i].scatter(X_train[:,i], y_train, color='black')\n",
    "    ax[i].set_xlabel(X_features[i])\n",
    "\n",
    "ax[0].set_ylabel('Price (1000\\'s of Dollor)')"
   ]
  },
  {
   "cell_type": "code",
   "execution_count": 74,
   "id": "c4dcdc04-8835-4ecf-8de0-6cea72528e3e",
   "metadata": {},
   "outputs": [],
   "source": [
    "b_init = 785.1811367994083\n",
    "w_init = np.array([0.39133535, 18.75376741, -53.36032453, -26.42131618])"
   ]
  },
  {
   "cell_type": "code",
   "execution_count": 75,
   "id": "415a32dd-4d4b-4f90-8530-dc416589da50",
   "metadata": {},
   "outputs": [],
   "source": [
    "def predict(w, b, X):\n",
    "    pred = np.dot(w, X) + b\n",
    "    return pred"
   ]
  },
  {
   "cell_type": "code",
   "execution_count": 76,
   "id": "fc933e39-82e8-4dc9-8176-2ee373276b99",
   "metadata": {},
   "outputs": [
    {
     "data": {
      "text/plain": [
       "459.9999976194083"
      ]
     },
     "execution_count": 76,
     "metadata": {},
     "output_type": "execute_result"
    }
   ],
   "source": [
    "predict(w=w_init, b=b_init, X=X_train[0])"
   ]
  },
  {
   "cell_type": "markdown",
   "id": "0cdd9f11-6d37-4119-8452-43e48185e795",
   "metadata": {},
   "source": [
    "## Calculate Cost Function"
   ]
  },
  {
   "cell_type": "code",
   "execution_count": 77,
   "id": "f7aaad7e-ddbc-444a-93b4-07e3f10da915",
   "metadata": {},
   "outputs": [],
   "source": [
    "def cost_function(w, b, X, y):\n",
    "    m = X.shape[0]\n",
    "    cost = 0\n",
    "    for i in range(m):\n",
    "        pred = predict(w, b, X[i])\n",
    "        cost += (y[i] - pred)**2\n",
    "        \n",
    "    cost = cost/2*m\n",
    "\n",
    "    return cost   "
   ]
  },
  {
   "cell_type": "code",
   "execution_count": 78,
   "id": "95a1762e-8fae-44eb-ac2c-1f7f88771b32",
   "metadata": {},
   "outputs": [
    {
     "data": {
      "text/plain": [
       "1.4021013641397007e-11"
      ]
     },
     "execution_count": 78,
     "metadata": {},
     "output_type": "execute_result"
    }
   ],
   "source": [
    "cost_function(w=w_init, b=b_init, X=X_train, y=y_train)"
   ]
  },
  {
   "cell_type": "markdown",
   "id": "e1f43e48-6ed7-47ae-8941-26c117111fc0",
   "metadata": {},
   "source": [
    "## Calculate Gradient"
   ]
  },
  {
   "cell_type": "code",
   "execution_count": 79,
   "id": "c5811271-dc92-4f10-897c-22c6f03aa9d4",
   "metadata": {},
   "outputs": [
    {
     "data": {
      "text/plain": [
       "array([0., 0., 0., 0.])"
      ]
     },
     "execution_count": 79,
     "metadata": {},
     "output_type": "execute_result"
    }
   ],
   "source": [
    "np.zeros((4,))"
   ]
  },
  {
   "cell_type": "code",
   "execution_count": 85,
   "id": "1b5069b2-a55e-47e1-bfcb-dfd2198758ec",
   "metadata": {},
   "outputs": [],
   "source": [
    "def compute_gradient(w, b, X, y):\n",
    "    m, n = X.shape\n",
    "    dw = np.zeros(n,)\n",
    "    db = 0\n",
    "    \n",
    "    for i in range(m):\n",
    "        err = (np.dot(w,X[i]) + b) - y[i]\n",
    "        for j in range(n):      \n",
    "            dw[j] += err * X[i, j]\n",
    "        db += err\n",
    "    db = db/m\n",
    "    dw = dw/m\n",
    "\n",
    "    return dw, db  "
   ]
  },
  {
   "cell_type": "code",
   "execution_count": 87,
   "id": "4b3f5240-c465-41db-b9dc-5912123e33e8",
   "metadata": {},
   "outputs": [
    {
     "data": {
      "text/plain": [
       "(array([-2.72623574e-03, -6.27197255e-06, -2.21745574e-06, -6.92403377e-05]),\n",
       " -1.6739251122999121e-06)"
      ]
     },
     "execution_count": 87,
     "metadata": {},
     "output_type": "execute_result"
    }
   ],
   "source": [
    "compute_gradient(w=w_init, b=b_init, X=X_train, y=y_train)"
   ]
  },
  {
   "cell_type": "code",
   "execution_count": 103,
   "id": "73c30973-a12c-4f7d-a015-5444d63eb126",
   "metadata": {},
   "outputs": [],
   "source": [
    "def run_gradient_descent(X,y, w_init, b_init, num_of_iter, alpha, cost_function, compute_gradient):\n",
    "    w = w_init\n",
    "    b = b_init\n",
    "    cost_history = []\n",
    "    wb_history = []\n",
    "\n",
    "    for i in range(num_of_iter):\n",
    "        \n",
    "        cost = cost_function(w=w, b=b, X=X, y=y)\n",
    "        cost_history.append(cost)\n",
    "        wb_history.append((w,b))\n",
    "\n",
    "        # calculate gradient; the derivative term\n",
    "        dw, db = compute_gradient(w,b, X, y)\n",
    "\n",
    "        # substitute the w and b with the new.\n",
    "        w = w - alpha * dw\n",
    "        b = b - alpha * db\n",
    "\n",
    "        if i%(num_of_iter//10) == 0:\n",
    "            print(f\"\"\"\n",
    "            w: {w}\n",
    "            b: {b}\n",
    "            cost: {cost}\n",
    "            \"\"\")\n",
    "\n",
    "    return w, b , cost_history"
   ]
  },
  {
   "cell_type": "code",
   "execution_count": 131,
   "id": "db819691-26f1-43b4-bc84-2ff30ebff3f9",
   "metadata": {},
   "outputs": [
    {
     "name": "stdout",
     "output_type": "stream",
     "text": [
      "\n",
      "            w: [  0.39133535  18.75376741 -53.36032453 -26.42131618]\n",
      "            b: 785.1811367994084\n",
      "            cost: 1.4021013641397007e-11\n",
      "            \n",
      "\n",
      "            w: [  0.39133535  18.75376741 -53.36032453 -26.42131618]\n",
      "            b: 785.1811367994087\n",
      "            cost: 3.0592859968260063e-15\n",
      "            \n",
      "\n",
      "            w: [  0.39133535  18.75376741 -53.36032453 -26.42131618]\n",
      "            b: 785.1811367994087\n",
      "            cost: 3.053782137085002e-15\n",
      "            \n",
      "\n",
      "            w: [  0.39133535  18.75376741 -53.36032453 -26.42131618]\n",
      "            b: 785.1811367994087\n",
      "            cost: 3.048308774698314e-15\n",
      "            \n",
      "\n",
      "            w: [  0.39133535  18.75376741 -53.36032453 -26.42131618]\n",
      "            b: 785.1811367994087\n",
      "            cost: 3.042810560406829e-15\n",
      "            \n",
      "\n",
      "            w: [  0.39133535  18.75376741 -53.36032453 -26.42131618]\n",
      "            b: 785.1811367994087\n",
      "            cost: 3.0373558454305706e-15\n",
      "            \n",
      "\n",
      "            w: [  0.39133535  18.75376741 -53.36032453 -26.42131618]\n",
      "            b: 785.1811367994087\n",
      "            cost: 3.0318763154236764e-15\n",
      "            \n",
      "\n",
      "            w: [  0.39133535  18.75376741 -53.36032453 -26.42131618]\n",
      "            b: 785.1811367994087\n",
      "            cost: 3.0264014330926126e-15\n",
      "            \n",
      "\n",
      "            w: [  0.39133535  18.75376741 -53.36032453 -26.42131618]\n",
      "            b: 785.1811367994087\n",
      "            cost: 3.0209354506756402e-15\n",
      "            \n",
      "\n",
      "            w: [  0.39133535  18.75376741 -53.36032453 -26.42131618]\n",
      "            b: 785.1811367994087\n",
      "            cost: 3.0154879939959994e-15\n",
      "            \n"
     ]
    }
   ],
   "source": [
    "w_pred,b_pred, cost_history = run_gradient_descent(X=X_train,\n",
    "                     y=y_train, \n",
    "                     w_init=w_init, \n",
    "                     b_init=b_init, \n",
    "                     num_of_iter=1000, \n",
    "                     alpha=1.0e-7, \n",
    "                     cost_function=cost_function, \n",
    "                     compute_gradient=compute_gradient)"
   ]
  },
  {
   "cell_type": "code",
   "execution_count": 142,
   "id": "00e0c804-d4cf-422f-a33a-f8e03179838a",
   "metadata": {},
   "outputs": [
    {
     "data": {
      "text/plain": [
       "Text(0.5, 1.0, 'Cost vs. # of Iterations')"
      ]
     },
     "execution_count": 142,
     "metadata": {},
     "output_type": "execute_result"
    },
    {
     "data": {
      "image/png": "[encoded data removed]",
      "text/plain": [
       "<Figure size 640x480 with 1 Axes>"
      ]
     },
     "metadata": {},
     "output_type": "display_data"
    }
   ],
   "source": [
    "plt.plot([x for x in range(len(cost_history))],cost_history)\n",
    "plt.xlabel('# of Iterations')\n",
    "plt.ylabel('Cost')\n",
    "plt.title('Cost vs. # of Iterations')"
   ]
  },
  {
   "cell_type": "markdown",
   "id": "9a69b8d8-bf93-4493-9a72-7b712a9081d2",
   "metadata": {},
   "source": [
    "## Making prediciton"
   ]
  },
  {
   "cell_type": "code",
   "execution_count": 140,
   "id": "7e6efe74-87be-44b1-a40f-18dd442a596d",
   "metadata": {},
   "outputs": [
    {
     "name": "stdout",
     "output_type": "stream",
     "text": [
      "\n",
      "        prediction:  460.00\n",
      "        actual: 460\n",
      "    \n",
      "    \n",
      "\n",
      "        prediction:  232.00\n",
      "        actual: 232\n",
      "    \n",
      "    \n",
      "\n",
      "        prediction:  178.00\n",
      "        actual: 178\n",
      "    \n",
      "    \n"
     ]
    }
   ],
   "source": [
    "for i in range(X_train.shape[0]):\n",
    "    pred = np.dot(w_pred, X_train[i]) + b\n",
    "    print(f\"\"\"\n",
    "        prediction: {pred: .2f}\n",
    "        actual: {y_train[i]}\n",
    "    \n",
    "    \"\"\")"
   ]
  },
  {
   "cell_type": "markdown",
   "id": "45054104-cdba-4a36-aae2-53fa71fdbe1a",
   "metadata": {},
   "source": [
    "## Z-Score Normalization\n",
    "\n",
    "After z-score normalization, all features will have a mean of 0 and standard deviation of 1.\n",
    "\n",
    "To implement z-score normalization, adjust your input values as show in the formula below:\n",
    "\n",
    "$ x_j^{(i)} = \\frac{ x_j^{(i)} - \\mu_j}{\\sigma_j}$\n",
    "\n",
    "\n",
    "where, *j* selects a feature or a column in the **X** matrix. $\\mu_j$ is the mean of all the values for freature(j) and $\\sigma_j$ is the standard deviation of feature(j):\n",
    "\n",
    "$\\mu_j = \\frac{1}{m} \\sum_{i=0}^{m-1}x_j^{(i)}$\n",
    "\n",
    "$\\sigma_j^2 = \\frac{1}{m}\\sum_{i=0}^{m-1} (x_j^{(i)} - \\mu_j)^2$"
   ]
  },
  {
   "cell_type": "code",
   "execution_count": 145,
   "id": "ba2e6dc2-ac2c-4f46-a49f-f8c2f4ef901e",
   "metadata": {},
   "outputs": [],
   "source": [
    "def zscore_normalize_feature(X):\n",
    "    m,n = X.shape\n",
    "\n",
    "    # mean of values in  each column/feature\n",
    "    mu = np.mean(X, axis=0)\n",
    "\n",
    "    # standard deviation of each column/feature\n",
    "    sigma = np.std(X, axis=0)\n",
    "\n",
    "    X_norm = (X-mu)/sigma\n",
    "\n",
    "    return (mu, sigma, X_norm)\n",
    "    "
   ]
  },
  {
   "cell_type": "markdown",
   "id": "7eb76f85-7dc8-43f1-9c3f-29a3bf9e01e7",
   "metadata": {},
   "source": [
    "### Normalising the original features"
   ]
  },
  {
   "cell_type": "code",
   "execution_count": 151,
   "id": "5b338aa3-f920-4635-a45b-bbfe9e9c1ccd",
   "metadata": {},
   "outputs": [],
   "source": [
    "mu, sigma, X_normalized = zscore_normalize_feature(X_train)"
   ]
  },
  {
   "cell_type": "code",
   "execution_count": 155,
   "id": "57645751-3c63-4f03-be7a-a2df243d1f78",
   "metadata": {},
   "outputs": [
    {
     "data": {
      "text/plain": [
       "array([[ 1.26311506,  1.33630621, -0.70710678,  1.22474487],\n",
       "       [-0.08073519, -0.26726124,  1.41421356,  0.        ],\n",
       "       [-1.18237987, -1.06904497, -0.70710678, -1.22474487]])"
      ]
     },
     "execution_count": 155,
     "metadata": {},
     "output_type": "execute_result"
    }
   ],
   "source": [
    "X_normalized"
   ]
  },
  {
   "cell_type": "code",
   "execution_count": null,
   "id": "144801be-2b77-43b0-8d31-02a858e75bca",
   "metadata": {},
   "outputs": [],
   "source": []
  },
  {
   "cell_type": "code",
   "execution_count": null,
   "id": "3e5e97a4-b1ff-4958-aa60-186a9d8de0fe",
   "metadata": {},
   "outputs": [],
   "source": []
  }
 ],
 "metadata": {
  "kernelspec": {
   "display_name": "Python 3 (ipykernel)",
   "language": "python",
   "name": "python3"
  },
  "language_info": {
   "codemirror_mode": {
    "name": "ipython",
    "version": 3
   },
   "file_extension": ".py",
   "mimetype": "text/x-python",
   "name": "python",
   "nbconvert_exporter": "python",
   "pygments_lexer": "ipython3",
   "version": "3.12.7"
  }
 },
 "nbformat": 4,
 "nbformat_minor": 5
}
