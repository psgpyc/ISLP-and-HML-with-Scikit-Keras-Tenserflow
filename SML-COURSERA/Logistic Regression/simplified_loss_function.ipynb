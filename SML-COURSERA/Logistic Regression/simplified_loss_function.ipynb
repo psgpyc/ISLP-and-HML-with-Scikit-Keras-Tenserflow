{
 "cells": [
  {
   "cell_type": "markdown",
   "id": "976962c0-0b81-418e-9419-005b25c27ed7",
   "metadata": {},
   "source": [
    "## We know that the Loss Function for Logistic Regression is:\n",
    "\n",
    "$$\n",
    "L(f_{\\vec{w}, b}(\\vec{x}^{(i)}), y^{(i)}) =\n",
    "\\begin{cases}\n",
    "-\\log(f_{\\vec{w}, b}(\\vec{x}^{(i)})) & \\text{if } y^{(i)} = 1 \\\\\n",
    "-\\log(1 - f_{\\vec{w}, b}(\\vec{x}^{(i)})) & \\text{if } y^{(i)} = 0\n",
    "\\end{cases}\n",
    "$$\n",
    "\n",
    "Where, \n",
    "\n",
    "\n",
    "$$\n",
    "f_{\\vec{w}, b}(\\vec{x}) = \\frac{1}{1 + e^{-(w \\cdot x + b)}}\n",
    "$$"
   ]
  },
  {
   "cell_type": "markdown",
   "id": "4521baa6-bf05-40d2-8625-9c0f62533bd4",
   "metadata": {},
   "source": [
    "### Now, let us simplying this loss function so that impementation is simpler when using gradient descent."
   ]
  },
  {
   "cell_type": "markdown",
   "id": "46d2ad4a-8735-469c-93a0-5dd4b0c2d2d3",
   "metadata": {},
   "source": [
    "$ L(f_{\\vec{w}, b}(\\vec{x}^{(i)}), y^{(i)}) = -y^{(i)} log(f_{\\vec{w}, b}(\\vec{x}^{(i)}))- (1-y^{(i)}) log(1-f_{\\vec{w}, b}(\\vec{x}^{(i)})) $\n",
    "\n",
    "\n",
    "\n",
    "\n"
   ]
  },
  {
   "cell_type": "code",
   "execution_count": null,
   "id": "af973314-cc3c-4417-91b5-cedda30e9767",
   "metadata": {},
   "outputs": [],
   "source": []
  },
  {
   "cell_type": "code",
   "execution_count": null,
   "id": "27de66ba-b782-42c6-a923-20a063a58024",
   "metadata": {},
   "outputs": [],
   "source": []
  },
  {
   "cell_type": "markdown",
   "id": "4362b907-db8c-4286-a3c0-145e339543a8",
   "metadata": {},
   "source": [
    "if $y^{(i)}=1$:\n",
    "\n",
    "\n",
    "$L(f_{\\vec{w}, b}(\\vec{x}^{(i)}), y^{(i)}) = -1 \\cdot log(f_{\\vec w,b}{(\\vec x^{(i)})})$\n",
    "\n",
    "if $y^{(i)}=0$:\n",
    "\n",
    "$L(f_{\\vec{w}, b}(\\vec{x}^{(i)}), y^{(i)}) = -(1-0) \\cdot log(1-f_{\\vec w,b}{(\\vec x^{(i)})})$\n"
   ]
  },
  {
   "cell_type": "markdown",
   "id": "bc26b218-ad00-46f6-9159-2629655c7132",
   "metadata": {},
   "source": [
    "# Simplified Cost Function"
   ]
  },
  {
   "cell_type": "markdown",
   "id": "62d62ab4-e8ab-4d57-bf0a-909c4c0a963d",
   "metadata": {},
   "source": [
    "$J(\\vec w, b) = -\\frac{1}{m} \\sum_{i=1}^m [y^{(i)} log(f_{\\vec{w}, b}(\\vec{x}^{(i)}))- (1-y^{(i)}) log(1-f_{\\vec{w}, b}(\\vec{x}^{(i)}))]$"
   ]
  },
  {
   "cell_type": "code",
   "execution_count": null,
   "id": "c6be5854-552a-4662-80b1-d14d077b1d6a",
   "metadata": {},
   "outputs": [],
   "source": []
  }
 ],
 "metadata": {
  "kernelspec": {
   "display_name": "Python 3 (ipykernel)",
   "language": "python",
   "name": "python3"
  },
  "language_info": {
   "codemirror_mode": {
    "name": "ipython",
    "version": 3
   },
   "file_extension": ".py",
   "mimetype": "text/x-python",
   "name": "python",
   "nbconvert_exporter": "python",
   "pygments_lexer": "ipython3",
   "version": "3.12.7"
  }
 },
 "nbformat": 4,
 "nbformat_minor": 5
}
