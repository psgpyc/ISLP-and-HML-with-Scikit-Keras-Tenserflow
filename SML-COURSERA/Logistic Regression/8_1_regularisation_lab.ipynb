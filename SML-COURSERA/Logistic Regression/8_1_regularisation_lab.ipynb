{
 "cells": [
  {
   "cell_type": "code",
   "execution_count": 1,
   "id": "2de3b7d1-6c10-4d29-bbce-542acd74c828",
   "metadata": {},
   "outputs": [],
   "source": [
    "import numpy as np\n",
    "import matplotlib.pyplot as plt"
   ]
  },
  {
   "cell_type": "markdown",
   "id": "65b234a2-789c-4dc7-8137-5d7ac8cd7a20",
   "metadata": {},
   "source": [
    "### Regularising Linear Regression\n",
    "\n",
    "**Cost Function for Regularised Linear Regression**\n",
    "\n",
    "$ J(\\vec w, b) = \\frac{1}{2m} \\sum_{i-1}^m(f_{\\vec w, b}(\\vec x^{(i)}) - y^{(i)})^2 + \\frac{\\lambda}{2m}\\sum_{j=1}^{n}w_j^2$\n",
    "\n"
   ]
  },
  {
   "cell_type": "code",
   "execution_count": 8,
   "id": "bd7ca02c-2443-46fa-9220-7ce879df704a",
   "metadata": {},
   "outputs": [],
   "source": [
    "def compute_cost_linear_reg(X, y, w, b, lambda_= 1):\n",
    "    m = X.shape[0]\n",
    "    n = len(w)\n",
    "    cost = 0.0\n",
    "\n",
    "    for i in range(m):\n",
    "        f_wb_i = np.dot(w, X[i]) + b\n",
    "        cost += (f_wb_i - y[i])**2\n",
    "    cost = cost / (2 * m)\n",
    "    reg_cost = 0.0\n",
    "    for j in range(n):\n",
    "        reg_cost += (w[j] ** 2)\n",
    "    reg_cost = (lambda_ * reg_cost)/ (2 * m)\n",
    "\n",
    "    total_cost = cost + reg_cost\n",
    "\n",
    "    return total_cost"
   ]
  },
  {
   "cell_type": "code",
   "execution_count": 6,
   "id": "b469de51-8f71-4539-8ac2-186e26513845",
   "metadata": {},
   "outputs": [
    {
     "name": "stdout",
     "output_type": "stream",
     "text": [
      "Regularized cost: 0.07917239320214275\n"
     ]
    }
   ],
   "source": [
    "np.random.seed(1)\n",
    "X_tmp = np.random.rand(5,6)\n",
    "y_tmp = np.array([0,1,0,1,0])\n",
    "w_tmp = np.random.rand(X_tmp.shape[1]).reshape(-1,)-0.5\n",
    "b_tmp = 0.5\n",
    "lambda_tmp = 0.7\n",
    "cost_tmp = compute_cost_linear_reg(X_tmp, y_tmp, w_tmp, b_tmp, lambda_tmp)\n",
    "\n",
    "print(\"Regularized cost:\", cost_tmp)"
   ]
  },
  {
   "cell_type": "markdown",
   "id": "53f254ce-4edc-4e3c-b54a-7c8fba5de8db",
   "metadata": {},
   "source": [
    "## Regularisation for Logistic Regression "
   ]
  },
  {
   "cell_type": "markdown",
   "id": "cc4c32f4-ae89-4a52-8830-113414204531",
   "metadata": {},
   "source": [
    "**Cost Function for Regularised Logistic Regression**\n",
    "\n",
    "$J(\\vec w, b) = -\\frac{1}{m} \\sum_{i=1}^m [y^{(i)} log(f_{\\vec{w}, b}(\\vec{x}^{(i)})) + (1-y^{(i)}) log(1-f_{\\vec{w}, b}(\\vec{x}^{(i)}))] + \\frac{\\lambda}{2m}\\sum_{j=1}^{n}w_j^2$"
   ]
  },
  {
   "cell_type": "code",
   "execution_count": 7,
   "id": "88b6e38b-8ad2-41f9-829c-c59a2277921a",
   "metadata": {},
   "outputs": [],
   "source": [
    "def compute_cost_logistic_reg(X, y, w, b, lambda_=1):\n",
    "    m = X.shape[0]\n",
    "    n = len(w)\n",
    "    cost = 0.0\n",
    "    for i in range(m):\n",
    "        z_i = np.dot(X[i], w) + b\n",
    "        f_wb_i = 1/(1+np.exp(-z_i))\n",
    "        cost += -y[i] * np.log(f_wb_i) - (1-y[i])* np.log(1-f_wb_i)\n",
    "    cost = cost / m\n",
    "\n",
    "    reg_cost = 0.0\n",
    "    for j in range(n):\n",
    "        reg_cost += (w[j] ** 2)\n",
    "    reg_cost = (lambda_ * reg_cost)/ (2 * m)\n",
    "\n",
    "    total_cost = cost + reg_cost\n",
    "\n",
    "    return total_cost\n",
    "    \n",
    "                    \n",
    "                    \n",
    "        "
   ]
  },
  {
   "cell_type": "code",
   "execution_count": 9,
   "id": "76682801-e5f4-4ed0-b3a8-ed27a365679d",
   "metadata": {},
   "outputs": [
    {
     "name": "stdout",
     "output_type": "stream",
     "text": [
      "Regularized cost: 0.6850849138741673\n"
     ]
    }
   ],
   "source": [
    "np.random.seed(1)\n",
    "X_tmp = np.random.rand(5,6)\n",
    "y_tmp = np.array([0,1,0,1,0])\n",
    "w_tmp = np.random.rand(X_tmp.shape[1]).reshape(-1,)-0.5\n",
    "b_tmp = 0.5\n",
    "lambda_tmp = 0.7\n",
    "cost_tmp = compute_cost_logistic_reg(X_tmp, y_tmp, w_tmp, b_tmp, lambda_tmp)\n",
    "\n",
    "print(\"Regularized cost:\", cost_tmp)"
   ]
  },
  {
   "cell_type": "code",
   "execution_count": null,
   "id": "030d50f5-d886-4918-9e12-0e72f6617cfc",
   "metadata": {},
   "outputs": [],
   "source": []
  },
  {
   "cell_type": "code",
   "execution_count": null,
   "id": "7922e019-aaa4-47bb-9918-ce3f245d699f",
   "metadata": {},
   "outputs": [],
   "source": []
  },
  {
   "cell_type": "code",
   "execution_count": null,
   "id": "1e92617a-33c6-42eb-adc5-68681d018518",
   "metadata": {},
   "outputs": [],
   "source": []
  },
  {
   "cell_type": "code",
   "execution_count": null,
   "id": "2b3c0c19-2de9-4c07-bb46-9191b89a63e5",
   "metadata": {},
   "outputs": [],
   "source": []
  },
  {
   "cell_type": "markdown",
   "id": "20ada8e3-a111-4916-8ee5-478482c99479",
   "metadata": {},
   "source": [
    "**Now the Gradient Descent Algorithm for both Changes to:**\n",
    "\n",
    " repeat until convergence {\n",
    "\n",
    "$ w_j = w_j - \\alpha [\\frac{1}{m}\\sum_{i=1}^{m} (f_{\\vec{w}, b}(\\vec{x}^{(i)})- y^{(i)}) x_j^{(i)}] + \\frac{\\lambda}{m} w_j$\n",
    "\n",
    "$b = b - \\alpha [\\frac{1}{m}\\sum_{i=1}^{m} (f_{\\vec{w}, b}(\\vec{x}^{(i)})- y^{(i)}) ] $\n",
    "\n",
    "\n",
    "\n",
    "\n",
    "\n",
    "\n",
    "\n",
    "\n",
    " }\n",
    "\n"
   ]
  },
  {
   "cell_type": "code",
   "execution_count": 16,
   "id": "288d3bf0-d808-4eb4-9084-9c045f47ef91",
   "metadata": {},
   "outputs": [],
   "source": [
    "def compute_gradient_linear_reg(X, y, w, b, lambda_):\n",
    "    m,n = X.shape\n",
    "    dj = np.zeros((n,))\n",
    "    db = 0.0\n",
    "\n",
    "    for i in range(m):\n",
    "        f_wb_i = np.dot(X[i], w) + b\n",
    "        err = f_wb_i - y[i]\n",
    "        for j in range(n):\n",
    "            dj[j] += err * X[i,j]\n",
    "        db += err\n",
    "\n",
    "    dj = dj/m\n",
    "    db = db/m\n",
    "\n",
    "    for j in range(n):\n",
    "        dj[j] += (lambda_/m) * w[j]\n",
    "\n",
    "    return dj, db\n",
    "    \n",
    "    \n",
    "    "
   ]
  },
  {
   "cell_type": "code",
   "execution_count": 15,
   "id": "68d03408-3f6f-4697-91fa-547d5806233a",
   "metadata": {},
   "outputs": [
    {
     "name": "stdout",
     "output_type": "stream",
     "text": [
      "dj_db: [0.29653215 0.49116796 0.21645878]\n",
      "Regularized dj_dw:\n",
      " 0.6648774569425726\n"
     ]
    }
   ],
   "source": [
    "np.random.seed(1)\n",
    "X_tmp = np.random.rand(5,3)\n",
    "y_tmp = np.array([0,1,0,1,0])\n",
    "w_tmp = np.random.rand(X_tmp.shape[1])\n",
    "b_tmp = 0.5\n",
    "lambda_tmp = 0.7\n",
    "dj_db_tmp, dj_dw_tmp =  compute_gradient_linear_reg(X_tmp, y_tmp, w_tmp, b_tmp, lambda_tmp)\n",
    "\n",
    "print(f\"dj_db: {dj_db_tmp}\", )\n",
    "print(f\"Regularized dj_dw:\\n {dj_dw_tmp.tolist()}\", )"
   ]
  },
  {
   "cell_type": "code",
   "execution_count": 18,
   "id": "9f9167e1-203b-49d2-9072-5e81e83b94b1",
   "metadata": {},
   "outputs": [],
   "source": [
    "def compute_gradient_logistic_reg(X, y, w, b, lambda_):\n",
    "    m,n = X.shape\n",
    "    dj = np.zeros((n,))\n",
    "    db = 0.0\n",
    "\n",
    "    for i in range(m):\n",
    "        z_i = np.dot(X[i], w) + b\n",
    "        f_wb_i = 1/(1+np.exp(-z_i))\n",
    "        err = f_wb_i - y[i]\n",
    "        for j in range(n):\n",
    "            dj[j] += err * X[i,j]\n",
    "        db += err\n",
    "\n",
    "    dj = dj/m\n",
    "    db = db/m\n",
    "\n",
    "    for j in range(n):\n",
    "        dj[j] += (lambda_/m) * w[j]\n",
    "\n",
    "    return dj, db    "
   ]
  },
  {
   "cell_type": "code",
   "execution_count": 19,
   "id": "4fb3ee2e-8d25-408e-88f8-8f76b95c53ba",
   "metadata": {},
   "outputs": [
    {
     "name": "stdout",
     "output_type": "stream",
     "text": [
      "dj_db: [0.17380013 0.32007508 0.10776313]\n",
      "Regularized dj_dw:\n",
      " 0.341798994972791\n"
     ]
    }
   ],
   "source": [
    "np.random.seed(1)\n",
    "X_tmp = np.random.rand(5,3)\n",
    "y_tmp = np.array([0,1,0,1,0])\n",
    "w_tmp = np.random.rand(X_tmp.shape[1])\n",
    "b_tmp = 0.5\n",
    "lambda_tmp = 0.7\n",
    "dj_db_tmp, dj_dw_tmp =  compute_gradient_logistic_reg(X_tmp, y_tmp, w_tmp, b_tmp, lambda_tmp)\n",
    "\n",
    "print(f\"dj_db: {dj_db_tmp}\", )\n",
    "print(f\"Regularized dj_dw:\\n {dj_dw_tmp.tolist()}\", )"
   ]
  },
  {
   "cell_type": "code",
   "execution_count": null,
   "id": "39e291f8-85a1-4935-ae02-91a8ca914be1",
   "metadata": {},
   "outputs": [],
   "source": []
  }
 ],
 "metadata": {
  "kernelspec": {
   "display_name": "Python 3 (ipykernel)",
   "language": "python",
   "name": "python3"
  },
  "language_info": {
   "codemirror_mode": {
    "name": "ipython",
    "version": 3
   },
   "file_extension": ".py",
   "mimetype": "text/x-python",
   "name": "python",
   "nbconvert_exporter": "python",
   "pygments_lexer": "ipython3",
   "version": "3.12.7"
  }
 },
 "nbformat": 4,
 "nbformat_minor": 5
}
