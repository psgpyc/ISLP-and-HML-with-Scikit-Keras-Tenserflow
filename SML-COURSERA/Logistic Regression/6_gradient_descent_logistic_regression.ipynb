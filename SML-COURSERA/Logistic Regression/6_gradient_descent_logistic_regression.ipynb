{
 "cells": [
  {
   "cell_type": "markdown",
   "id": "960191ab-e703-45f7-a2bc-a2ce9f0d1da9",
   "metadata": {},
   "source": [
    "## We know that the Loss Function for Logistic Regression is:\n",
    "\n",
    "$$\n",
    "L(f_{\\vec{w}, b}(\\vec{x}^{(i)}), y^{(i)}) =\n",
    "\\begin{cases}\n",
    "-\\log(f_{\\vec{w}, b}(\\vec{x}^{(i)})) & \\text{if } y^{(i)} = 1 \\\\\n",
    "-\\log(1 - f_{\\vec{w}, b}(\\vec{x}^{(i)})) & \\text{if } y^{(i)} = 0\n",
    "\\end{cases}\n",
    "$$\n",
    "\n",
    "Where, \n",
    "\n",
    "\n",
    "$$\n",
    "f_{\\vec{w}, b}(\\vec{x}) = \\frac{1}{1 + e^{-(w \\cdot x + b)}}\n",
    "$$"
   ]
  },
  {
   "cell_type": "markdown",
   "id": "e15b507d-f723-409c-8ee2-627d56c8a272",
   "metadata": {},
   "source": [
    "## Simplified Cost Function is\n",
    "\n",
    "\n",
    "$J(\\vec w, b) = -\\frac{1}{m} \\sum_{i=1}^m [y^{(i)} log(f_{\\vec{w}, b}(\\vec{x}^{(i)})) + (1-y^{(i)}) log(1-f_{\\vec{w}, b}(\\vec{x}^{(i)}))]$"
   ]
  },
  {
   "cell_type": "markdown",
   "id": "eac493b2-85cf-4f8e-b659-ddd9817a2b80",
   "metadata": {},
   "source": [
    "## Gradient Descent for Logistic Regression is"
   ]
  },
  {
   "cell_type": "markdown",
   "id": "42a572a9-5972-4952-a87c-dad63caf991f",
   "metadata": {},
   "source": [
    "repeat until convergence {\n",
    "\n",
    "$ w_j = w_j - \\alpha [\\frac{1}{m}\\sum_{i=1}^{m} (f_{\\vec{w}, b}(\\vec{x}^{(i)})- y^{(i)}) x_j^{(i)}]$\n",
    "\n",
    "$b = b - \\alpha [\\frac{1}{m}\\sum_{i=1}^{m} (f_{\\vec{w}, b}(\\vec{x}^{(i)})- y^{(i)}) ] $\n",
    "\n",
    "\n",
    "\n",
    "\n",
    "\n",
    "\n",
    "\n",
    "}"
   ]
  },
  {
   "cell_type": "markdown",
   "id": "c531dd0c-d689-4a97-9f28-28f5bb6352c7",
   "metadata": {},
   "source": [
    "# Lab "
   ]
  },
  {
   "cell_type": "code",
   "execution_count": 24,
   "id": "6dc90540-3bcc-4abf-866d-032ce046168e",
   "metadata": {},
   "outputs": [],
   "source": [
    "import numpy as np\n",
    "import math\n",
    "import matplotlib.pyplot as plt"
   ]
  },
  {
   "cell_type": "code",
   "execution_count": 25,
   "id": "77f6040a-2cf3-4132-bea7-516b3b640de4",
   "metadata": {},
   "outputs": [],
   "source": [
    "X_train = np.array([[0.5, 1.5], [1,1], [1.5, 0.5], [3, 0.5], [2, 2], [1, 2.5]])  #(m,n)\n",
    "y_train = np.array([0, 0, 0, 1, 1, 1])  "
   ]
  },
  {
   "cell_type": "code",
   "execution_count": 26,
   "id": "5c40e6c5-1cd6-4135-9dcc-5bbcaf9d1dd0",
   "metadata": {},
   "outputs": [],
   "source": [
    "def sigmoid(z):\n",
    "    g = 1/(1+np.exp(-z))\n",
    "\n",
    "    return g"
   ]
  },
  {
   "cell_type": "code",
   "execution_count": 27,
   "id": "069ae0c6-47c7-4b6e-8723-9fc179d87a35",
   "metadata": {},
   "outputs": [],
   "source": [
    "def compute_cost_logistic(X, y, w, b):\n",
    "    \"\"\"\n",
    "    Computes cost for gradient descent\n",
    "\n",
    "    Args:\n",
    "      X (ndarray (m,n)): Data, m examples with n features\n",
    "      y (ndarray (m,)) : target values\n",
    "      w (ndarray (n,)) : model parameters  \n",
    "      b (scalar)       : model parameter\n",
    "      \n",
    "    Returns:\n",
    "      cost (scalar): cost\n",
    "\n",
    "    \"\"\"\n",
    "    m = X.shape[0]\n",
    "    cost = 0.0\n",
    "    for i in range(m):\n",
    "        z_i = np.dot(X[i], w) + b\n",
    "        f_wb_i = sigmoid(z_i)\n",
    "\n",
    "        cost += -y[i] * np.log(f_wb_i) - (1-y[i]) * np.log(1-f_wb_i)\n",
    "\n",
    "    cost = cost/m\n",
    "    return cost"
   ]
  },
  {
   "cell_type": "code",
   "execution_count": 28,
   "id": "c60b9138-81b1-4966-8f85-02941d174435",
   "metadata": {},
   "outputs": [],
   "source": [
    "def compute_gradient_logistic(X, y, w, b):\n",
    "    m,n = X.shape\n",
    "    dw = np.zeros((n,))\n",
    "    db = 0.0\n",
    "    for i in range(m):\n",
    "        f_wb_i = 1/(1+np.exp(-(np.dot(X[i], w) + b)))\n",
    "        err = f_wb_i - y[i]\n",
    "        for j in range(n):\n",
    "            dw[j] += err * X[i,j]\n",
    "        db += err\n",
    "    dw = dw/m\n",
    "    db = db/m\n",
    "\n",
    "    return dw, db\n",
    "    "
   ]
  },
  {
   "cell_type": "code",
   "execution_count": 29,
   "id": "7ff53b96-4d50-447a-b927-85da4dd86422",
   "metadata": {},
   "outputs": [
    {
     "name": "stdout",
     "output_type": "stream",
     "text": [
      "dj_db: [0.49833339 0.49883943]\n",
      "dj_dw: 0.49861806546328574\n"
     ]
    }
   ],
   "source": [
    "X_tmp = np.array([[0.5, 1.5], [1,1], [1.5, 0.5], [3, 0.5], [2, 2], [1, 2.5]])\n",
    "y_tmp = np.array([0, 0, 0, 1, 1, 1])\n",
    "w_tmp = np.array([2.,3.])\n",
    "b_tmp = 1.\n",
    "dj_db_tmp, dj_dw_tmp = compute_gradient_logistic(X_tmp, y_tmp, w_tmp, b_tmp)\n",
    "print(f\"dj_db: {dj_db_tmp}\" )\n",
    "print(f\"dj_dw: {dj_dw_tmp.tolist()}\" )"
   ]
  },
  {
   "cell_type": "code",
   "execution_count": 32,
   "id": "77d141aa-e704-4ecc-9e2a-7936db415535",
   "metadata": {},
   "outputs": [],
   "source": [
    "def gradient_descent(X,y, w_in, b_in, alpha, num_iters):\n",
    "    cost_history = []\n",
    "    w = w_in\n",
    "    b = b_in\n",
    "\n",
    "    for i in range(num_iters):\n",
    "        # calculate the gradients for $\\vec w$ and $b$\n",
    "        dw, db = compute_gradient_logistic(X, y, w, b)\n",
    "\n",
    "        w = w - alpha * dw\n",
    "        b = b - alpha * db\n",
    "\n",
    "        # Save cost J at each iteration\n",
    "        if i<100000:      # prevent resource exhaustion \n",
    "            cost_history.append( compute_cost_logistic(X, y, w, b) )\n",
    "\n",
    "        # Print cost every at intervals 10 times or as many iterations if < 10\n",
    "        if i% math.ceil(num_iters / 10) == 0:\n",
    "            print(f\"Iteration {i:4d}: Cost {cost_history[-1]}   \")\n",
    "        \n",
    "    return w, b, cost_history         #return final w,b and J history for graphing\n",
    "\n",
    "        \n",
    "\n"
   ]
  },
  {
   "cell_type": "code",
   "execution_count": 36,
   "id": "cceac681-6441-4ce5-9022-e60de61019c2",
   "metadata": {},
   "outputs": [
    {
     "name": "stdout",
     "output_type": "stream",
     "text": [
      "Iteration    0: Cost 0.684610468560574   \n",
      "Iteration 10000: Cost 0.01711604647887364   \n",
      "Iteration 20000: Cost 0.008523403979166467   \n",
      "Iteration 30000: Cost 0.005672197191107633   \n",
      "Iteration 40000: Cost 0.004250161053834308   \n",
      "Iteration 50000: Cost 0.003398230224179212   \n",
      "Iteration 60000: Cost 0.0028308425601004327   \n",
      "Iteration 70000: Cost 0.002425848306579758   \n",
      "Iteration 80000: Cost 0.0021222573122028584   \n",
      "Iteration 90000: Cost 0.0018862216652143864   \n",
      "\n",
      "updated parameters: w:[8.35313087 8.15226727], b:-22.690605796630248\n"
     ]
    }
   ],
   "source": [
    "w_tmp  = np.zeros_like(X_train[0])\n",
    "b_tmp  = 0.\n",
    "alph = 0.1\n",
    "iters = 100000\n",
    "\n",
    "w_out, b_out, _ = gradient_descent(X_train, y_train, w_tmp, b_tmp, alph, iters) \n",
    "print(f\"\\nupdated parameters: w:{w_out}, b:{b_out}\")"
   ]
  },
  {
   "cell_type": "code",
   "execution_count": 41,
   "id": "62219b36-ca3c-4dba-9066-117108f11a2c",
   "metadata": {},
   "outputs": [],
   "source": [
    "x0 = X_train[:, 0]\n",
    "x1 = X_train[:, 1]"
   ]
  },
  {
   "cell_type": "code",
   "execution_count": 44,
   "id": "e95c3bc8-89d0-4941-9d81-adc5d7f7f244",
   "metadata": {},
   "outputs": [],
   "source": [
    "x0p = np.arange(0,6)\n",
    "x1p = b_out - x0\n",
    "\n"
   ]
  },
  {
   "cell_type": "code",
   "execution_count": 45,
   "id": "50cf369f-2ece-4dd7-9d2d-a34b61d33e1b",
   "metadata": {},
   "outputs": [
    {
     "data": {
      "text/plain": [
       "<matplotlib.legend.Legend at 0x11ff56390>"
      ]
     },
     "execution_count": 45,
     "metadata": {},
     "output_type": "execute_result"
    },
    {
     "data": {
      "image/png": "[encoded data removed]",
      "text/plain": [
       "<Figure size 600x500 with 1 Axes>"
      ]
     },
     "metadata": {},
     "output_type": "display_data"
    }
   ],
   "source": [
    "fig, ax = plt.subplots(figsize=(6,5))\n",
    "ax.scatter(x0[:3], x1[:3], marker='o', label=\"y=1\")\n",
    "ax.scatter(x0[3::], x1[3:], marker='x', label=\"y=0\")\n",
    "\n",
    "ax.plot(x0p, x1p, c='b')\n",
    "\n",
    "\n",
    "ax.set_xlabel(\"$x_0$\")\n",
    "ax.set_ylabel(\"$x_1$\")\n",
    "\n",
    "ax.legend()"
   ]
  },
  {
   "cell_type": "code",
   "execution_count": null,
   "id": "ad3e9a22-9636-454e-aead-451ad2f1d649",
   "metadata": {},
   "outputs": [],
   "source": []
  }
 ],
 "metadata": {
  "kernelspec": {
   "display_name": "Python 3 (ipykernel)",
   "language": "python",
   "name": "python3"
  },
  "language_info": {
   "codemirror_mode": {
    "name": "ipython",
    "version": 3
   },
   "file_extension": ".py",
   "mimetype": "text/x-python",
   "name": "python",
   "nbconvert_exporter": "python",
   "pygments_lexer": "ipython3",
   "version": "3.12.7"
  }
 },
 "nbformat": 4,
 "nbformat_minor": 5
}
