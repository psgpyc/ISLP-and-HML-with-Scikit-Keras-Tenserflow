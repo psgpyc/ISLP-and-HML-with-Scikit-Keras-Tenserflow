{
 "cells": [
  {
   "cell_type": "markdown",
   "id": "a775806c-a865-41ed-abb1-9e657b92d267",
   "metadata": {},
   "source": [
    "## Conceptual"
   ]
  },
  {
   "cell_type": "markdown",
   "id": "f2754d21-6bd1-4929-bb72-9797200ff574",
   "metadata": {},
   "source": [
    "### Question 1:\n",
    "\n",
    "For each of parts (a) through (d), indicate whether we would generally\n",
    "expect the performance of a fexible statistical learning method to be\n",
    "better or worse than an infexible method. Justify your answer.\n"
   ]
  },
  {
   "cell_type": "markdown",
   "id": "3795cf4d-8107-4ef2-af54-c18e253e63c6",
   "metadata": {},
   "source": [
    "**(a) The sample size n is extremely large, and the number of predictors p is small.**\n",
    "\n",
    "The performance of flexible statistical learning models will be **better** in this case. \n",
    "\n",
    "The large sample size(n) will provide abundent data to estimate the complex pattern in data more accurately(better fitting the data).  Also, the small number of predictors(p) will help reduce the problem of overfitting of data(dimentionality curse)."
   ]
  },
  {
   "cell_type": "markdown",
   "id": "470ed87e-6626-4a29-b06a-3fc72cb397e9",
   "metadata": {},
   "source": [
    "**(b) The number of predictors p is extremely large, and the number\n",
    "of observations n is small.**\n",
    "\n",
    "The performance of flexible statistical model will be **worse** in this case. Due to smaller number of observation(n) and extremely large predictors(p) flexible models suffer from overfitting issue."
   ]
  },
  {
   "cell_type": "markdown",
   "id": "3799894d-c020-4e56-a4ff-b4e7c1f6f3e5",
   "metadata": {},
   "source": [
    "**(c) The relationship between the predictors and response is highly\n",
    "non-linear.**\n",
    "\n",
    "In this case, we will expect flexible model to **perfrom** better as flexible models are good at modelling non-liner relationships. Also, the bias is smaller for flexible models when dealing with non-liner relationship.  If we use a stricter model, then the bias will be much higher."
   ]
  },
  {
   "cell_type": "markdown",
   "id": "fae7cf3e-8a2b-4600-baf2-24a0dac6e2ba",
   "metadata": {},
   "source": [
    "**(d) The variance of the error terms, i.e. σ2 = Var(\"), is extremely\n",
    "high.**\n",
    "\n",
    "In this case, we expect flexible model to perfrom **worse**. The variance increases as the flexibility increases."
   ]
  },
  {
   "cell_type": "markdown",
   "id": "0a677346-c4ca-44a2-829b-53844aa84370",
   "metadata": {},
   "source": [
    "### Question 2:\n",
    "\n",
    "Explain whether each scenario is a classifcation or regression prob\u0002lem, and indicate whether we are most interested in inference or prediction. Finally, provide n and p"
   ]
  },
  {
   "cell_type": "markdown",
   "id": "347bb730-61cd-4d03-9fad-e57501cc3fe7",
   "metadata": {},
   "source": [
    "**(a) We collect a set of data on the top 500 firms in the US. For each firm we record profit, number of employees, industry and the CEO Salary. We are interested in understanding which factors affect CEO Salary.** \n",
    "\n",
    "Here, n = 500 and p = 3.\n",
    "\n",
    "This is a regression problem and we are most interested in inference, as the goal is to understand which factors affect CEO salary.\n"
   ]
  },
  {
   "cell_type": "markdown",
   "id": "66769c10-400f-48a9-851b-c9e9c1bc7241",
   "metadata": {},
   "source": [
    "**(b) We are considering launching a new product and wish to know whether it will be a success or failure. We collect data on 20 similar products that were priviously launched. For each product we have recorded whether it was a success or failure, price charged for the product, marketing budget, competition price, and ten other variables.**\n",
    "\n",
    "Here, n=20 and p=13\n",
    "\n",
    "This is a classification problem, as we are trying to predict a binary outcome (success or failure). We are interested in making prediction."
   ]
  },
  {
   "cell_type": "markdown",
   "id": "c0531b1a-95dd-463d-938d-9ffd85673a81",
   "metadata": {},
   "source": [
    "**(c) We are interested in predicting the % change in the USD/Euro exchange rate in relation to the weekly change in the world stock markets. Hence we collect weekly data for all of 2012. For each week we record the % change in the USD/Euro, the % change in the US market, the % change in the British market, and the % change in the German market.** \n",
    "\n",
    "Here, n=52 and p=3\n",
    "\n",
    "This is a regression problem, as we are trying to predict a continuous variable (% change in USD/Euro exchange rate). We are interested in making prediction."
   ]
  },
  {
   "cell_type": "markdown",
   "id": "1091eafc-3492-4228-85f5-bbfa976d1468",
   "metadata": {},
   "source": []
  },
  {
   "cell_type": "markdown",
   "id": "e0dbe6dd-25e1-4b32-afbe-42d0d2765194",
   "metadata": {},
   "source": []
  },
  {
   "cell_type": "markdown",
   "id": "002d7077-2918-4759-9b0f-039d8d5af963",
   "metadata": {},
   "source": []
  },
  {
   "cell_type": "markdown",
   "id": "6e38501f-5319-4af1-bf3a-87646f29b5fe",
   "metadata": {},
   "source": [
    "### Question 3:\n",
    "\n",
    "We now revisit bias-variance decomposition."
   ]
  },
  {
   "cell_type": "markdown",
   "id": "51ab637b-d276-48b3-a22b-cbff23e155c2",
   "metadata": {},
   "source": [
    "**(a) Provide a sketch of typical (squared) bias, variance, training error, test error, and Bayes (or irreducible) error curves, on a single plot, as we got for less flexible statistical learning methods towards more flexible approaches. The x-axis should represent the amount of flexiblity in the method, and the y-axis should represent the values for each curve. There should be five curves. Make sure to label each one.**\n",
    "\n",
    "\n",
    "Will add the graph from Ipad Later"
   ]
  },
  {
   "cell_type": "markdown",
   "id": "709249fe-bbd0-448e-8370-a15e9572c9da",
   "metadata": {},
   "source": [
    "**(b) Explain why each  of the five curves has the shape displayed in part (a).**\n",
    "\n",
    "**Squared bias:** Bias is introduced because our approximation(function which we assumed to explain the underlying relationship) is different than the true underlying relationship. \n",
    "For example, assuming the relationship is linear when the true underlying relationsip is not.\n",
    "As the model gets flexible, the function will be more and more similar to the true underlying function                   reducing the squared bias.\n",
    "\n",
    "**Variance:** The variance is the difference between the predicted value and the actual one. As the model gets flexibe, it fits the data more closely by capturing intricate patterns and relationship in data. Due to this, even a slight change to data point will increase variance.\n",
    "\n",
    "**Training Error:** Trainig error is given by the average of the difference between the predicted value and actual value.                    Flexible models fit the data better than the inflexible models, hence reducing the Training error.\n",
    "\n",
    "**Test Error:** The Expected test error is given by the formula, \n",
    "\n",
    "            Test Error = Variance + Bias + Irreducible Error \n",
    "            \n",
    "\n",
    "The Test error follows a u-shaped curve. Initially, the test error decreases as the flexibility increases, but will start to rise again after a certain point. This is because, flexible models has high variance. The test error will be the lowest, if the each of the above values are less. \n",
    "\n",
    "**Bayes (or Irreducible) error curve:** This is a constant value and is not dependent on the predictors or the flexibility of the statistical model.\n",
    "\n",
    "\n",
    "        "
   ]
  },
  {
   "cell_type": "markdown",
   "id": "5d5e3442-d863-4e9e-a5f7-49cdfa5ae381",
   "metadata": {},
   "source": [
    "### Question 4:\n",
    "\n",
    "You will now think of some real-life applications for statistical learning.\n",
    "\n",
    "\n"
   ]
  },
  {
   "cell_type": "markdown",
   "id": "d4591f96-8c5f-4645-a5f8-5bd9f8e4308c",
   "metadata": {},
   "source": [
    "**(a) Describe three real-life applications in which *classification* might be useful. Describe the response, as well as the predictores. Is the goal of each application inference or prediction? Explain your answer.**\n",
    "\n",
    "The three real-life applications:\n",
    "\n",
    "1. Based on life-style choices and heridietary factors, classifying weather the person is likely to get diabeties or not.\n",
    "   \n",
    "   The goal is to make **prediction.**\n",
    "   \n",
    "   Possible predictors: age, gender, Ethnicity, BMI, Blood Pressure, Family history of diabeties, average sleep duration,     average physical activity duration, smoker, alcohol consumption.\n",
    "\n",
    "   Response variable(binary): 1 for likely to have diabetes, 0 for otherwise\n",
    "\n",
    "2. Predicting Customer Churn in subscription based services like Netflix\n",
    "   The goal is to make **prediction**\n",
    "\n",
    "   Possible predictors: date_joined, frequency_of_use, subscription_amount, average_watch_hours, watch_list_count\n",
    "\n",
    "   Response Variable(binary): 1 for likely to leave, 0 for otherwise\n",
    "\n",
    "3. Detecting fraudulent  Financial Transactions:\n",
    "\n",
    "   The goal is to make **prediction**\n",
    "\n",
    "   Possible predictors: Transaction Amount, Time of Transaction, Geographical Location, Transaction frequency, login_in_device_id\n",
    "\n",
    "   Response Variable(binary): 1 for legitimate , 0 for fraudalent\n",
    "\n",
    "   "
   ]
  },
  {
   "cell_type": "markdown",
   "id": "da48052a-0314-43fa-908e-82ecca2e7fa0",
   "metadata": {},
   "source": [
    "**(b) Describe three real-life applications in which regression might be useful. Describe the response, as well as the predictors. Is the goal of each application inference or prediction? Explain your answer.**\n",
    "\n",
    "1. Identifying factors associated with customer purchasing behaviour in ecommerce platform\n",
    "\n",
    "   The goal is to make **Inference** \n",
    "\n",
    "   Possible Predictors: past_purchase_behaviour, number_of_marketing_emails_opened, time_spent_in_seconds_in_website, customer_age, number_of_time_item__is_viewed.\n",
    "\n",
    "    Response Variable: Identifying which predictors are most likely to influence the purchasing behaviour.\n",
    "\n",
    "2. Rental Price prediction for apartments in London\n",
    "\n",
    "   The goal is to make **prediction** and **Inference**\n",
    "\n",
    "   Possible Predictors: no_of_bedrooms, no_of_baths, total_area, parking_space, no_of_balcony, kitchen_type(modern, traditional), council_tax_band, enery_rating_band, has_living_space, furnished\n",
    "\n",
    "   Response Variable: Price (if prediciton) and Identifying which predictors are most likely to influence purchasing behaviour(if inference)\n",
    "\n",
    "3. Predicting cost of living index based on economic factors.\n",
    "\n",
    "   The goal is to make **inference** and **prediction**\n",
    "\n",
    "   Possible Predictors: Inflation rate, avg_housing_price, energy_prices, food_prices, unemployment_rate, average_wage_growth\n",
    "\n",
    "   Response Variable: cost of living index(prediction) and identifying which predictors has most significant impact on the cost of living\n",
    "\n",
    "   "
   ]
  },
  {
   "cell_type": "markdown",
   "id": "40b2dc12-042b-420a-a7ec-27b4037f6a1b",
   "metadata": {},
   "source": [
    "**(c) Describe three real_life applications in which *cluster analysis* is useful.**\n",
    "\n",
    "1. Recommendation system used for streaming platfroms like Netflix, Disney +, Youtube to recommend your next watch based on your browsing histroy, reviews, ratings.\n",
    "2. Cluster Analysis for grouping customers into different segments based on their purchasing habit like category_of_purchase, purchasing_amount, return/refund types and frequency\n",
    "3. Clustering differnt treaking routes in Nepal based on popularity amongst the treakers."
   ]
  },
  {
   "cell_type": "markdown",
   "id": "987bf988-618d-48f4-87a7-18e8040ffe7a",
   "metadata": {},
   "source": [
    "### Question 5\n",
    "\n",
    "What are the advantages and disadvantages of a very flexible (versus a less flexible) approach for regression or classification? \n",
    "\n",
    "Under what circumstances might a more flexible approach be preffered to a less flexible approach? \n",
    "\n",
    "When might a less flexible approach be preffered?"
   ]
  },
  {
   "cell_type": "markdown",
   "id": "d9cc93b9-6f6b-43de-ba5d-64325f3c2ce7",
   "metadata": {},
   "source": [
    "**Advantage**\n",
    "\n",
    "The flexible models have less bias as compared to less flexible models and makes better prediction given larger datasets.\n",
    "\n",
    "**Disadvantages:**\n",
    "\n",
    "But, flexible models are less interpretable than flexible ones. \n",
    "\n",
    "Risk of overfitting.\n",
    "\n",
    "Computationally demanding.\n",
    "\n",
    "**Circumstances where a more flexible approach be preffered to a less flexible approach?**\n",
    "\n",
    "1. large sample data sets and less predictors\n",
    "2. Non-linear relationship between predictor and response variable\n",
    "\n",
    "**Circumstances where a less flexible approach be preffered to a flexible approach?**\n",
    "1. When we are trying to make inference(to identify relationship between two variables)\n",
    "2. smaller sample size but larger predictors\n",
    "3. High variance of error terms.\n"
   ]
  },
  {
   "cell_type": "markdown",
   "id": "7ba8bc7f-0837-4143-be37-a345e3c65231",
   "metadata": {},
   "source": [
    "### Question 6\n",
    "\n",
    "Describe the difference between a parametric and a non-parametric statistical learning approach. What are the advantages of a parametric approach to regression or classification (as opposed to a non-parametric approach)? What are its disadvantages?"
   ]
  },
  {
   "cell_type": "markdown",
   "id": "d3ebda77-4f79-4e7d-a107-ce3d1a72f89a",
   "metadata": {},
   "source": [
    "**Parametric Model** are less flexible and make strong assumptions about the function form(like linear or polynomial).\n",
    "\n",
    "These models are simpler and interpretable.\n",
    "\n",
    "These models are less computationally intensive.\n",
    "\n",
    "**Parametric Models** are preferred when the sample is smaller. Also, if interpretability  is crucial.\n",
    "\n",
    "**Non Parametric Model** are flexible and hence make fewer assumptions about the shape of the function. \n",
    "\n",
    "These models are complex and less interpretable.\n",
    "\n",
    "These models are computationally intensive.\n",
    "\n",
    "\n",
    "**Non Parametric Models** are preferred when we have larger sample dataset with high number of predictors.\n"
   ]
  },
  {
   "cell_type": "markdown",
   "id": "e00d1d19-f27c-45dc-8be0-f7377bd21cde",
   "metadata": {},
   "source": [
    "**Parametric Model** are less flexible and make strong assumptions about the function form(like linear or polynomial).\n",
    "\n",
    "These models are simpler and interpretable.\n",
    "\n",
    "These models are less computationally intensive.\n",
    "\n",
    "The major disadvantage: As it makes assumption of the functional form, the model might not be able to capture pattern in the data adequately.\n",
    "\n",
    "**Parametric Models** are preferred when the sample is smaller. Also, if interpretability  is crucial.\n",
    "\n",
    "**Non Parametric Model** are flexible and hence make fewer assumptions about the shape of the function. \n",
    "\n",
    "These models are complex and less interpretable.\n",
    "\n",
    "These models are computationally intensive.\n",
    "\n",
    "\n",
    "**Non Parametric Models** are preferred when we have larger sample dataset with high number of predictors.\n"
   ]
  },
  {
   "attachments": {
    "a526d4ef-eda8-4f1b-b60d-0d1963a2f625.png": {
     "image/png": "[encoded data removed]"
    }
   },
   "cell_type": "markdown",
   "id": "94ddc2ff-8c6b-4bbb-bdc2-55f276820e93",
   "metadata": {},
   "source": [
    "### Question 7\n",
    "\n",
    "The table below provides a training data set contains six observations, three predictors, and one qualitative response variable.\n",
    "\n",
    "![image.png](attachment:a526d4ef-eda8-4f1b-b60d-0d1963a2f625.png)\n",
    "\n",
    "Suppose we wish to use this data set to make a prediction for Y when X<sub>1</sub> = X<sub>2</sub> = X<sub>3</sub> = 0 using k-nearest neighbour.\n"
   ]
  },
  {
   "cell_type": "markdown",
   "id": "4cb5c88f-580e-4827-82c7-af9eeb98fa53",
   "metadata": {},
   "source": [
    "**(a) Compute the Euclidean distance between each observation and the test point, X<sub>1</sub> = X<sub>2</sub> = X<sub>3</sub> = 0.**"
   ]
  },
  {
   "cell_type": "code",
   "execution_count": 2,
   "id": "a2162811-91bf-4d00-b326-889961acc481",
   "metadata": {},
   "outputs": [],
   "source": [
    "import numpy as np\n",
    "import pandas as pd"
   ]
  },
  {
   "cell_type": "code",
   "execution_count": 30,
   "id": "7b20a75f-df5f-4805-a7ce-6243453af41b",
   "metadata": {},
   "outputs": [],
   "source": [
    "df = pd.DataFrame({\n",
    "    'X1': pd.Series([0,2,0,0,-1,1]),\n",
    "    'X2': pd.Series([3,0,1,1,0,1]),\n",
    "    'X3': pd.Series([0,0,3,2,1,1]),\n",
    "    'Y': pd.Series(['Red','Red','Red','Green', 'Green', 'Red'])\n",
    "})\n",
    "df.index = np.arange(1,7)"
   ]
  },
  {
   "cell_type": "code",
   "execution_count": 31,
   "id": "6c50c976-1142-41f0-8d3b-8c58b698cb91",
   "metadata": {},
   "outputs": [],
   "source": [
    "df['euc_distance'] = np.sqrt(df['X1']**2+df['X2']**2+df['X3']**2)"
   ]
  },
  {
   "cell_type": "code",
   "execution_count": null,
   "id": "e509d5bd-ae93-421c-82a2-e5efc41634bc",
   "metadata": {},
   "outputs": [],
   "source": []
  },
  {
   "cell_type": "markdown",
   "id": "bcc982b4-f2f0-40ff-ae9c-0ce619cdd7d4",
   "metadata": {},
   "source": [
    "**(b) What is our prediction wuth k = 1? Why?**"
   ]
  },
  {
   "cell_type": "code",
   "execution_count": 33,
   "id": "51e5ca0d-f7b9-4630-8b04-64d94b1d69c9",
   "metadata": {},
   "outputs": [
    {
     "data": {
      "text/html": [
       "<div>\n",
       "<style scoped>\n",
       "    .dataframe tbody tr th:only-of-type {\n",
       "        vertical-align: middle;\n",
       "    }\n",
       "\n",
       "    .dataframe tbody tr th {\n",
       "        vertical-align: top;\n",
       "    }\n",
       "\n",
       "    .dataframe thead th {\n",
       "        text-align: right;\n",
       "    }\n",
       "</style>\n",
       "<table border=\"1\" class=\"dataframe\">\n",
       "  <thead>\n",
       "    <tr style=\"text-align: right;\">\n",
       "      <th></th>\n",
       "      <th>X1</th>\n",
       "      <th>X2</th>\n",
       "      <th>X3</th>\n",
       "      <th>Y</th>\n",
       "      <th>euc_distance</th>\n",
       "    </tr>\n",
       "  </thead>\n",
       "  <tbody>\n",
       "    <tr>\n",
       "      <th>5</th>\n",
       "      <td>-1</td>\n",
       "      <td>0</td>\n",
       "      <td>1</td>\n",
       "      <td>Green</td>\n",
       "      <td>1.414214</td>\n",
       "    </tr>\n",
       "    <tr>\n",
       "      <th>6</th>\n",
       "      <td>1</td>\n",
       "      <td>1</td>\n",
       "      <td>1</td>\n",
       "      <td>Red</td>\n",
       "      <td>1.732051</td>\n",
       "    </tr>\n",
       "    <tr>\n",
       "      <th>2</th>\n",
       "      <td>2</td>\n",
       "      <td>0</td>\n",
       "      <td>0</td>\n",
       "      <td>Red</td>\n",
       "      <td>2.000000</td>\n",
       "    </tr>\n",
       "    <tr>\n",
       "      <th>4</th>\n",
       "      <td>0</td>\n",
       "      <td>1</td>\n",
       "      <td>2</td>\n",
       "      <td>Green</td>\n",
       "      <td>2.236068</td>\n",
       "    </tr>\n",
       "    <tr>\n",
       "      <th>1</th>\n",
       "      <td>0</td>\n",
       "      <td>3</td>\n",
       "      <td>0</td>\n",
       "      <td>Red</td>\n",
       "      <td>3.000000</td>\n",
       "    </tr>\n",
       "    <tr>\n",
       "      <th>3</th>\n",
       "      <td>0</td>\n",
       "      <td>1</td>\n",
       "      <td>3</td>\n",
       "      <td>Red</td>\n",
       "      <td>3.162278</td>\n",
       "    </tr>\n",
       "  </tbody>\n",
       "</table>\n",
       "</div>"
      ],
      "text/plain": [
       "   X1  X2  X3      Y  euc_distance\n",
       "5  -1   0   1  Green      1.414214\n",
       "6   1   1   1    Red      1.732051\n",
       "2   2   0   0    Red      2.000000\n",
       "4   0   1   2  Green      2.236068\n",
       "1   0   3   0    Red      3.000000\n",
       "3   0   1   3    Red      3.162278"
      ]
     },
     "execution_count": 33,
     "metadata": {},
     "output_type": "execute_result"
    }
   ],
   "source": [
    "df.sort_values(by='euc_distance')"
   ]
  },
  {
   "cell_type": "markdown",
   "id": "2f4f7132-18f8-43d6-afe3-18fb62d432f6",
   "metadata": {},
   "source": [
    "For k=1, our prediction is Green. Green is the closest neighbour."
   ]
  },
  {
   "cell_type": "markdown",
   "id": "f8e6d7cb-e06e-4e90-9eac-2fc6ef28687c",
   "metadata": {},
   "source": [
    "**(c) What is our prediction with k = 3? Why?**\n",
    "\n",
    "For k = 3, We have three neighbours (Green, Red, Red). As the mode of Red is greater than of Green, our prediction will be Red."
   ]
  },
  {
   "cell_type": "markdown",
   "id": "2e7646cc-a2e8-4fcf-b2a4-c95d90ac99e3",
   "metadata": {},
   "source": [
    "**(d) If the Bayes decision boundary in this problem is highly non-linear, then would we expect the best value of K to be large or small? Why?**\n",
    "\n",
    "If the Bayes decision boundary in this problem is highly nonlinear, we would expect the best value for K in a K-Nearest Neighbors (K-NN) classifier to be small.\n",
    "\n",
    "A highly nonlinear decision boundary indicates a complex, irregular separation between classes. K-NN with a small K value can better capture these intricate patterns.\n",
    "\n",
    "Large K values tend to smooth out the decision boundary, making it more linear and less able to capture the nuances of a highly nonlinear Bayes decision boundary"
   ]
  },
  {
   "cell_type": "code",
   "execution_count": null,
   "id": "e110cb3a-06fe-4f91-bd79-ab0db4d68e2e",
   "metadata": {},
   "outputs": [],
   "source": []
  }
 ],
 "metadata": {
  "kernelspec": {
   "display_name": "Python 3 (ipykernel)",
   "language": "python",
   "name": "python3"
  },
  "language_info": {
   "codemirror_mode": {
    "name": "ipython",
    "version": 3
   },
   "file_extension": ".py",
   "mimetype": "text/x-python",
   "name": "python",
   "nbconvert_exporter": "python",
   "pygments_lexer": "ipython3",
   "version": "3.12.2"
  }
 },
 "nbformat": 4,
 "nbformat_minor": 5
}
