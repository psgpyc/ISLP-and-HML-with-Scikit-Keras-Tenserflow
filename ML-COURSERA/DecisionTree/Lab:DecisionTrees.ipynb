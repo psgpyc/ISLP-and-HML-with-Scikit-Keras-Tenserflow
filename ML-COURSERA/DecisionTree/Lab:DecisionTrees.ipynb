{
 "cells": [
  {
   "cell_type": "code",
   "execution_count": 1,
   "id": "1b36e6c2-30b6-4037-9d82-70333ae50428",
   "metadata": {},
   "outputs": [],
   "source": [
    "import numpy as np\n",
    "import pandas as pd\n",
    "import matplotlib.pyplot as plt"
   ]
  },
  {
   "cell_type": "markdown",
   "id": "eab0e3c0-3c80-46f8-acd7-b144aff96e9e",
   "metadata": {},
   "source": [
    "- `X_train`: for each example, contains 3 features:\n",
    "            - Ear Shape (1 if pointy, 0 otherwise)\n",
    "            - Face Shape (1 if round, 0 otherwise)\n",
    "            - Whiskers (1 if present, 0 otherwise)\n",
    "            \n",
    "- `y_train`: whether the animal is a cat\n",
    "            - 1 if the animal is a cat\n",
    "            - 0 otherwise"
   ]
  },
  {
   "cell_type": "code",
   "execution_count": 72,
   "id": "8714ba50-0ac8-4c45-a8c6-6506f799fb44",
   "metadata": {},
   "outputs": [],
   "source": [
    "X_train = np.array([[1, 1, 1],\n",
    "[0, 0, 1],\n",
    " [0, 1, 0],\n",
    " [1, 0, 1],\n",
    " [1, 1, 1],\n",
    " [1, 1, 0],\n",
    " [0, 0, 0],\n",
    " [1, 1, 0],\n",
    " [0, 1, 0],\n",
    " [0, 1, 0]])\n",
    "\n",
    "y_train = np.array([1, 1, 0, 0, 1, 1, 0, 1, 0, 0])"
   ]
  },
  {
   "cell_type": "code",
   "execution_count": 73,
   "id": "35c7e8de-f167-455e-89f2-7edb199a3b1a",
   "metadata": {},
   "outputs": [
    {
     "name": "stdout",
     "output_type": "stream",
     "text": [
      "1.0\n"
     ]
    }
   ],
   "source": [
    "def entropy(p):\n",
    "    if p == 0 or p == 1:\n",
    "        return 0\n",
    "    else:\n",
    "        return -p * np.log2(p) - (1- p)*np.log2(1 - p)\n",
    "    \n",
    "print(entropy(0.5))"
   ]
  },
  {
   "cell_type": "code",
   "execution_count": 85,
   "id": "33df6371-f0de-4f42-bb78-ca925cea82c0",
   "metadata": {},
   "outputs": [],
   "source": [
    "def split_features(X, index_features):\n",
    "    \"\"\"\n",
    "        Given a dataset and a index feature, return two lists for the two split nodes, \n",
    "        the left node has the animals with features = 1 and \n",
    "        the right has the animals with the feature = 0\n",
    "\n",
    "        index feature = 0 => ear shape\n",
    "        index feature = 1 => face shape\n",
    "        index feature = 2 => whisker shape\n",
    "    \n",
    "    \"\"\"\n",
    "    \n",
    "    left_indices = np.where(X[:, index_features] == 1)\n",
    "    right_indics = np.where(X[:, index_features] == 0)\n",
    "\n",
    "    return left_indices[0], right_indics[0]"
   ]
  },
  {
   "cell_type": "code",
   "execution_count": null,
   "id": "72550e97-f038-46ab-8715-a7b01c043c11",
   "metadata": {},
   "outputs": [],
   "source": [
    "\n",
    "        "
   ]
  },
  {
   "cell_type": "code",
   "execution_count": 86,
   "id": "2f256991-a0d8-47f2-b46e-1d499946d1fe",
   "metadata": {},
   "outputs": [],
   "source": [
    "def weighted_entropy(X,y,left_indices,right_indices):\n",
    "    \"\"\"\n",
    "    This function takes the splitted dataset, the indices we chose to split and returns the weighted entropy.\n",
    "    \"\"\"\n",
    "    w_left = len(left_indices)/len(X)\n",
    "    w_right = len(right_indices)/len(X)\n",
    "    p_left = sum(y[left_indices])/len(left_indices)\n",
    "    p_right = sum(y[right_indices])/len(right_indices)\n",
    "    \n",
    "    weighted_entropy = w_left * entropy(p_left) + w_right * entropy(p_right)\n",
    "    return weighted_entropy"
   ]
  },
  {
   "cell_type": "code",
   "execution_count": 87,
   "id": "24637bff-69f4-46d3-b3df-7d7ca4fb4c55",
   "metadata": {},
   "outputs": [
    {
     "data": {
      "text/plain": [
       "0.7219280948873623"
      ]
     },
     "execution_count": 87,
     "metadata": {},
     "output_type": "execute_result"
    }
   ],
   "source": [
    "left_indices, right_indices = split_features(X_train, 0)\n",
    "weighted_entropy(X_train, y_train, left_indices, right_indices)"
   ]
  },
  {
   "cell_type": "code",
   "execution_count": 95,
   "id": "189383e2-6432-4519-a23c-3c2a3aa25dd3",
   "metadata": {},
   "outputs": [],
   "source": [
    "def information_gain(X,y, left_indices, right_indices):\n",
    "    \"\"\"\n",
    "    Here, X has the elements in the node and y is theirs respectives classes\n",
    "    \"\"\"\n",
    "    p_node = np.sum(y)/len(y)\n",
    "    h_node = entropy(p_node)\n",
    "    w_entropy = weighted_entropy(X, y, left_indices, right_indices)\n",
    "    return h_node - w_entropy"
   ]
  },
  {
   "cell_type": "code",
   "execution_count": 96,
   "id": "71f35ba7-5677-4a0e-a710-e0e8041f8ccc",
   "metadata": {},
   "outputs": [
    {
     "data": {
      "text/plain": [
       "0.2780719051126377"
      ]
     },
     "execution_count": 96,
     "metadata": {},
     "output_type": "execute_result"
    }
   ],
   "source": [
    "information_gain(X_train, y_train, left_indices, right_indices)"
   ]
  },
  {
   "cell_type": "code",
   "execution_count": 104,
   "id": "d2a6012f-2752-4096-9f71-39f7b6ead643",
   "metadata": {},
   "outputs": [
    {
     "name": "stdout",
     "output_type": "stream",
     "text": [
      "Feature: Ear Shape, information gain if we split the root node using this feature: 0.28\n",
      "Feature: Face Shape, information gain if we split the root node using this feature: 0.03\n",
      "Feature: Whiskers, information gain if we split the root node using this feature: 0.12\n"
     ]
    }
   ],
   "source": [
    "gains = []\n",
    "features_set = ['Ear Shape', 'Face Shape', 'Whiskers']\n",
    "for i, feature_name in enumerate(features_set):\n",
    "    \n",
    "    left_indices, right_indices = split_indices(X_train, i)\n",
    "    i_gain = information_gain(X_train, y_train, left_indices, right_indices)\n",
    "    gains.append(i_gain)\n",
    "    print(f\"Feature: {feature_name}, information gain if we split the root node using this feature: {i_gain:.2f}\")\n",
    "    "
   ]
  },
  {
   "cell_type": "code",
   "execution_count": 105,
   "id": "7bfe29c7-cdb6-4401-bf12-b3eaf56faca7",
   "metadata": {},
   "outputs": [],
   "source": [
    "def select_node(list_gains):\n",
    "    index_of_max_i_gains = np.argmax(np.array(gains))\n",
    "    return [features_set[index_of_max_i_gains], gains[index_of_max_i_gains]]"
   ]
  },
  {
   "cell_type": "code",
   "execution_count": 106,
   "id": "b8ac0e1c-9375-4581-b539-d95b92c7af52",
   "metadata": {},
   "outputs": [
    {
     "data": {
      "text/plain": [
       "['Ear Shape', 0.2780719051126377]"
      ]
     },
     "execution_count": 106,
     "metadata": {},
     "output_type": "execute_result"
    }
   ],
   "source": [
    "select_node(gains)"
   ]
  },
  {
   "cell_type": "code",
   "execution_count": null,
   "id": "c7ac020e-e1a8-4bfe-8e49-595adfcef26b",
   "metadata": {},
   "outputs": [],
   "source": []
  }
 ],
 "metadata": {
  "kernelspec": {
   "display_name": "Python 3 (ipykernel)",
   "language": "python",
   "name": "python3"
  },
  "language_info": {
   "codemirror_mode": {
    "name": "ipython",
    "version": 3
   },
   "file_extension": ".py",
   "mimetype": "text/x-python",
   "name": "python",
   "nbconvert_exporter": "python",
   "pygments_lexer": "ipython3",
   "version": "3.10.13"
  }
 },
 "nbformat": 4,
 "nbformat_minor": 5
}
