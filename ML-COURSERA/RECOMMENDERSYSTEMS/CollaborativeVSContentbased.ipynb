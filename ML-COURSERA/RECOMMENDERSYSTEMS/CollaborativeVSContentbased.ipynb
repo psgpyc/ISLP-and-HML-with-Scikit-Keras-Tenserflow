{
 "cells": [
  {
   "cell_type": "markdown",
   "id": "6f60739f-dbda-432d-82a1-e9d3508078d3",
   "metadata": {},
   "source": [
    "## Collaborative Filtering vs. Content-based Filtering\n",
    "\n",
    "In **Collaborative Filtering**, the algorithm recommends items to the users based on ratings of users who gave similar ratings as the same user.\n",
    "\n",
    "In **content-based filtering** the algorithm recommends items to the user based on features of user and item to find a good match.\n",
    "\n",
    "Now, we will continue to use, \n",
    "\n",
    "$r(i,j) = 1, \\text{if user j has rated item i}$  \n",
    "$y^{(i,j)} = \\text{rating given by user j on item i}$\n",
    "\n",
    "The key idea behind content-based filtering is that we are going to make a good use of features of the items and the user to make prediction on what the user might like. "
   ]
  },
  {
   "cell_type": "markdown",
   "id": "81ca8ab1-0eca-4545-a2fe-a69ebb7f213a",
   "metadata": {},
   "source": [
    "## In case of movie recommendation example,\n",
    "\n",
    "\n",
    "We might have features of an user like,\n",
    "\n",
    "- Age\n",
    "- Gender\n",
    "- Country\n",
    "- Movies Watched\n",
    "- Avg. given ratings per genre\n",
    "We can come up with a user feature vector $X_u^{(j)}$\n",
    "\n",
    "Also, We might have features of movies, \n",
    "- Year of release\n",
    "- Genre/Genres\n",
    "- Reviews\n",
    "- Avg. ratings\n",
    "\n",
    "We can come up with a movie feature vector $X_m^{(i)}$\n"
   ]
  },
  {
   "cell_type": "markdown",
   "id": "39289116-eccf-4c4f-b63a-8318b8557e70",
   "metadata": {},
   "source": [
    "## We are going to predict weather a movie $i$ will be a good match for the user $j$"
   ]
  },
  {
   "cell_type": "markdown",
   "id": "a300ce80-b872-4606-b0fc-1ce2f9ab5f06",
   "metadata": {},
   "source": [
    "### Intuition"
   ]
  },
  {
   "cell_type": "markdown",
   "id": "a7599bbf-feea-4dc0-bfb5-5ccccac9a78a",
   "metadata": {},
   "source": [
    "Consider two vectors,\n",
    "\n",
    "$V_u^{(j)}$ computed from $X_u^{(j)}$  \n",
    "and  \n",
    "$V_m^{(i)}$ computed from $X_m^{(i)}$  \n",
    "\n",
    "\n",
    "These two vectors will capture the preference of the user and and the features of the movies.\n",
    "\n",
    "For example,\n",
    "\n",
    "$V_u^{(1)}$ can be an array of 30, with each element represents a floating point number which approximates the likeliness of a certain movie genre(user preferences).\n",
    "\n",
    "Also, \n",
    "$V_m^{(i)}$ is also a array of size 30(need to be as of same size to compute dot product) which captures the association of the movie with particular genre."
   ]
  },
  {
   "cell_type": "markdown",
   "id": "a03e36c1-806a-4b11-90ae-00371ac7e6d6",
   "metadata": {},
   "source": [
    "### The problem is how can we approximate $V_u^{(j)}$ from $X_u^{(j)}$  and $V_m^{(i)}$  from $X_m^{(i)}$  \n",
    "\n",
    "\n",
    "<img src=\"\""
   ]
  },
  {
   "cell_type": "code",
   "execution_count": null,
   "id": "e8cd3ead-98c0-4928-ab38-0e22cd5fd2ce",
   "metadata": {},
   "outputs": [],
   "source": []
  }
 ],
 "metadata": {
  "kernelspec": {
   "display_name": "Python 3 (ipykernel)",
   "language": "python",
   "name": "python3"
  },
  "language_info": {
   "codemirror_mode": {
    "name": "ipython",
    "version": 3
   },
   "file_extension": ".py",
   "mimetype": "text/x-python",
   "name": "python",
   "nbconvert_exporter": "python",
   "pygments_lexer": "ipython3",
   "version": "3.10.13"
  }
 },
 "nbformat": 4,
 "nbformat_minor": 5
}
