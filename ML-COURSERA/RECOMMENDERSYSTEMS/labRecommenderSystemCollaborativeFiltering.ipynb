{
 "cells": [
  {
   "cell_type": "code",
   "execution_count": 80,
   "id": "0b1d0ce9-69aa-460c-bdc8-459ad605a337",
   "metadata": {},
   "outputs": [],
   "source": [
    "import matplotlib.pyplot as plt"
   ]
  },
  {
   "cell_type": "code",
   "execution_count": 81,
   "id": "bc8b24a4-f699-44f9-8f21-e47de1a1d1b5",
   "metadata": {},
   "outputs": [],
   "source": [
    "import numpy as np\n",
    "import pandas as pd\n",
    "import tensorflow as tf\n",
    "from tensorflow import keras"
   ]
  },
  {
   "cell_type": "markdown",
   "id": "b2114862-9fab-41ed-ab2d-dde3eacf1a26",
   "metadata": {},
   "source": [
    " $r(i,j)$ scalar; = 1;  if user j rated movie i  = 0  otherwise             \n",
    "$y(i,j)$ scalar; = rating given by user j on movie  i    (if r(i,j) = 1 is defined)   \n",
    "$\\mathbf{w}^{(j)}$vector; parameters for user j  \n",
    "$b^{(j)}$ scalar; parameter for user j    \n",
    "$\\mathbf{x}^{(i)}$ vector; feature ratings for movie i          \n",
    "$n_u$ number of users  \n",
    "$n_m$ number of movies    \n",
    "$n$ number of features   \n",
    "$\\mathbf{X}$ matrix of vectors $\\mathbf{x}^{(i)}$         \n",
    "$\\mathbf{W}$ matrix of vectors $\\mathbf{w}^{(j)}$         \n",
    "$\\mathbf{b}$ vector of bias parameters $b^{(j)}$   \n",
    "$\\mathbf{R}$ matrix of elements $r(i,j)$                  "
   ]
  },
  {
   "cell_type": "markdown",
   "id": "2e5d816d-a304-4c28-816a-812c0ae430ed",
   "metadata": {},
   "source": [
    "## Recommender Systems\n",
    "The goal of a collaborative filtering recommender system is to generate two vectors: For each user, a 'parameter vector' that embodies the movie rastes of a user.\n",
    "For each movie, a feature vector of the same size which embodies some description of the movie. \n",
    "\n",
    "The dot product of the two vectors plus the bias term should produce an estimate of the rating the user might give to that movie."
   ]
  },
  {
   "cell_type": "markdown",
   "id": "c628bc8f-af23-4937-add9-97c91972c67d",
   "metadata": {},
   "source": [
    "### Importing dataset"
   ]
  },
  {
   "cell_type": "code",
   "execution_count": 82,
   "id": "331e6329-dcce-4158-a910-e40a6771222c",
   "metadata": {},
   "outputs": [],
   "source": [
    "df = pd.read_csv('./dataset/ml-latest-small/ratings.csv')"
   ]
  },
  {
   "cell_type": "code",
   "execution_count": 83,
   "id": "3aae86fb-ac5a-4fee-9740-e70f36af59f9",
   "metadata": {},
   "outputs": [
    {
     "data": {
      "text/html": [
       "<div>\n",
       "<style scoped>\n",
       "    .dataframe tbody tr th:only-of-type {\n",
       "        vertical-align: middle;\n",
       "    }\n",
       "\n",
       "    .dataframe tbody tr th {\n",
       "        vertical-align: top;\n",
       "    }\n",
       "\n",
       "    .dataframe thead th {\n",
       "        text-align: right;\n",
       "    }\n",
       "</style>\n",
       "<table border=\"1\" class=\"dataframe\">\n",
       "  <thead>\n",
       "    <tr style=\"text-align: right;\">\n",
       "      <th></th>\n",
       "      <th>userId</th>\n",
       "      <th>movieId</th>\n",
       "      <th>rating</th>\n",
       "      <th>timestamp</th>\n",
       "    </tr>\n",
       "  </thead>\n",
       "  <tbody>\n",
       "    <tr>\n",
       "      <th>0</th>\n",
       "      <td>1</td>\n",
       "      <td>1</td>\n",
       "      <td>4.0</td>\n",
       "      <td>964982703</td>\n",
       "    </tr>\n",
       "    <tr>\n",
       "      <th>1</th>\n",
       "      <td>1</td>\n",
       "      <td>3</td>\n",
       "      <td>4.0</td>\n",
       "      <td>964981247</td>\n",
       "    </tr>\n",
       "    <tr>\n",
       "      <th>2</th>\n",
       "      <td>1</td>\n",
       "      <td>6</td>\n",
       "      <td>4.0</td>\n",
       "      <td>964982224</td>\n",
       "    </tr>\n",
       "    <tr>\n",
       "      <th>3</th>\n",
       "      <td>1</td>\n",
       "      <td>47</td>\n",
       "      <td>5.0</td>\n",
       "      <td>964983815</td>\n",
       "    </tr>\n",
       "    <tr>\n",
       "      <th>4</th>\n",
       "      <td>1</td>\n",
       "      <td>50</td>\n",
       "      <td>5.0</td>\n",
       "      <td>964982931</td>\n",
       "    </tr>\n",
       "  </tbody>\n",
       "</table>\n",
       "</div>"
      ],
      "text/plain": [
       "   userId  movieId  rating  timestamp\n",
       "0       1        1     4.0  964982703\n",
       "1       1        3     4.0  964981247\n",
       "2       1        6     4.0  964982224\n",
       "3       1       47     5.0  964983815\n",
       "4       1       50     5.0  964982931"
      ]
     },
     "execution_count": 83,
     "metadata": {},
     "output_type": "execute_result"
    }
   ],
   "source": [
    "df.head()"
   ]
  },
  {
   "cell_type": "code",
   "execution_count": 84,
   "id": "3df4ce6d-e0c1-4231-9610-dd2e144ee0a9",
   "metadata": {},
   "outputs": [],
   "source": [
    "# get the total number of unique movies\n",
    "movie_rows = len(df['movieId'].unique())"
   ]
  },
  {
   "cell_type": "code",
   "execution_count": 85,
   "id": "14f30504-baab-4561-980f-433fca864f72",
   "metadata": {},
   "outputs": [],
   "source": [
    "# list to add ratings by each user for a particular movie\n",
    "lst = []"
   ]
  },
  {
   "cell_type": "code",
   "execution_count": 86,
   "id": "e3b5f8f4-c0a7-45c0-b382-472e8914735b",
   "metadata": {},
   "outputs": [
    {
     "data": {
      "text/html": [
       "<div>\n",
       "<style scoped>\n",
       "    .dataframe tbody tr th:only-of-type {\n",
       "        vertical-align: middle;\n",
       "    }\n",
       "\n",
       "    .dataframe tbody tr th {\n",
       "        vertical-align: top;\n",
       "    }\n",
       "\n",
       "    .dataframe thead th {\n",
       "        text-align: right;\n",
       "    }\n",
       "</style>\n",
       "<table border=\"1\" class=\"dataframe\">\n",
       "  <thead>\n",
       "    <tr style=\"text-align: right;\">\n",
       "      <th></th>\n",
       "      <th>userId</th>\n",
       "      <th>movieId</th>\n",
       "      <th>rating</th>\n",
       "      <th>timestamp</th>\n",
       "    </tr>\n",
       "  </thead>\n",
       "  <tbody>\n",
       "    <tr>\n",
       "      <th>0</th>\n",
       "      <td>1</td>\n",
       "      <td>1</td>\n",
       "      <td>4.0</td>\n",
       "      <td>964982703</td>\n",
       "    </tr>\n",
       "    <tr>\n",
       "      <th>1</th>\n",
       "      <td>1</td>\n",
       "      <td>3</td>\n",
       "      <td>4.0</td>\n",
       "      <td>964981247</td>\n",
       "    </tr>\n",
       "    <tr>\n",
       "      <th>2</th>\n",
       "      <td>1</td>\n",
       "      <td>6</td>\n",
       "      <td>4.0</td>\n",
       "      <td>964982224</td>\n",
       "    </tr>\n",
       "    <tr>\n",
       "      <th>3</th>\n",
       "      <td>1</td>\n",
       "      <td>47</td>\n",
       "      <td>5.0</td>\n",
       "      <td>964983815</td>\n",
       "    </tr>\n",
       "    <tr>\n",
       "      <th>4</th>\n",
       "      <td>1</td>\n",
       "      <td>50</td>\n",
       "      <td>5.0</td>\n",
       "      <td>964982931</td>\n",
       "    </tr>\n",
       "  </tbody>\n",
       "</table>\n",
       "</div>"
      ],
      "text/plain": [
       "   userId  movieId  rating  timestamp\n",
       "0       1        1     4.0  964982703\n",
       "1       1        3     4.0  964981247\n",
       "2       1        6     4.0  964982224\n",
       "3       1       47     5.0  964983815\n",
       "4       1       50     5.0  964982931"
      ]
     },
     "execution_count": 86,
     "metadata": {},
     "output_type": "execute_result"
    }
   ],
   "source": [
    "df = pd.read_csv(\"./dataset/ml-latest-small/ratings.csv\")\n",
    "df.head()"
   ]
  },
  {
   "cell_type": "markdown",
   "id": "9d54d449-380a-4c25-9ff1-6d9954d535b0",
   "metadata": {},
   "source": [
    "The matrix $Y$ (a  $n_m \\times n_u$ matrix) stores the ratings $y^{(i,j)}$. The matrix $R$ is an binary-valued indicator matrix, where $R(i,j) = 1$ if user $j$ gave a rating to movie $i$, and $R(i,j)=0$ otherwise. "
   ]
  },
  {
   "cell_type": "code",
   "execution_count": 87,
   "id": "da3d0d47-db99-4ccc-ac8b-ec0494c76ccf",
   "metadata": {},
   "outputs": [
    {
     "name": "stdout",
     "output_type": "stream",
     "text": [
      "Total numbers of movies: 9724\n",
      "Total numbers of users: 610\n"
     ]
    }
   ],
   "source": [
    "nm = len(df['movieId'].unique())   #number of movies\n",
    "print(f\"Total numbers of movies: {nm}\")\n",
    "nu = len(df['userId'].unique())  #number of users\n",
    "print(f\"Total numbers of users: {nu}\")"
   ]
  },
  {
   "cell_type": "code",
   "execution_count": 88,
   "id": "6b00fff9-56b3-42ea-81d4-76bbbca5e997",
   "metadata": {},
   "outputs": [],
   "source": [
    "# rating for each movies by each user, 0 if no ratings\n",
    "Y = df.pivot(index='movieId', columns='userId', values='rating').fillna(0).to_numpy()"
   ]
  },
  {
   "cell_type": "code",
   "execution_count": 89,
   "id": "05366b8f-c709-4c64-9136-745d5f642d4f",
   "metadata": {},
   "outputs": [],
   "source": [
    "# Creating an R matirx which contains 1 if there is a rating and 0 else\n",
    "R = Y.copy()\n",
    "R[R != 0] = 1"
   ]
  },
  {
   "cell_type": "markdown",
   "id": "25a0c7f9-5dbe-4b41-9b29-51b47b7ac779",
   "metadata": {},
   "source": [
    "### 4.1 Collaborative filtering cost function\n",
    "\n",
    "The collaborative filtering cost function is given by\n",
    "$$J({\\mathbf{x}^{(0)},...,\\mathbf{x}^{(n_m-1)},\\mathbf{w}^{(0)},b^{(0)},...,\\mathbf{w}^{(n_u-1)},b^{(n_u-1)}})= \\left[ \\frac{1}{2}\\sum_{(i,j):r(i,j)=1}(\\mathbf{w}^{(j)} \\cdot \\mathbf{x}^{(i)} + b^{(j)} - y^{(i,j)})^2 \\right]\n",
    "+ \\underbrace{\\left[\n",
    "\\frac{\\lambda}{2}\n",
    "\\sum_{j=0}^{n_u-1}\\sum_{k=0}^{n-1}(\\mathbf{w}^{(j)}_k)^2\n",
    "+ \\frac{\\lambda}{2}\\sum_{i=0}^{n_m-1}\\sum_{k=0}^{n-1}(\\mathbf{x}_k^{(i)})^2\n",
    "\\right]}_{regularization}\n",
    "\\tag{1}$$\n",
    "The first summation in (1) is \"for all $i$, $j$ where $r(i,j)$ equals $1$\" and could be written:\n",
    "\n",
    "$$\n",
    "= \\left[ \\frac{1}{2}\\sum_{j=0}^{n_u-1} \\sum_{i=0}^{n_m-1}r(i,j)*(\\mathbf{w}^{(j)} \\cdot \\mathbf{x}^{(i)} + b^{(j)} - y^{(i,j)})^2 \\right]\n",
    "+\\text{regularization}\n",
    "$$\n",
    "\n",
    "You should now write cofiCostFunc (collaborative filtering cost function) to return this cost."
   ]
  },
  {
   "cell_type": "code",
   "execution_count": 90,
   "id": "e23aa647-1348-4f08-93f5-9ba73a0ceded",
   "metadata": {},
   "outputs": [],
   "source": [
    "## non-vectorised implementation\n",
    "\n",
    "def cofi_cost_func(X, W, b, Y, R, lambda_):\n",
    "    \"\"\"\n",
    "    Returns the cost for the content-based filtering\n",
    "    Args:\n",
    "      X (ndarray (num_movies,num_features)): matrix of item features\n",
    "      W (ndarray (num_users,num_features)) : matrix of user parameters\n",
    "      b (ndarray (1, num_users)            : vector of user parameters\n",
    "      Y (ndarray (num_movies,num_users)    : matrix of user ratings of movies\n",
    "      R (ndarray (num_movies,num_users)    : matrix, where R(i, j) = 1 if the i-th movies was rated by the j-th user\n",
    "      lambda_ (float): regularization parameter\n",
    "    Returns:\n",
    "      J (float) : Cost\n",
    "    \"\"\"\n",
    "    nm, nu = Y.shape\n",
    "    J = 0\n",
    "    regularised_parameter = 0\n",
    "    regularised_feature = 0\n",
    "    ### START CODE HERE ###\n",
    "    for user_ in range(nu):\n",
    "        user_cost = 0\n",
    "        regualrized_parameter_user = 0\n",
    "        \n",
    "        for movie_ in range(nm):\n",
    "            \n",
    "            user_cost += R[movie_, user_] * np.square(((np.dot(W[user_] , X[movie_]) + b[0][user_]) - (Y[movie_, user_])))\n",
    "           \n",
    "            \n",
    "        for parameter_ in range(len(W[user_])):    \n",
    "            regualrized_parameter_user += np.square(W[user_][parameter_])\n",
    "            \n",
    "        J += user_cost\n",
    "        \n",
    "        regularised_parameter += regualrized_parameter_user\n",
    "    \n",
    "        \n",
    "        \n",
    "        \n",
    "    for feature_ in range(nm):    \n",
    "        regularised_feature_movie = np.sum(np.square(X[feature_]))\n",
    "        regularised_feature += regularised_feature_movie\n",
    "              \n",
    "    \n",
    "    ### END CODE HERE ### \n",
    "    total_cost = J/2 + ((lambda_/2) * regularised_parameter) + ((lambda_/2) * regularised_feature)\n",
    "\n",
    "    return total_cost "
   ]
  },
  {
   "cell_type": "code",
   "execution_count": 100,
   "id": "789c3ef5-3c2a-4d45-b8b2-9931e7d73046",
   "metadata": {},
   "outputs": [],
   "source": [
    "def cofi_cost_func_v(X, W, b, Y, R, lambda_):\n",
    "    \"\"\"\n",
    "    Returns the cost for the content-based filtering\n",
    "    Vectorized for speed. Uses tensorflow operations to be compatible with custom training loop.\n",
    "    Args:\n",
    "      X (ndarray (num_movies,num_features)): matrix of item features\n",
    "      W (ndarray (num_users,num_features)) : matrix of user parameters\n",
    "      b (ndarray (1, num_users)            : vector of user parameters\n",
    "      Y (ndarray (num_movies,num_users)    : matrix of user ratings of movies\n",
    "      R (ndarray (num_movies,num_users)    : matrix, where R(i, j) = 1 if the i-th movies was rated by the j-th user\n",
    "      lambda_ (float): regularization parameter\n",
    "    Returns:\n",
    "      J (float) : Cost\n",
    "    \"\"\"\n",
    "    # cost=np.sum((np.sum(np.square(np.matmul(X, W.T) + b - Y)  * R, axis = 0 )) ) * 0.5\n",
    "    # w_regular = (np.sum(np.square(W))) * (lambda_/2)\n",
    "    # feature_regular = np.sum(np.square(X)) * (lambda_/2)\n",
    "    \n",
    "    # total_cost = cost+w_regular+feature_regular\n",
    "    j = (tf.linalg.matmul(X, tf.transpose(W)) + b - Y)*R\n",
    "    J = 0.5 * tf.reduce_sum(j**2) + (lambda_/2) * (tf.reduce_sum(X**2) + tf.reduce_sum(W**2))\n",
    "    return J\n",
    "    "
   ]
  },
  {
   "cell_type": "markdown",
   "id": "11d22ff8-d136-4516-9b46-c1020d71f17c",
   "metadata": {},
   "source": [
    "### Set Initial Parameters (W, X), use tf.Variable to track these variables"
   ]
  },
  {
   "cell_type": "code",
   "execution_count": 122,
   "id": "c0012c06-2800-4264-9cd4-6213cb1d074d",
   "metadata": {},
   "outputs": [],
   "source": [
    "num_features = 60"
   ]
  },
  {
   "cell_type": "code",
   "execution_count": 123,
   "id": "609bc927-35ac-457f-b3b2-f3fa9356b928",
   "metadata": {},
   "outputs": [],
   "source": [
    "W = tf.Variable(tf.random.normal((nu, num_features), dtype=tf.float64), name='W')\n",
    "X = tf.Variable(tf.random.normal((nm, num_features), dtype=tf.float64), name='X')\n",
    "b = tf.Variable(tf.random.normal((1, nu), dtype=tf.float64), name='b')\n"
   ]
  },
  {
   "cell_type": "markdown",
   "id": "2cc589cd-f49b-4dc6-be08-3e5eb7f517a1",
   "metadata": {},
   "source": [
    "### Initialize an optimizer"
   ]
  },
  {
   "cell_type": "code",
   "execution_count": 124,
   "id": "1bf7d3c0-4025-4569-9735-8cd22e73f362",
   "metadata": {},
   "outputs": [],
   "source": [
    "optimizer = keras.optimizers.Adam(learning_rate=1e-1)"
   ]
  },
  {
   "cell_type": "markdown",
   "id": "a3a97d83-e832-4b4f-a6ed-e2e90259ea80",
   "metadata": {},
   "source": [
    "Let's now train the collaborative filtering model. This will learn the parameters $\\mathbf{X}$, $\\mathbf{W}$, and $\\mathbf{b}$.   \n",
    "  \n",
    "The operations involved in learning $w$, $b$, and $x$ simultaneously do not fall into the typical 'layers' offered in the TensorFlow neural network package.  Consequently, the flow used in Course 2: Model, Compile(), Fit(), Predict(), are not directly applicable. Instead, we can use a custom training loop.\n",
    "\n",
    "Recall from earlier labs the steps of gradient descent.\n",
    "- repeat until convergence:\n",
    "    - compute forward pass\n",
    "    - compute the derivatives of the loss relative to parameters\n",
    "    - update the parameters using the learning rate and the computed derivatives \n",
    "    \n",
    "TensorFlow has the marvelous capability of calculating the derivatives for you. This is shown below. Within the `tf.GradientTape()` section, operations on Tensorflow Variables are tracked. When `tape.gradient()` is later called, it will return the gradient of the loss relative to the tracked variables. The gradients can then be applied to the parameters using an optimizer. \n",
    "This is a very brief introduction to a useful feature of TensorFlow and other machine learning frameworks. Further information can be found by investigating \"custom training loops\" within the framework of interest.\n",
    "    \n"
   ]
  },
  {
   "cell_type": "code",
   "execution_count": 125,
   "id": "3c183e80-a992-4af3-ba82-ae8096018712",
   "metadata": {},
   "outputs": [
    {
     "name": "stdout",
     "output_type": "stream",
     "text": [
      "Training loss at iteration 0: 4038446.9\n",
      "Training loss at iteration 20: 197402.6\n",
      "Training loss at iteration 40: 78547.1\n",
      "Training loss at iteration 60: 41028.4\n",
      "Training loss at iteration 80: 25528.0\n",
      "Training loss at iteration 100: 18080.1\n",
      "Training loss at iteration 120: 14066.8\n",
      "Training loss at iteration 140: 11720.1\n",
      "Training loss at iteration 160: 10253.1\n",
      "Training loss at iteration 180: 9276.8\n",
      "Training loss at iteration 200: 8588.6\n",
      "Training loss at iteration 220: 8078.3\n",
      "Training loss at iteration 240: 7682.7\n",
      "Training loss at iteration 260: 7364.0\n",
      "Training loss at iteration 280: 7098.7\n",
      "Training loss at iteration 300: 6872.5\n",
      "Training loss at iteration 320: 6675.7\n",
      "Training loss at iteration 340: 6502.0\n",
      "Training loss at iteration 360: 6347.1\n",
      "Training loss at iteration 380: 6207.6\n",
      "Training loss at iteration 400: 6081.3\n",
      "Training loss at iteration 420: 5966.5\n",
      "Training loss at iteration 440: 5861.7\n",
      "Training loss at iteration 460: 5765.9\n",
      "Training loss at iteration 480: 5678.2\n",
      "Training loss at iteration 500: 5597.9\n",
      "Training loss at iteration 520: 5523.8\n",
      "Training loss at iteration 540: 5456.0\n",
      "Training loss at iteration 560: 5394.0\n",
      "Training loss at iteration 580: 5337.0\n",
      "Training loss at iteration 600: 5285.1\n",
      "Training loss at iteration 620: 5237.8\n",
      "Training loss at iteration 640: 5194.8\n",
      "Training loss at iteration 660: 5155.7\n",
      "Training loss at iteration 680: 5120.5\n",
      "Training loss at iteration 700: 5088.9\n",
      "Training loss at iteration 720: 5060.5\n",
      "Training loss at iteration 740: 5035.5\n",
      "Training loss at iteration 760: 5013.4\n",
      "Training loss at iteration 780: 4993.8\n",
      "Training loss at iteration 800: 4976.6\n",
      "Training loss at iteration 820: 4961.0\n",
      "Training loss at iteration 840: 4947.8\n",
      "Training loss at iteration 860: 4936.2\n",
      "Training loss at iteration 880: 4926.0\n",
      "Training loss at iteration 900: 4916.8\n",
      "Training loss at iteration 920: 4908.4\n",
      "Training loss at iteration 940: 4901.6\n",
      "Training loss at iteration 960: 4894.7\n",
      "Training loss at iteration 980: 4889.0\n"
     ]
    }
   ],
   "source": [
    "iterations = 1000\n",
    "lambda_ = 1\n",
    "\n",
    "for iter in range(iterations):\n",
    "    with tf.GradientTape() as tape:\n",
    "        cost_value = cofi_cost_func_v(X, W, b, Y, R, lambda_)\n",
    "    grads = tape.gradient(cost_value, [X, W, b])\n",
    "    optimizer.apply_gradients(zip(grads, [X,W,b]))\n",
    "\n",
    "    # Log periodically.\n",
    "    if iter % 20 == 0:\n",
    "        print(f\"Training loss at iteration {iter}: {cost_value:0.1f}\")"
   ]
  },
  {
   "cell_type": "code",
   "execution_count": 127,
   "id": "92c90381-f17e-45ca-a24b-105b0f5baf4c",
   "metadata": {},
   "outputs": [],
   "source": [
    "X = X.numpy()"
   ]
  },
  {
   "cell_type": "code",
   "execution_count": 128,
   "id": "6e5d2bab-c9ec-4f0d-8bbd-a8711dc46bcc",
   "metadata": {},
   "outputs": [],
   "source": [
    "W = W.numpy()"
   ]
  },
  {
   "cell_type": "code",
   "execution_count": 129,
   "id": "8ac56794-8416-4612-ac91-92da59d1ecd7",
   "metadata": {},
   "outputs": [],
   "source": [
    "b = b.numpy()"
   ]
  },
  {
   "cell_type": "code",
   "execution_count": 133,
   "id": "edb9e7bc-8a14-4a47-9612-77343a9e2c0d",
   "metadata": {},
   "outputs": [
    {
     "data": {
      "text/html": [
       "<div>\n",
       "<style scoped>\n",
       "    .dataframe tbody tr th:only-of-type {\n",
       "        vertical-align: middle;\n",
       "    }\n",
       "\n",
       "    .dataframe tbody tr th {\n",
       "        vertical-align: top;\n",
       "    }\n",
       "\n",
       "    .dataframe thead th {\n",
       "        text-align: right;\n",
       "    }\n",
       "</style>\n",
       "<table border=\"1\" class=\"dataframe\">\n",
       "  <thead>\n",
       "    <tr style=\"text-align: right;\">\n",
       "      <th></th>\n",
       "      <th>userId</th>\n",
       "      <th>movieId</th>\n",
       "      <th>rating</th>\n",
       "      <th>timestamp</th>\n",
       "    </tr>\n",
       "  </thead>\n",
       "  <tbody>\n",
       "    <tr>\n",
       "      <th>0</th>\n",
       "      <td>1</td>\n",
       "      <td>1</td>\n",
       "      <td>4.0</td>\n",
       "      <td>964982703</td>\n",
       "    </tr>\n",
       "    <tr>\n",
       "      <th>1</th>\n",
       "      <td>1</td>\n",
       "      <td>3</td>\n",
       "      <td>4.0</td>\n",
       "      <td>964981247</td>\n",
       "    </tr>\n",
       "    <tr>\n",
       "      <th>2</th>\n",
       "      <td>1</td>\n",
       "      <td>6</td>\n",
       "      <td>4.0</td>\n",
       "      <td>964982224</td>\n",
       "    </tr>\n",
       "    <tr>\n",
       "      <th>3</th>\n",
       "      <td>1</td>\n",
       "      <td>47</td>\n",
       "      <td>5.0</td>\n",
       "      <td>964983815</td>\n",
       "    </tr>\n",
       "    <tr>\n",
       "      <th>4</th>\n",
       "      <td>1</td>\n",
       "      <td>50</td>\n",
       "      <td>5.0</td>\n",
       "      <td>964982931</td>\n",
       "    </tr>\n",
       "  </tbody>\n",
       "</table>\n",
       "</div>"
      ],
      "text/plain": [
       "   userId  movieId  rating  timestamp\n",
       "0       1        1     4.0  964982703\n",
       "1       1        3     4.0  964981247\n",
       "2       1        6     4.0  964982224\n",
       "3       1       47     5.0  964983815\n",
       "4       1       50     5.0  964982931"
      ]
     },
     "execution_count": 133,
     "metadata": {},
     "output_type": "execute_result"
    }
   ],
   "source": [
    "df.head()"
   ]
  },
  {
   "cell_type": "code",
   "execution_count": 150,
   "id": "4f6f31ad-05b1-4b51-9eec-c97ed305ec7f",
   "metadata": {},
   "outputs": [],
   "source": [
    "movie_rating_df = df.groupby('movieId')[['rating']].mean()"
   ]
  },
  {
   "cell_type": "code",
   "execution_count": 151,
   "id": "c873fe92-0508-4c61-9d43-be695d9ad025",
   "metadata": {},
   "outputs": [
    {
     "data": {
      "text/html": [
       "<div>\n",
       "<style scoped>\n",
       "    .dataframe tbody tr th:only-of-type {\n",
       "        vertical-align: middle;\n",
       "    }\n",
       "\n",
       "    .dataframe tbody tr th {\n",
       "        vertical-align: top;\n",
       "    }\n",
       "\n",
       "    .dataframe thead th {\n",
       "        text-align: right;\n",
       "    }\n",
       "</style>\n",
       "<table border=\"1\" class=\"dataframe\">\n",
       "  <thead>\n",
       "    <tr style=\"text-align: right;\">\n",
       "      <th></th>\n",
       "      <th>rating</th>\n",
       "    </tr>\n",
       "    <tr>\n",
       "      <th>movieId</th>\n",
       "      <th></th>\n",
       "    </tr>\n",
       "  </thead>\n",
       "  <tbody>\n",
       "    <tr>\n",
       "      <th>1</th>\n",
       "      <td>3.920930</td>\n",
       "    </tr>\n",
       "    <tr>\n",
       "      <th>2</th>\n",
       "      <td>3.431818</td>\n",
       "    </tr>\n",
       "    <tr>\n",
       "      <th>3</th>\n",
       "      <td>3.259615</td>\n",
       "    </tr>\n",
       "    <tr>\n",
       "      <th>4</th>\n",
       "      <td>2.357143</td>\n",
       "    </tr>\n",
       "    <tr>\n",
       "      <th>5</th>\n",
       "      <td>3.071429</td>\n",
       "    </tr>\n",
       "    <tr>\n",
       "      <th>...</th>\n",
       "      <td>...</td>\n",
       "    </tr>\n",
       "    <tr>\n",
       "      <th>193581</th>\n",
       "      <td>4.000000</td>\n",
       "    </tr>\n",
       "    <tr>\n",
       "      <th>193583</th>\n",
       "      <td>3.500000</td>\n",
       "    </tr>\n",
       "    <tr>\n",
       "      <th>193585</th>\n",
       "      <td>3.500000</td>\n",
       "    </tr>\n",
       "    <tr>\n",
       "      <th>193587</th>\n",
       "      <td>3.500000</td>\n",
       "    </tr>\n",
       "    <tr>\n",
       "      <th>193609</th>\n",
       "      <td>4.000000</td>\n",
       "    </tr>\n",
       "  </tbody>\n",
       "</table>\n",
       "<p>9724 rows × 1 columns</p>\n",
       "</div>"
      ],
      "text/plain": [
       "           rating\n",
       "movieId          \n",
       "1        3.920930\n",
       "2        3.431818\n",
       "3        3.259615\n",
       "4        2.357143\n",
       "5        3.071429\n",
       "...           ...\n",
       "193581   4.000000\n",
       "193583   3.500000\n",
       "193585   3.500000\n",
       "193587   3.500000\n",
       "193609   4.000000\n",
       "\n",
       "[9724 rows x 1 columns]"
      ]
     },
     "execution_count": 151,
     "metadata": {},
     "output_type": "execute_result"
    }
   ],
   "source": [
    "movie_rating_df"
   ]
  },
  {
   "cell_type": "code",
   "execution_count": 152,
   "id": "6491cd20-6383-491d-a251-40fa4e64e805",
   "metadata": {},
   "outputs": [],
   "source": [
    "movie_rating_df['predicted_mean_rating'] = np.mean(np.dot(X, W.T) + b, axis=1)"
   ]
  },
  {
   "cell_type": "code",
   "execution_count": 153,
   "id": "b1e0d44c-c07a-41aa-bcf0-b3505216155f",
   "metadata": {},
   "outputs": [
    {
     "data": {
      "text/html": [
       "<div>\n",
       "<style scoped>\n",
       "    .dataframe tbody tr th:only-of-type {\n",
       "        vertical-align: middle;\n",
       "    }\n",
       "\n",
       "    .dataframe tbody tr th {\n",
       "        vertical-align: top;\n",
       "    }\n",
       "\n",
       "    .dataframe thead th {\n",
       "        text-align: right;\n",
       "    }\n",
       "</style>\n",
       "<table border=\"1\" class=\"dataframe\">\n",
       "  <thead>\n",
       "    <tr style=\"text-align: right;\">\n",
       "      <th></th>\n",
       "      <th>rating</th>\n",
       "      <th>predicted_mean_rating</th>\n",
       "    </tr>\n",
       "    <tr>\n",
       "      <th>movieId</th>\n",
       "      <th></th>\n",
       "      <th></th>\n",
       "    </tr>\n",
       "  </thead>\n",
       "  <tbody>\n",
       "    <tr>\n",
       "      <th>1</th>\n",
       "      <td>3.920930</td>\n",
       "      <td>3.807059</td>\n",
       "    </tr>\n",
       "    <tr>\n",
       "      <th>2</th>\n",
       "      <td>3.431818</td>\n",
       "      <td>3.580240</td>\n",
       "    </tr>\n",
       "    <tr>\n",
       "      <th>3</th>\n",
       "      <td>3.259615</td>\n",
       "      <td>3.482260</td>\n",
       "    </tr>\n",
       "    <tr>\n",
       "      <th>4</th>\n",
       "      <td>2.357143</td>\n",
       "      <td>3.398358</td>\n",
       "    </tr>\n",
       "    <tr>\n",
       "      <th>5</th>\n",
       "      <td>3.071429</td>\n",
       "      <td>3.248326</td>\n",
       "    </tr>\n",
       "    <tr>\n",
       "      <th>...</th>\n",
       "      <td>...</td>\n",
       "      <td>...</td>\n",
       "    </tr>\n",
       "    <tr>\n",
       "      <th>193581</th>\n",
       "      <td>4.000000</td>\n",
       "      <td>3.528741</td>\n",
       "    </tr>\n",
       "    <tr>\n",
       "      <th>193583</th>\n",
       "      <td>3.500000</td>\n",
       "      <td>3.491724</td>\n",
       "    </tr>\n",
       "    <tr>\n",
       "      <th>193585</th>\n",
       "      <td>3.500000</td>\n",
       "      <td>3.491724</td>\n",
       "    </tr>\n",
       "    <tr>\n",
       "      <th>193587</th>\n",
       "      <td>3.500000</td>\n",
       "      <td>3.491724</td>\n",
       "    </tr>\n",
       "    <tr>\n",
       "      <th>193609</th>\n",
       "      <td>4.000000</td>\n",
       "      <td>3.532896</td>\n",
       "    </tr>\n",
       "  </tbody>\n",
       "</table>\n",
       "<p>9724 rows × 2 columns</p>\n",
       "</div>"
      ],
      "text/plain": [
       "           rating  predicted_mean_rating\n",
       "movieId                                 \n",
       "1        3.920930               3.807059\n",
       "2        3.431818               3.580240\n",
       "3        3.259615               3.482260\n",
       "4        2.357143               3.398358\n",
       "5        3.071429               3.248326\n",
       "...           ...                    ...\n",
       "193581   4.000000               3.528741\n",
       "193583   3.500000               3.491724\n",
       "193585   3.500000               3.491724\n",
       "193587   3.500000               3.491724\n",
       "193609   4.000000               3.532896\n",
       "\n",
       "[9724 rows x 2 columns]"
      ]
     },
     "execution_count": 153,
     "metadata": {},
     "output_type": "execute_result"
    }
   ],
   "source": [
    "movie_rating_df"
   ]
  },
  {
   "cell_type": "code",
   "execution_count": null,
   "id": "ad66de77-16cf-416d-be92-c81c52c36e52",
   "metadata": {},
   "outputs": [],
   "source": []
  },
  {
   "cell_type": "code",
   "execution_count": null,
   "id": "16784187-ccb9-474e-bedc-605aa96033e5",
   "metadata": {},
   "outputs": [],
   "source": []
  }
 ],
 "metadata": {
  "kernelspec": {
   "display_name": "Python 3 (ipykernel)",
   "language": "python",
   "name": "python3"
  },
  "language_info": {
   "codemirror_mode": {
    "name": "ipython",
    "version": 3
   },
   "file_extension": ".py",
   "mimetype": "text/x-python",
   "name": "python",
   "nbconvert_exporter": "python",
   "pygments_lexer": "ipython3",
   "version": "3.10.13"
  }
 },
 "nbformat": 4,
 "nbformat_minor": 5
}
