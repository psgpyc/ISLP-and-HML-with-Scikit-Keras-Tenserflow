{
 "cells": [
  {
   "cell_type": "markdown",
   "id": "6f60739f-dbda-432d-82a1-e9d3508078d3",
   "metadata": {},
   "source": [
    "## Collaborative Filtering vs. Content-based Filtering\n",
    "\n",
    "In **Collaborative Filtering**, the algorithm recommends items to the users based on ratings of users who gave similar ratings as the same user.\n",
    "\n",
    "In **content-based filtering** the algorithm recommends items to the user based on features of user and item to find a good match.\n",
    "\n",
    "Now, we will continue to use, \n",
    "\n",
    "$r(i,j) = 1, \\text{if user j has rated item i}$  \n",
    "$y^{(i,j)} = \\text{rating given by user j on item i}$\n",
    "\n",
    "The key idea behind content-based filtering is that we are going to make a good use of features of the items and the user to make prediction on what the user might like. "
   ]
  },
  {
   "cell_type": "markdown",
   "id": "81ca8ab1-0eca-4545-a2fe-a69ebb7f213a",
   "metadata": {},
   "source": [
    "## In case of movie recommendation example,\n",
    "\n",
    "\n",
    "We might have features of an user like,\n",
    "\n",
    "- Age\n",
    "- Gender\n",
    "- Country\n",
    "- Movies Watched\n",
    "- Avg. given ratings per genre\n",
    "We can come up with a user feature vector $X_u^{(j)}$\n",
    "\n",
    "Also, We might have features of movies, \n",
    "- Year of release\n",
    "- Genre/Genres\n",
    "- Reviews\n",
    "- Avg. ratings\n",
    "\n",
    "We can come up with a movie feature vector $X_m^{(i)}$\n"
   ]
  },
  {
   "cell_type": "markdown",
   "id": "39289116-eccf-4c4f-b63a-8318b8557e70",
   "metadata": {},
   "source": [
    "## We are going to predict weather a movie $i$ will be a good match for the user $j$"
   ]
  },
  {
   "cell_type": "markdown",
   "id": "a300ce80-b872-4606-b0fc-1ce2f9ab5f06",
   "metadata": {},
   "source": [
    "### Intuition"
   ]
  },
  {
   "cell_type": "markdown",
   "id": "a7599bbf-feea-4dc0-bfb5-5ccccac9a78a",
   "metadata": {},
   "source": [
    "Consider two vectors,\n",
    "\n",
    "$V_u^{(j)}$ computed from $X_u^{(j)}$  \n",
    "and  \n",
    "$V_m^{(i)}$ computed from $X_m^{(i)}$  \n",
    "\n",
    "\n",
    "These two vectors will capture the preference of the user and and the features of the movies.\n",
    "\n",
    "For example,\n",
    "\n",
    "$V_u^{(1)}$ can be an array of 30, with each element represents a floating point number which approximates the likeliness of a certain movie genre(user preferences).\n",
    "\n",
    "Also, \n",
    "$V_m^{(i)}$ is also a array of size 30(need to be as of same size to compute dot product) which captures the association of the movie with particular genre."
   ]
  },
  {
   "cell_type": "markdown",
   "id": "a03e36c1-806a-4b11-90ae-00371ac7e6d6",
   "metadata": {},
   "source": [
    "### The problem is how can we approximate $V_u^{(j)}$ from $X_u^{(j)}$  and $V_m^{(i)}$  from $X_m^{(i)}$  \n",
    "\n",
    "\n",
    "<img src=\"./screenshots/lerning-top-match.png\" width=\"700\">"
   ]
  },
  {
   "cell_type": "markdown",
   "id": "f722fba8-e9bb-4e19-a3fb-cb4c5e7f3640",
   "metadata": {},
   "source": [
    "## Content-based Filtering Using Neural Networks\n",
    "\n",
    "We will use two neural networks to generate two vectors which when dot producted will give us our predictions.\n",
    "\n",
    "The architecture will be:\n",
    "\n",
    "<img src=\"./screenshots/NN-Architecture-CollaborativeFiltering.png\" width=\"700\">\n",
    "\n",
    "\n",
    "## Cost Function\n",
    "\n"
   ]
  },
  {
   "cell_type": "markdown",
   "id": "95a0f93b-ad37-4a6a-9c79-9187adf40806",
   "metadata": {},
   "source": [
    "$$J=\\sum_{(i,j): r(i,j)=1} (V_u^{(j)} \\cdot V_m^{(i)} - y^{(i,j)})^2 + \\text{NN Regularisation Term}$$"
   ]
  },
  {
   "cell_type": "markdown",
   "id": "52d6bb3d-cf46-4140-b75c-eb822f2a9fa4",
   "metadata": {},
   "source": [
    "## Finiding the similar movies or similar items\n",
    "\n",
    "$ \\bmod(V_m^{(k)} - V_m^{(i)})^ 2$ is small\n",
    "\n",
    "\n"
   ]
  },
  {
   "cell_type": "markdown",
   "id": "05a2ffe8-418f-44a1-a0ac-0c7166b289f9",
   "metadata": {},
   "source": [
    "### Optimising the algorithm for large system: Retroeval & Ranking \n",
    "\n",
    "\n",
    "**Retrieval:**\n",
    "\n",
    "- Generate large list of plausible item candiates\n",
    "    examples:\n",
    "      - For each of the last 10 movies watched by the user, find the 10 must similar  movies\n",
    "      - For the most viewed 3 genres, find the top 10 movies\n",
    "      - Top 20 movies in the country\n",
    "\n",
    "- Combine retrieved items into list, removing duplicates and items already watched/purchased.\n",
    "\n",
    "**Ranking**\n",
    "\n",
    "- Take the list retrieved and rank using learned model\n",
    "- Display ranked items to the user\n",
    "\n",
    "<img src=\"./screenshots/Retrieveal&Ranking.png\" width=\"500\">"
   ]
  },
  {
   "cell_type": "markdown",
   "id": "885bf90d-52ee-4265-84a1-0e4fbcdc0015",
   "metadata": {},
   "source": [
    "## TF implementation\n",
    "\n",
    "```python\n",
    "\n",
    "user_NN = tf.keras.models.Sequential(\n",
    "    [\n",
    "        tf.keras.layers.Dense(256, activation='relu'),\n",
    "        tf.keras.layers.Dense(128, activation='relu')\n",
    "        tf.keras.layers.Dense(32)\n",
    "    ]\n",
    ")\n",
    "\n",
    "\n",
    "item_NN = tf.keras.models.Sequential(\n",
    "    [\n",
    "        tf.keras.layers.Dense(256, activation='relu'),\n",
    "        tf.keras.layers.Dense(128, activation='relu')\n",
    "        tf.keras.layers.Dense(32)\n",
    "    ]\n",
    ")\n",
    "\n",
    "# create user input and point to the base network\n",
    "input_user = tf.keras.layers.Input(shape=(num_user_features))\n",
    "vu = user_NN(input_user)\n",
    "vu = tf.linalg.l2_normalize(vu, axis=1)\n",
    "\n",
    "\n",
    "# create item input and point to the base network\n",
    "input_item = tf.keras.layers.Input(shape=(num_item_features))\n",
    "vm = item_NN(input_user)\n",
    "vm = tf.linalg.l2_normalize(vm, axis=1)\n",
    "\n",
    "\n",
    "# measure the similarity of the two vector outputs\n",
    "output = tf.keras.layers.Dot(axes=1)([vu, vm])\n",
    "\n",
    "# specify the inputs and outputs of the model\n",
    "model = Model([input_user, input_item], output)\n",
    "\n",
    "# specify the cost function\n",
    "cost_fn = tf.keras.losses.MeanSquaredError()\n",
    "\n",
    "\n",
    "```"
   ]
  },
  {
   "cell_type": "code",
   "execution_count": null,
   "id": "cb759320-0354-41af-8604-bc2b77e2219e",
   "metadata": {},
   "outputs": [],
   "source": []
  }
 ],
 "metadata": {
  "kernelspec": {
   "display_name": "Python 3 (ipykernel)",
   "language": "python",
   "name": "python3"
  },
  "language_info": {
   "codemirror_mode": {
    "name": "ipython",
    "version": 3
   },
   "file_extension": ".py",
   "mimetype": "text/x-python",
   "name": "python",
   "nbconvert_exporter": "python",
   "pygments_lexer": "ipython3",
   "version": "3.10.13"
  }
 },
 "nbformat": 4,
 "nbformat_minor": 5
}
