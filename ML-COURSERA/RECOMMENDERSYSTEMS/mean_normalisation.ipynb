{
 "cells": [
  {
   "cell_type": "markdown",
   "id": "f5d85ed3-16fc-4cda-aa69-3e04514fd6cf",
   "metadata": {},
   "source": [
    "**Mean Normalisation will have make predictions for new users who has not yet made any ratings**"
   ]
  },
  {
   "cell_type": "markdown",
   "id": "1c4c4152-28c5-4b76-bbf2-432cc20b596f",
   "metadata": {},
   "source": [
    "1. For each movies, find the average rating.\n",
    "2. Subtracting individual ratings given by the users with the average rating.\n",
    "3. For each user, while making prediction:  \n",
    "      &nbsp;&nbsp; $ w^{(j)}+x^{(i)}+b^{(j)} + \\mu_i$"
   ]
  },
  {
   "cell_type": "markdown",
   "id": "d3c89b4d-93a6-483c-9c6a-ed68aa914a6c",
   "metadata": {},
   "source": [
    "So, even if a new user who has not rated any movies, the algorithm might learn parameters $W = [0,0]$ and $b=0$, Therefore  \n",
    "\n",
    "$\\hat y = \\mu_i$"
   ]
  },
  {
   "cell_type": "code",
   "execution_count": null,
   "id": "9a3c57e5-69b3-4420-8991-42873cb4bab1",
   "metadata": {},
   "outputs": [],
   "source": []
  }
 ],
 "metadata": {
  "kernelspec": {
   "display_name": "Python 3 (ipykernel)",
   "language": "python",
   "name": "python3"
  },
  "language_info": {
   "codemirror_mode": {
    "name": "ipython",
    "version": 3
   },
   "file_extension": ".py",
   "mimetype": "text/x-python",
   "name": "python",
   "nbconvert_exporter": "python",
   "pygments_lexer": "ipython3",
   "version": "3.10.13"
  }
 },
 "nbformat": 4,
 "nbformat_minor": 5
}
