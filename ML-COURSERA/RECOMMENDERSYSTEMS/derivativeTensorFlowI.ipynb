{
 "cells": [
  {
   "cell_type": "code",
   "execution_count": 1,
   "id": "b1d4a377-5b44-4afb-888d-3439707a3d48",
   "metadata": {},
   "outputs": [],
   "source": [
    "import tensorflow as tf"
   ]
  },
  {
   "cell_type": "markdown",
   "id": "224b7201-bc58-4999-b974-32fab0375e4d",
   "metadata": {},
   "source": [
    "Consider a simple function,\n",
    "$f(x) = Wx$\n",
    "\n",
    "If the cost function is, \n",
    "\n",
    "$J(W) = (f(x) - 1)^2$\n",
    "\n",
    "Then gradient descent will be, \n",
    "\n",
    "$W = W - \\alpha \\cdot \\frac{\\partial J(W)}{\\partial W}\n",
    "$\n",
    "\n",
    "## Let us implement this on tensorflow"
   ]
  },
  {
   "cell_type": "code",
   "execution_count": 7,
   "id": "ec8b8b25-2414-4eb9-a230-26cc355339dc",
   "metadata": {},
   "outputs": [],
   "source": [
    "w = tf.Variable(3.0)  #tf.variable() are the parameters we want to optimise\n",
    "x = 1.0\n",
    "alpha = 0.01\n",
    "\n",
    "iterations = 30\n",
    "\n",
    "for iter in range(iterations):\n",
    "    # using tf's Gradient Tape to record the steps\n",
    "\n",
    "    # define the cost function\n",
    "    # used to compute the cost J, to enable auto differentitation\n",
    "    with tf.GradientTape() as tape:\n",
    "        fw = w*x \n",
    "        costJ = (fw - 1)**2\n",
    "\n",
    "    # use the gradient tape to calculate the gradients\n",
    "    # of the cost fucntion with respect to parameter w\n",
    "    [dJdW] = tape.gradient(costJ, [w])\n",
    "\n",
    "    # after the partial derivative term is calculated, run one step of gradient descent\n",
    "    w.assign_add(-alpha * dJdW)"
   ]
  },
  {
   "cell_type": "code",
   "execution_count": 8,
   "id": "1a293abe-2da5-44a2-b092-bbe889ade338",
   "metadata": {},
   "outputs": [
    {
     "data": {
      "text/plain": [
       "<tf.Variable 'Variable:0' shape=() dtype=float32, numpy=2.0909684>"
      ]
     },
     "execution_count": 8,
     "metadata": {},
     "output_type": "execute_result"
    }
   ],
   "source": [
    "w"
   ]
  },
  {
   "cell_type": "code",
   "execution_count": null,
   "id": "aa1b2551-2c5f-459f-af3e-c1eea4fca2b0",
   "metadata": {},
   "outputs": [],
   "source": []
  }
 ],
 "metadata": {
  "kernelspec": {
   "display_name": "Python 3 (ipykernel)",
   "language": "python",
   "name": "python3"
  },
  "language_info": {
   "codemirror_mode": {
    "name": "ipython",
    "version": 3
   },
   "file_extension": ".py",
   "mimetype": "text/x-python",
   "name": "python",
   "nbconvert_exporter": "python",
   "pygments_lexer": "ipython3",
   "version": "3.10.13"
  }
 },
 "nbformat": 4,
 "nbformat_minor": 5
}
