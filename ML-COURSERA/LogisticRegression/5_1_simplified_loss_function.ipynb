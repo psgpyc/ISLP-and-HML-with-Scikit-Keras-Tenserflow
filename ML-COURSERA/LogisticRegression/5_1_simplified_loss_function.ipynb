{
 "cells": [
  {
   "cell_type": "markdown",
   "id": "976962c0-0b81-418e-9419-005b25c27ed7",
   "metadata": {},
   "source": [
    "## We know that the Loss Function for Logistic Regression is:\n",
    "\n",
    "$$\n",
    "L(f_{\\vec{w}, b}(\\vec{x}^{(i)}), y^{(i)}) =\n",
    "\\begin{cases}\n",
    "-\\log(f_{\\vec{w}, b}(\\vec{x}^{(i)})) & \\text{if } y^{(i)} = 1 \\\\\n",
    "-\\log(1 - f_{\\vec{w}, b}(\\vec{x}^{(i)})) & \\text{if } y^{(i)} = 0\n",
    "\\end{cases}\n",
    "$$\n",
    "\n",
    "Where, \n",
    "\n",
    "\n",
    "$$\n",
    "f_{\\vec{w}, b}(\\vec{x}) = \\frac{1}{1 + e^{-(w \\cdot x + b)}}\n",
    "$$"
   ]
  },
  {
   "cell_type": "markdown",
   "id": "4521baa6-bf05-40d2-8625-9c0f62533bd4",
   "metadata": {},
   "source": [
    "### Now, let us simplying this loss function so that impementation is simpler when using gradient descent."
   ]
  },
  {
   "cell_type": "markdown",
   "id": "46d2ad4a-8735-469c-93a0-5dd4b0c2d2d3",
   "metadata": {},
   "source": [
    "$ L(f_{\\vec{w}, b}(\\vec{x}^{(i)}), y^{(i)}) = -y^{(i)} log(f_{\\vec{w}, b}(\\vec{x}^{(i)}))- (1-y^{(i)}) log(1-f_{\\vec{w}, b}(\\vec{x}^{(i)})) $\n",
    "\n",
    "\n",
    "\n",
    "\n"
   ]
  },
  {
   "cell_type": "code",
   "execution_count": null,
   "id": "af973314-cc3c-4417-91b5-cedda30e9767",
   "metadata": {},
   "outputs": [],
   "source": []
  },
  {
   "cell_type": "code",
   "execution_count": null,
   "id": "27de66ba-b782-42c6-a923-20a063a58024",
   "metadata": {},
   "outputs": [],
   "source": []
  },
  {
   "cell_type": "markdown",
   "id": "4362b907-db8c-4286-a3c0-145e339543a8",
   "metadata": {},
   "source": [
    "if $y^{(i)}=1$:\n",
    "\n",
    "\n",
    "$L(f_{\\vec{w}, b}(\\vec{x}^{(i)}), y^{(i)}) = -1 \\cdot log(f_{\\vec w,b}{(\\vec x^{(i)})})$\n",
    "\n",
    "if $y^{(i)}=0$:\n",
    "\n",
    "$L(f_{\\vec{w}, b}(\\vec{x}^{(i)}), y^{(i)}) = -(1-0) \\cdot log(1-f_{\\vec w,b}{(\\vec x^{(i)})})$\n"
   ]
  },
  {
   "cell_type": "markdown",
   "id": "bc26b218-ad00-46f6-9159-2629655c7132",
   "metadata": {},
   "source": [
    "# Simplified Cost Function"
   ]
  },
  {
   "cell_type": "markdown",
   "id": "62d62ab4-e8ab-4d57-bf0a-909c4c0a963d",
   "metadata": {},
   "source": [
    "$J(\\vec w, b) = -\\frac{1}{m} \\sum_{i=1}^m [y^{(i)} log(f_{\\vec{w}, b}(\\vec{x}^{(i)})) + (1-y^{(i)}) log(1-f_{\\vec{w}, b}(\\vec{x}^{(i)}))]$"
   ]
  },
  {
   "cell_type": "markdown",
   "id": "c35b66a9-798d-4026-954a-5eeac4772c47",
   "metadata": {},
   "source": [
    "## Lab"
   ]
  },
  {
   "cell_type": "code",
   "execution_count": 1,
   "id": "c4a336ad-3267-46a3-bcfd-c46e34e6285e",
   "metadata": {},
   "outputs": [],
   "source": [
    "import numpy as np\n",
    "import pandas as pd\n",
    "import matplotlib.pyplot as plt"
   ]
  },
  {
   "cell_type": "markdown",
   "id": "946be86f-d723-4a04-9954-38a6cba04d93",
   "metadata": {},
   "source": [
    "#### Dataset\n",
    "\n"
   ]
  },
  {
   "cell_type": "code",
   "execution_count": 21,
   "id": "2b8566eb-bb28-4ddb-86e7-d96fe878e07c",
   "metadata": {},
   "outputs": [],
   "source": [
    "X_train = np.array([[0.5, 1.5], [1,1], [1.5, 0.5], [3, 0.5], [2, 2], [1, 2.5]])  #(m,n)\n",
    "y_train = np.array([0, 0, 0, 1, 1, 1])  "
   ]
  },
  {
   "cell_type": "code",
   "execution_count": 22,
   "id": "76547206-0b20-4fb2-a2fe-a81d2b17b4f2",
   "metadata": {},
   "outputs": [],
   "source": [
    "x0 = X_train[:, 0]\n",
    "x1 = X_train[:,1]"
   ]
  },
  {
   "cell_type": "code",
   "execution_count": 23,
   "id": "9ca15667-b4fa-40da-8702-79cc74de6516",
   "metadata": {},
   "outputs": [
    {
     "data": {
      "text/plain": [
       "<matplotlib.legend.Legend at 0x117bc9430>"
      ]
     },
     "execution_count": 23,
     "metadata": {},
     "output_type": "execute_result"
    },
    {
     "data": {
      "image/png": "[encoded data removed]",
      "text/plain": [
       "<Figure size 600x500 with 1 Axes>"
      ]
     },
     "metadata": {},
     "output_type": "display_data"
    }
   ],
   "source": [
    "fig, ax = plt.subplots(figsize=(6,5))\n",
    "ax.scatter(x0[:3], x1[:3], marker='o', label=\"y=1\")\n",
    "ax.scatter(x0[3::], x1[3:], marker='x', label=\"y=0\")\n",
    "\n",
    "ax.set_xlabel(\"$x_0$\")\n",
    "ax.set_ylabel(\"$x_1$\")\n",
    "\n",
    "ax.legend()"
   ]
  },
  {
   "cell_type": "code",
   "execution_count": 37,
   "id": "7bfa0d92-8c8f-4967-88d0-613d2cfe051f",
   "metadata": {},
   "outputs": [],
   "source": [
    "def sigmoid(z):\n",
    "    g = 1/(1+np.exp(-z))\n",
    "\n",
    "    return g"
   ]
  },
  {
   "cell_type": "code",
   "execution_count": 29,
   "id": "a97d5f01-4d80-46a0-81f1-17b5431b00f7",
   "metadata": {},
   "outputs": [],
   "source": [
    "def compute_cost_logistic(X, y, w, b):\n",
    "    \"\"\"\n",
    "    Computes cost for gradient descent\n",
    "\n",
    "    Args:\n",
    "      X (ndarray (m,n)): Data, m examples with n features\n",
    "      y (ndarray (m,)) : target values\n",
    "      w (ndarray (n,)) : model parameters  \n",
    "      b (scalar)       : model parameter\n",
    "      \n",
    "    Returns:\n",
    "      cost (scalar): cost\n",
    "\n",
    "    \"\"\"\n",
    "    m = X.shape[0]\n",
    "    cost = 0.0\n",
    "    for i in range(m):\n",
    "        z_i = np.dot(X[i], w) + b\n",
    "        f_wb_i = sigmoid(z_i)\n",
    "\n",
    "        cost += -y[i] * np.log(f_wb_i) - (1-y[i]) * np.log(1-f_wb_i)\n",
    "\n",
    "    cost = cost/m\n",
    "    return cost\n",
    "        "
   ]
  },
  {
   "cell_type": "code",
   "execution_count": 30,
   "id": "cf73cca6-8ca1-4b19-bdeb-516895e00853",
   "metadata": {},
   "outputs": [
    {
     "data": {
      "text/plain": [
       "0.36686678640551745"
      ]
     },
     "execution_count": 30,
     "metadata": {},
     "output_type": "execute_result"
    }
   ],
   "source": [
    "w_temp = np.array([1,1])\n",
    "b_temp = -3\n",
    "\n",
    "compute_cost_logistic(X_train, y_train, w_temp, b_temp)"
   ]
  },
  {
   "cell_type": "markdown",
   "id": "9782ed58-cfc6-4af7-9111-a531bc3885cc",
   "metadata": {},
   "source": [
    "For the given value of w and b, lets plot the decision boundary:\n",
    "\n",
    "$x_0 + x_1 -3 = 0$\n",
    "\n",
    "so, \n",
    "\n",
    "$x_1 = 3-x_0$\n",
    "\n",
    "Consider a new value for w and b, \n",
    "\n",
    "\n",
    "$b = -4$ and $w_0 = 1$ and $w_1=1$,\n",
    "\n",
    "so $x_1=4-x_0$"
   ]
  },
  {
   "cell_type": "code",
   "execution_count": 33,
   "id": "d0d4435a-cd33-42d8-9f61-90c040880d31",
   "metadata": {},
   "outputs": [],
   "source": [
    "x0p = np.arange(0,6)\n",
    "x1p = 3 - x0p\n",
    "\n",
    "x2p = 4 - x0p"
   ]
  },
  {
   "cell_type": "code",
   "execution_count": 35,
   "id": "befbb046-13b8-4fbc-8116-374c89ed7f7a",
   "metadata": {},
   "outputs": [
    {
     "data": {
      "text/plain": [
       "<matplotlib.legend.Legend at 0x124072960>"
      ]
     },
     "execution_count": 35,
     "metadata": {},
     "output_type": "execute_result"
    },
    {
     "data": {
      "image/png": "[encoded data removed]",
      "text/plain": [
       "<Figure size 600x500 with 1 Axes>"
      ]
     },
     "metadata": {},
     "output_type": "display_data"
    }
   ],
   "source": [
    "fig, ax = plt.subplots(figsize=(6,5))\n",
    "ax.scatter(x0[:3], x1[:3], marker='o', label=\"y=1\")\n",
    "ax.scatter(x0[3::], x1[3:], marker='x', label=\"y=0\")\n",
    "\n",
    "ax.plot(x0p, x1p, c='b')\n",
    "ax.plot(x0p, x2p, c='r')\n",
    "\n",
    "ax.set_xlabel(\"$x_0$\")\n",
    "ax.set_ylabel(\"$x_1$\")\n",
    "\n",
    "ax.legend()"
   ]
  },
  {
   "cell_type": "markdown",
   "id": "bbf5318e-597f-4489-85b9-0d066a5a120e",
   "metadata": {},
   "source": [
    "As we can see that, $b = -4$ and $w_0 = 1$ and $w_1=1$, is not a good model.\n",
    "\n",
    "Let us verify this with cost function:"
   ]
  },
  {
   "cell_type": "code",
   "execution_count": 36,
   "id": "e9a008f8-1181-41a6-a8d9-280f5ee60cf5",
   "metadata": {},
   "outputs": [
    {
     "name": "stdout",
     "output_type": "stream",
     "text": [
      "Cost for b = -3 :  0.36686678640551745\n",
      "Cost for b = -4 :  0.5036808636748461\n"
     ]
    }
   ],
   "source": [
    "w_array1 = np.array([1,1])\n",
    "b_1 = -3\n",
    "w_array2 = np.array([1,1])\n",
    "b_2 = -4\n",
    "\n",
    "print(\"Cost for b = -3 : \", compute_cost_logistic(X_train, y_train, w_array1, b_1))\n",
    "print(\"Cost for b = -4 : \", compute_cost_logistic(X_train, y_train, w_array2, b_2))"
   ]
  },
  {
   "cell_type": "markdown",
   "id": "0b70de10-b4a3-49a2-a896-d63bd4f7f5b2",
   "metadata": {},
   "source": [
    "\n",
    "\n",
    "We can see the cost function behaves as expected and the cost for `b = -4, w = np.array([1,1])` is indeed higher than the cost for `b = -3, w = np.array([1,1])`"
   ]
  },
  {
   "cell_type": "code",
   "execution_count": null,
   "id": "695dd6ae-c89e-4baa-8278-44027e750637",
   "metadata": {},
   "outputs": [],
   "source": []
  }
 ],
 "metadata": {
  "kernelspec": {
   "display_name": "Python 3 (ipykernel)",
   "language": "python",
   "name": "python3"
  },
  "language_info": {
   "codemirror_mode": {
    "name": "ipython",
    "version": 3
   },
   "file_extension": ".py",
   "mimetype": "text/x-python",
   "name": "python",
   "nbconvert_exporter": "python",
   "pygments_lexer": "ipython3",
   "version": "3.12.7"
  }
 },
 "nbformat": 4,
 "nbformat_minor": 5
}
