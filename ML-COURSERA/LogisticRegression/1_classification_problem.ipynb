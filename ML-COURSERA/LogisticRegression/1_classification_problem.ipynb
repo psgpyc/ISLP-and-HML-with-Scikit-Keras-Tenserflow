{
 "cells": [
  {
   "cell_type": "markdown",
   "id": "122601ec-8b8a-4fb8-8eec-e74126050311",
   "metadata": {},
   "source": [
    "## Classification"
   ]
  },
  {
   "cell_type": "markdown",
   "id": "ee5b0d01-9a34-4383-8b99-09145d8bee99",
   "metadata": {},
   "source": [
    "A classification problem in machine learning involves predicting a discrete label or category for given input data. The task is to assign one of a predefined set of classes to an input based on its features.\n",
    "\n",
    "Key Features of Classification Problems:\n",
    "\n",
    "\t1.\tDiscrete Outputs: The target variable (output) consists of distinct categories or classes.\n",
    "    \n",
    "\t2.\tSupervised Learning: Typically involves labeled training data, \n",
    "                                 where each input is paired with its corresponding category.\n",
    "    \n",
    "\t3.\tDecision Boundaries: The model learns to draw boundaries in the feature space to separate different \n",
    "                                    classes.\n",
    "\n",
    "Examples of Classification Problems:\n",
    "\n",
    "\t1.\tBinary Classification: Two classes.\n",
    "        \n",
    "\t2.\tMulticlass Classification: More than two classes.\n",
    "    \n",
    "\t3.\tMultilabel Classification: Each input can belong to multiple classes simultaneously.\n",
    "    \n",
    "Algorithms for Classification:\n",
    "\n",
    "\t•\tLinear Models: Logistic regression.\n",
    "\t•\tTree-Based Methods: Decision trees, Random Forests, Gradient Boosted Trees.\n",
    "\t•\tSupport Vector Machines (SVM).\n",
    "\t•\tNeural Networks: Especially for complex tasks like image or speech classification.\n",
    "\t•\tNaive Bayes Classifiers.\n"
   ]
  },
  {
   "cell_type": "code",
   "execution_count": null,
   "id": "66864e28-7906-4c0a-8825-134ec45d9493",
   "metadata": {},
   "outputs": [],
   "source": []
  }
 ],
 "metadata": {
  "kernelspec": {
   "display_name": "Python 3 (ipykernel)",
   "language": "python",
   "name": "python3"
  },
  "language_info": {
   "codemirror_mode": {
    "name": "ipython",
    "version": 3
   },
   "file_extension": ".py",
   "mimetype": "text/x-python",
   "name": "python",
   "nbconvert_exporter": "python",
   "pygments_lexer": "ipython3",
   "version": "3.12.7"
  }
 },
 "nbformat": 4,
 "nbformat_minor": 5
}
