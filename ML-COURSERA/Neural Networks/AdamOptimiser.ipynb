{
 "cells": [
  {
   "cell_type": "markdown",
   "id": "813c7f27-3c13-4719-848c-c7c69199fe9d",
   "metadata": {},
   "source": [
    "## ADAM: Adaptive Moment Estimation\n",
    "\n",
    "The idea is, instead of just taking one value for learning rate $\\alpha$, we take seperate learning rate $\\alpha$ for each parameter $W$ and $b$.\n",
    "\n",
    "If $W_j$ (or $b$) keeps moving in the same direction, increase $\\alpha_j$\n",
    "\n",
    "If $W_j$ (or $b$) keeps oscillating, reduce $\\alpha_j$"
   ]
  },
  {
   "cell_type": "markdown",
   "id": "9165d121-a551-4fef-9d4d-f89bcca5244e",
   "metadata": {},
   "source": [
    "In code, \n",
    "\n",
    "```python\n",
    "\n",
    "model = Sequential([\n",
    "\n",
    "    Dense(unites=25, activation='sigmoid'),\n",
    "    Dense(unites=15, activation='sigmoid'),\n",
    "    Dense(unites=10, activation='linear'),\n",
    "])\n",
    "\n",
    "model.compile(\n",
    "             optimizer=tf.keras.optimizers.Adam(learning_rate=1e-3),\n",
    "             loss = tf.keras.losses.SparseCategoricalCrossentropy(from_logits=True)\n",
    "             )\n",
    "\n",
    "model.fit(X,Y, epochs=100)\n",
    "```"
   ]
  },
  {
   "cell_type": "code",
   "execution_count": null,
   "id": "e79ae4fd-f275-4071-9f7e-0dc3e1f33919",
   "metadata": {},
   "outputs": [],
   "source": []
  }
 ],
 "metadata": {
  "kernelspec": {
   "display_name": "Python 3 (ipykernel)",
   "language": "python",
   "name": "python3"
  },
  "language_info": {
   "codemirror_mode": {
    "name": "ipython",
    "version": 3
   },
   "file_extension": ".py",
   "mimetype": "text/x-python",
   "name": "python",
   "nbconvert_exporter": "python",
   "pygments_lexer": "ipython3",
   "version": "3.10.13"
  }
 },
 "nbformat": 4,
 "nbformat_minor": 5
}
