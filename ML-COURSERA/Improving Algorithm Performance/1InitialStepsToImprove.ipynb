{
 "cells": [
  {
   "cell_type": "markdown",
   "id": "27722551-cf61-483e-b74c-e298e150fc96",
   "metadata": {},
   "source": [
    "**You have implemented regularized linear regression on a dataset:**\n",
    "\n",
    "$$J(\\vec w, b) = \\frac{1}{2m} \\sum_{i=1}^{m} (f_{\\vec w , b}{(\\vec X^{(i)} - y^{(i)})})^2 + \\frac{\\lambda}{2m}\\sum_{j=1}^{n} W_j^2$$\n",
    "\n",
    "But it makes unacceptably large errors in predictions. What to try next?\n",
    "\n",
    "- Get more training examples\n",
    "- Try smaller set of features\n",
    "- Try getting additional features\n",
    "- Try adding polynomial features $x_1^2, x_2^2, x_1, x_2...$\n",
    "- Try decreasing $\\lambda$\n",
    "- Try increasing $\\lambda$"
   ]
  },
  {
   "cell_type": "code",
   "execution_count": null,
   "id": "6bd7301a-b3d1-4352-9852-d5c46a99d419",
   "metadata": {},
   "outputs": [],
   "source": []
  }
 ],
 "metadata": {
  "kernelspec": {
   "display_name": "Python 3 (ipykernel)",
   "language": "python",
   "name": "python3"
  },
  "language_info": {
   "codemirror_mode": {
    "name": "ipython",
    "version": 3
   },
   "file_extension": ".py",
   "mimetype": "text/x-python",
   "name": "python",
   "nbconvert_exporter": "python",
   "pygments_lexer": "ipython3",
   "version": "3.10.13"
  }
 },
 "nbformat": 4,
 "nbformat_minor": 5
}
