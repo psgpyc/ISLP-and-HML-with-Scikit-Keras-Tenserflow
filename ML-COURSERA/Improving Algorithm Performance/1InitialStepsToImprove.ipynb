{
 "cells": [
  {
   "cell_type": "markdown",
   "id": "27722551-cf61-483e-b74c-e298e150fc96",
   "metadata": {},
   "source": [
    "**You have implemented regularized linear regression on a dataset:**\n",
    "\n",
    "$$J(\\vec w, b) = \\frac{1}{2m} \\sum_{i=1}^{m} (f_{\\vec w , b}{(\\vec X^{(i)} - y^{(i)})})^2 + \\frac{\\lambda}{2m}\\sum_{j=1}^{n} W_j^2$$\n",
    "\n",
    "But it makes unacceptably large errors in predictions. What to try next?\n",
    "\n",
    "- Get more training examples: fixes high variance problem\n",
    "- Try smaller set of features: fixes high variance problem\n",
    "- Try getting additional features: fixes high bias\n",
    "- Try adding polynomial features $x_1^2, x_2^2, x_1, x_2...$: fixes high bias\n",
    "- Try decreasing $\\lambda$: fixes high bias\n",
    "- Try increasing $\\lambda$: fixes high variance\n",
    "  "
   ]
  },
  {
   "cell_type": "markdown",
   "id": "d15a119e-d08e-423e-a58e-a31830eb2e26",
   "metadata": {},
   "source": [
    "Higher value of $\\lambda$ makes the curve less wiggly and adds more rigidity to the data."
   ]
  },
  {
   "cell_type": "code",
   "execution_count": null,
   "id": "e37f94ec-fb61-45d0-b22d-75e861061a43",
   "metadata": {},
   "outputs": [],
   "source": []
  }
 ],
 "metadata": {
  "kernelspec": {
   "display_name": "Python 3 (ipykernel)",
   "language": "python",
   "name": "python3"
  },
  "language_info": {
   "codemirror_mode": {
    "name": "ipython",
    "version": 3
   },
   "file_extension": ".py",
   "mimetype": "text/x-python",
   "name": "python",
   "nbconvert_exporter": "python",
   "pygments_lexer": "ipython3",
   "version": "3.10.13"
  }
 },
 "nbformat": 4,
 "nbformat_minor": 5
}
