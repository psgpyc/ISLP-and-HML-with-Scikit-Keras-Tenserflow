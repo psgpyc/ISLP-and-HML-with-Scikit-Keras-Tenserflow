{
 "cells": [
  {
   "cell_type": "code",
   "execution_count": 1,
   "id": "ac140689-a62d-4d52-8075-9c52da9da00e",
   "metadata": {},
   "outputs": [],
   "source": [
    "import numpy as np\n",
    "import pandas as pd\n",
    "import matplotlib.pyplot as plt\n",
    "from sklearn.linear_model import LinearRegression\n",
    "from sklearn.preprocessing import StandardScaler, PolynomialFeatures\n",
    "from sklearn.model_selection import train_test_split\n",
    "from sklearn.metrics import mean_squared_error"
   ]
  },
  {
   "cell_type": "code",
   "execution_count": 22,
   "id": "ba58cce3-d700-4460-84f0-4a6912768d87",
   "metadata": {},
   "outputs": [],
   "source": [
    "import tensorflow as tf\n",
    "from tensorflow.keras import Sequential\n",
    "from tensorflow.keras.layers import Dense\n",
    "\n"
   ]
  },
  {
   "cell_type": "code",
   "execution_count": 14,
   "id": "1de5dd18-c8d0-4a2d-9875-e2ccf24ce03c",
   "metadata": {},
   "outputs": [],
   "source": [
    "df = pd.read_csv(\"./datasets/data_csv.csv\")\n",
    "\n",
    "x = df.iloc[:, 0]\n",
    "y = df.iloc[:, 1]\n",
    "\n",
    "x = np.expand_dims(x, 1)\n",
    "y = np.expand_dims(y, 1)"
   ]
  },
  {
   "cell_type": "code",
   "execution_count": 15,
   "id": "2d29a54d-171e-48bd-9fe2-85b73ba1c33e",
   "metadata": {},
   "outputs": [],
   "source": [
    "x_train, x_, y_train, y_ = train_test_split(x, y, test_size=0.4, random_state=1)"
   ]
  },
  {
   "cell_type": "code",
   "execution_count": 16,
   "id": "adaa5289-78dd-4d09-afde-a0440c075d65",
   "metadata": {},
   "outputs": [],
   "source": [
    "x_cv, x_test, y_cv, y_test = train_test_split(x_, y_, test_size=0.5, random_state=1)"
   ]
  },
  {
   "cell_type": "code",
   "execution_count": 17,
   "id": "146dbb46-e1e8-4c01-9fb5-a96227ce40a6",
   "metadata": {},
   "outputs": [],
   "source": [
    "del x_, y_"
   ]
  },
  {
   "cell_type": "code",
   "execution_count": 18,
   "id": "a962ef86-25d5-4e7c-aead-598cfe8b3f06",
   "metadata": {},
   "outputs": [],
   "source": [
    "## Adding polynomial Features\n",
    "degree = 1\n",
    "poly = PolynomialFeatures(degree, include_bias=False)\n",
    "x_train_mapped = poly.fit_transform(x_train)\n",
    "x_cv_mapped = poly.transform(x_cv)\n",
    "x_test_mapped = poly.transform(x_test)"
   ]
  },
  {
   "cell_type": "code",
   "execution_count": 20,
   "id": "70946b47-1a5b-4a0d-ac06-f46ee3b6a4be",
   "metadata": {},
   "outputs": [],
   "source": [
    "## Scaling the features\n",
    "\n",
    "scaler = StandardScaler()\n",
    "x_train_mapped_scaled = scaler.fit_transform(x_train_mapped)\n",
    "x_cv_mapped_scaled = scaler.transform(x_cv_mapped)\n",
    "x_test_mapped_scaled = scaler.transform(x_test_mapped)"
   ]
  },
  {
   "cell_type": "markdown",
   "id": "bdd5cff4-ab42-4ff9-8f54-331565861c9d",
   "metadata": {},
   "source": [
    "## Building the NN models"
   ]
  },
  {
   "cell_type": "code",
   "execution_count": 58,
   "id": "77693c00-2ae1-4b3a-bc36-0d199ce455bf",
   "metadata": {},
   "outputs": [],
   "source": [
    "# units for each layer of each model\n",
    "units = [[25,15,1], [20,12,12,20,1], [32,16,8,4,12,1]]"
   ]
  },
  {
   "cell_type": "code",
   "execution_count": 59,
   "id": "2e39dcb7-5ac9-4eda-8f6c-c93059b39f1e",
   "metadata": {},
   "outputs": [
    {
     "name": "stdout",
     "output_type": "stream",
     "text": [
      "<keras.engine.sequential.Sequential object at 0x15e064c70>\n",
      "<keras.engine.sequential.Sequential object at 0x15de9d8d0>\n",
      "<keras.engine.sequential.Sequential object at 0x15e067850>\n"
     ]
    }
   ],
   "source": [
    "nn_models = []\n",
    "for each in units:\n",
    "    dense_layers = []\n",
    "    for layers_units in range(len(each)):\n",
    "        if each[layers_units] == 1:\n",
    "            dense_layers.append(Dense(units=each[layers_units], activation=\"linear\"))\n",
    "        else:\n",
    "            dense_layers.append(Dense(units=each[layers_units], activation=\"relu\"))\n",
    "\n",
    "    model = Sequential(dense_layers)\n",
    "    print(model)\n",
    "    nn_models.append(model)\n",
    "    "
   ]
  },
  {
   "cell_type": "code",
   "execution_count": 60,
   "id": "99f12996-eeaa-4945-b304-e05b225927c8",
   "metadata": {},
   "outputs": [],
   "source": [
    "nn_train_mses = []\n",
    "nn_cv_mses = []"
   ]
  },
  {
   "cell_type": "code",
   "execution_count": 61,
   "id": "b16e5c9f-7340-4070-8d36-b54195a864e8",
   "metadata": {},
   "outputs": [
    {
     "name": "stdout",
     "output_type": "stream",
     "text": [
      "Training model...\n"
     ]
    },
    {
     "name": "stderr",
     "output_type": "stream",
     "text": [
      "2025-01-20 13:20:45.971911: W tensorflow/tsl/platform/profile_utils/cpu_utils.cc:128] Failed to get CPU frequency: 0 Hz\n"
     ]
    },
    {
     "name": "stdout",
     "output_type": "stream",
     "text": [
      "Training finished \n",
      "\n",
      "1/1 [==============================] - 0s 27ms/step\n",
      "1/1 [==============================] - 0s 5ms/step\n",
      "Training model...\n",
      "Training finished \n",
      "\n",
      "1/1 [==============================] - 0s 16ms/step\n",
      "1/1 [==============================] - 0s 5ms/step\n",
      "Training model...\n",
      "Training finished \n",
      "\n",
      "1/1 [==============================] - 0s 16ms/step\n",
      "1/1 [==============================] - 0s 5ms/step\n"
     ]
    }
   ],
   "source": [
    "for models in nn_models:\n",
    "    model.compile(\n",
    "        loss=\"mse\",\n",
    "        optimizer = tf.keras.optimizers.Adam(learning_rate=0.1)\n",
    "    )\n",
    "    print(f\"Training model...\")\n",
    "    model.fit(\n",
    "        x_train_mapped_scaled, \n",
    "        y_train,\n",
    "        epochs=300,\n",
    "        verbose=0\n",
    "    )\n",
    "    print(\"Training finished \\n\")\n",
    "\n",
    "    # find the training MSEs\n",
    "    yhat = model.predict(x_train_mapped_scaled)\n",
    "    train_mse = mean_squared_error(y_train, yhat) / 2\n",
    "    nn_train_mses.append(train_mse)\n",
    "\n",
    "    # find corss validation MSEs\n",
    "    yhat_cv = model.predict(x_cv_mapped_scaled)\n",
    "    cv_mse = mean_squared_error(y_cv, yhat_cv) / 2\n",
    "    nn_cv_mses.append(cv_mse)"
   ]
  },
  {
   "cell_type": "code",
   "execution_count": 62,
   "id": "b2e3b8c1-0610-46ab-b44d-899d8f8708d6",
   "metadata": {},
   "outputs": [
    {
     "name": "stdout",
     "output_type": "stream",
     "text": [
      "RESULTS:\n",
      "Model 1: Training MSE: 75.39, CV MSE: 98.89\n",
      "Model 2: Training MSE: 73.25, CV MSE: 100.25\n",
      "Model 3: Training MSE: 43.08, CV MSE: 73.80\n"
     ]
    }
   ],
   "source": [
    "# print results\n",
    "print(\"RESULTS:\")\n",
    "for model_num in range(len(nn_train_mses)):\n",
    "    print(\n",
    "        f\"Model {model_num+1}: Training MSE: {nn_train_mses[model_num]:.2f}, \" +\n",
    "        f\"CV MSE: {nn_cv_mses[model_num]:.2f}\"\n",
    "        )"
   ]
  },
  {
   "cell_type": "code",
   "execution_count": 64,
   "id": "4fc9192d-bc45-48b2-8314-cecd614ab6f5",
   "metadata": {},
   "outputs": [
    {
     "name": "stdout",
     "output_type": "stream",
     "text": [
      "1/1 [==============================] - 0s 11ms/step\n",
      "Selected Model: 3\n",
      "Training MSE: 43.08\n",
      "Cross Validation MSE: 73.80\n",
      "Test MSE: 91.44\n"
     ]
    }
   ],
   "source": [
    "# Select the model with the lowest CV MSE\n",
    "model_num = 3\n",
    "\n",
    "# Compute the test MSE\n",
    "yhat = nn_models[model_num-1].predict(x_test_mapped_scaled)\n",
    "test_mse = mean_squared_error(y_test, yhat) / 2\n",
    "\n",
    "print(f\"Selected Model: {model_num}\")\n",
    "print(f\"Training MSE: {nn_train_mses[model_num-1]:.2f}\")\n",
    "print(f\"Cross Validation MSE: {nn_cv_mses[model_num-1]:.2f}\")\n",
    "print(f\"Test MSE: {test_mse:.2f}\")"
   ]
  },
  {
   "cell_type": "code",
   "execution_count": null,
   "id": "9932a5bb-8c39-42d0-b981-2daad41cc07e",
   "metadata": {},
   "outputs": [],
   "source": []
  }
 ],
 "metadata": {
  "kernelspec": {
   "display_name": "Python 3 (ipykernel)",
   "language": "python",
   "name": "python3"
  },
  "language_info": {
   "codemirror_mode": {
    "name": "ipython",
    "version": 3
   },
   "file_extension": ".py",
   "mimetype": "text/x-python",
   "name": "python",
   "nbconvert_exporter": "python",
   "pygments_lexer": "ipython3",
   "version": "3.10.13"
  }
 },
 "nbformat": 4,
 "nbformat_minor": 5
}
