{
 "cells": [
  {
   "cell_type": "markdown",
   "id": "ff159d36-5c22-46f4-a05b-49619c8140a8",
   "metadata": {},
   "source": [
    "### Gaussian Features\n",
    "\n",
    "Always look for features that follows normal distribution. \n",
    "\n",
    "And if it does not, may be try taking $log$ of the features to get a normal distribution"
   ]
  },
  {
   "cell_type": "markdown",
   "id": "7f19daef-6236-43b5-aae6-1840403b6562",
   "metadata": {},
   "source": [
    "Use logarithmic or exponential functions to get a normal distribution\n",
    "\n",
    "$log(x_1)$  \n",
    "$log(x_1 + c)$  \n",
    "$\\sqrt{x_1}$ or $x_1^{(\\frac{1}{2})}$  \n",
    "$x_1^{\\frac{1}{3}}$"
   ]
  },
  {
   "cell_type": "code",
   "execution_count": null,
   "id": "111a092c-b13b-4068-bdd4-51d5c6678cba",
   "metadata": {},
   "outputs": [],
   "source": []
  }
 ],
 "metadata": {
  "kernelspec": {
   "display_name": "Python 3 (ipykernel)",
   "language": "python",
   "name": "python3"
  },
  "language_info": {
   "codemirror_mode": {
    "name": "ipython",
    "version": 3
   },
   "file_extension": ".py",
   "mimetype": "text/x-python",
   "name": "python",
   "nbconvert_exporter": "python",
   "pygments_lexer": "ipython3",
   "version": "3.12.7"
  }
 },
 "nbformat": 4,
 "nbformat_minor": 5
}
