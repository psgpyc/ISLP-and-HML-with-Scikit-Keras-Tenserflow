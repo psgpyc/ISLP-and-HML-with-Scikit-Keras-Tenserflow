{
 "cells": [
  {
   "cell_type": "markdown",
   "id": "b0c8acda-e470-427e-9fa1-5f524b0152df",
   "metadata": {},
   "source": [
    "# Decision Tree Learning\n",
    "\n",
    "1. Start with all the examples at the root node.\n",
    "2. Calculate Information Gain for all possible features, and pick the one with the highest information gain.\n",
    "3. Split dataset accordingly to selected feature, and create left and right branches of the tree.\n",
    "4. Keep repeating splitting process until stopping criteria is met:\n",
    "   - When a node is 100% one class\n",
    "   - When splitting a node will result in the tree exceeding a maximum depth\n",
    "   - Information gain from additional splits is less than threshold\n",
    "   - When number of examples in a node is below a threshold\n"
   ]
  },
  {
   "cell_type": "code",
   "execution_count": null,
   "id": "09d95f35-43d1-4ab4-ad00-5c4d110ffc4f",
   "metadata": {},
   "outputs": [],
   "source": []
  }
 ],
 "metadata": {
  "kernelspec": {
   "display_name": "Python 3 (ipykernel)",
   "language": "python",
   "name": "python3"
  },
  "language_info": {
   "codemirror_mode": {
    "name": "ipython",
    "version": 3
   },
   "file_extension": ".py",
   "mimetype": "text/x-python",
   "name": "python",
   "nbconvert_exporter": "python",
   "pygments_lexer": "ipython3",
   "version": "3.10.13"
  }
 },
 "nbformat": 4,
 "nbformat_minor": 5
}
